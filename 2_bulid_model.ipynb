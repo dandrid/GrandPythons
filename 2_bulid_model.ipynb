{
  "nbformat": 4,
  "nbformat_minor": 0,
  "metadata": {
    "kernelspec": {
      "display_name": "Python 3",
      "language": "python",
      "name": "python3"
    },
    "language_info": {
      "codemirror_mode": {
        "name": "ipython",
        "version": 3
      },
      "file_extension": ".py",
      "mimetype": "text/x-python",
      "name": "python",
      "nbconvert_exporter": "python",
      "pygments_lexer": "ipython3",
      "version": "3.7.3"
    },
    "colab": {
      "name": "Copy of 2_bulid_model.ipynb",
      "provenance": [],
      "collapsed_sections": []
    }
  },
  "cells": [
    {
      "cell_type": "code",
      "metadata": {
        "id": "GixpfdbulYJx",
        "colab_type": "code",
        "colab": {}
      },
      "source": [
        "# helper to download the Data Set from Google Drive\n",
        "\n",
        "import requests\n",
        "import os\n",
        "\n",
        "def download_file_from_google_drive(id, destination):\n",
        "    URL = \"https://docs.google.com/uc?export=download\"\n",
        "\n",
        "    session = requests.Session()\n",
        "\n",
        "    response = session.get(URL, params = { 'id' : id }, stream = True)\n",
        "    token = get_confirm_token(response)\n",
        "\n",
        "    if token:\n",
        "        params = { 'id' : id, 'confirm' : token }\n",
        "        response = session.get(URL, params = params, stream = True)\n",
        "\n",
        "    save_response_content(response, destination)    \n",
        "\n",
        "def get_confirm_token(response):\n",
        "    for key, value in response.cookies.items():\n",
        "        if key.startswith('download_warning'):\n",
        "            return value\n",
        "\n",
        "    return None\n",
        "\n",
        "def save_response_content(response, destination):\n",
        "    CHUNK_SIZE = 32768\n",
        "\n",
        "    with open(destination, \"wb\") as f:\n",
        "        for chunk in response.iter_content(CHUNK_SIZE):\n",
        "            if chunk: # filter out keep-alive new chunks\n",
        "                f.write(chunk)\n"
      ],
      "execution_count": 0,
      "outputs": []
    },
    {
      "cell_type": "code",
      "metadata": {
        "id": "8EtcQHD_lYJ5",
        "colab_type": "code",
        "colab": {}
      },
      "source": [
        "# RAVDESS_original.zip https://drive.google.com/open?id=1WyJsDuxJlUObBCFrNZLAXM2w4-sp0CxN\n",
        "# file_id = '1WyJsDuxJlUObBCFrNZLAXM2w4-sp0CxN'\n",
        "\n",
        "# RAVDESS_trimmed.zip https://drive.google.com/open?id=1pFum_YGf2C82HJvMwt0gi8apj6PJLi0s\n",
        "#file_id = '1pFum_YGf2C82HJvMwt0gi8apj6PJLi0s'\n",
        "\n",
        "# RAVDESS_enriched.zip https://drive.google.com/open?id=1LG42oQTSs6HWMLsdqhFKbADA2wi8234_\n",
        "# file_id = '1LG42oQTSs6HWMLsdqhFKbADA2wi8234_'\n",
        "\n",
        "# RAVDESS_spectogram.zip https://drive.google.com/open?id=1jDb2GDnapxx-5bhRR4rudVLxd4ajrpF-\n",
        "# file_id = '1jDb2GDnapxx-5bhRR4rudVLxd4ajrpF-'\n",
        "\n",
        "# RAVDESS_train.zip https://drive.google.com/open?id=1a2TRcqj5ySMWwetfU3Zgq4FE-highOKK\n",
        "file_id = '1a2TRcqj5ySMWwetfU3Zgq4FE-highOKK'\n",
        "\n",
        "destination = 'RAVDESS.zip'\n",
        "\n",
        "if not os.path.exists(destination):\n",
        "    download_file_from_google_drive(file_id, destination)"
      ],
      "execution_count": 0,
      "outputs": []
    },
    {
      "cell_type": "code",
      "metadata": {
        "id": "trFKz6nOlYJ-",
        "colab_type": "code",
        "outputId": "75b554bf-2a69-4792-8486-cbed2a12b6e5",
        "colab": {
          "base_uri": "https://localhost:8080/",
          "height": 105
        }
      },
      "source": [
        "!ls -lh"
      ],
      "execution_count": 0,
      "outputs": [
        {
          "output_type": "stream",
          "text": [
            "total 506M\n",
            "drwxr-xr-x 3 root root 4.0K Nov 19 11:10 RAVDESS\n",
            "-rw-r--r-- 1 root root 506M Nov 19 11:10 RAVDESS.zip\n",
            "drwxr-xr-x 1 root root 4.0K Nov 15 16:31 sample_data\n"
          ],
          "name": "stdout"
        }
      ]
    },
    {
      "cell_type": "code",
      "metadata": {
        "id": "qmNRZr2dlYKA",
        "colab_type": "code",
        "outputId": "a8450a4a-ba1a-4080-abf0-d241a1746f10",
        "colab": {
          "base_uri": "https://localhost:8080/",
          "height": 34
        }
      },
      "source": [
        "!unzip -n RAVDESS.zip"
      ],
      "execution_count": 0,
      "outputs": [
        {
          "output_type": "stream",
          "text": [
            "Archive:  RAVDESS.zip\n"
          ],
          "name": "stdout"
        }
      ]
    },
    {
      "cell_type": "code",
      "metadata": {
        "id": "denDNo8hlYKB",
        "colab_type": "code",
        "outputId": "4b796a14-713c-4e3b-ebb2-3145f1d6b536",
        "colab": {
          "base_uri": "https://localhost:8080/",
          "height": 190
        }
      },
      "source": [
        "!ls RAVDESS/train_valid/train -lh"
      ],
      "execution_count": 0,
      "outputs": [
        {
          "output_type": "stream",
          "text": [
            "total 1.7M\n",
            "drwxr-xr-x 2 root root 228K Nov 18 17:33 angry\n",
            "drwxr-xr-x 2 root root 236K Nov 18 17:33 calm\n",
            "drwxr-xr-x 2 root root 248K Nov 18 17:33 disgust\n",
            "drwxr-xr-x 2 root root 208K Nov 18 17:33 fearful\n",
            "drwxr-xr-x 2 root root 224K Nov 18 17:33 happy\n",
            "drwxr-xr-x 2 root root  92K Nov 18 17:33 neutral\n",
            "drwxr-xr-x 2 root root 236K Nov 18 17:33 sad\n",
            "drwxr-xr-x 2 root root 204K Nov 18 17:33 surprised\n"
          ],
          "name": "stdout"
        }
      ]
    },
    {
      "cell_type": "code",
      "metadata": {
        "id": "clXPl4DtlYKE",
        "colab_type": "code",
        "colab": {}
      },
      "source": [
        "import numpy as np\n",
        "import pandas as pd\n",
        "import librosa\n",
        "from scipy.signal import spectrogram\n",
        "import math\n",
        "import matplotlib.pyplot as plt\n",
        "import random\n",
        "import re\n",
        "import gc\n",
        "from IPython.display import Image, display\n",
        "from sklearn.model_selection import train_test_split\n",
        "from PIL import Image, ImageFile\n",
        "ImageFile.LOAD_TRUNCATED_IMAGES = True"
      ],
      "execution_count": 0,
      "outputs": []
    },
    {
      "cell_type": "code",
      "metadata": {
        "id": "i25LnN6UlYKG",
        "colab_type": "code",
        "colab": {}
      },
      "source": [
        "def name_to_data(self, path):\n",
        "    numbers = re.findall(r'\\d+', path) # numbers in the name of the audio file\n",
        "    # spectogram = Image.open(spectogram_path) # consumes too much memory\n",
        "    return [\n",
        "        self.emotions[numbers[2]],\n",
        "        self.emotion_intensities[numbers[3]],\n",
        "        self.statements[numbers[4]],\n",
        "        self.repetitions[int(numbers[5])-1],\n",
        "        numbers[6], \n",
        "        self.actors[numbers[6]], \n",
        "        path\n",
        "    ]\n",
        "\n",
        "\n",
        "# Creates the Data Frame for the RAVDESS\n",
        "def create_dataframe(self):\n",
        "    print('Create dataframe')\n",
        "    data = []\n",
        "    specograms_paths = self.get_split_image_paths()\n",
        "    for specograms_path in specograms_paths:\n",
        "        data.append(self.name_to_data(specograms_path))\n",
        "\n",
        "    df = pd.DataFrame(  # contruct DataFrame from data\n",
        "        { \n",
        "            'emotion'           : pd.Categorical([row[0] for row in data]),\n",
        "            'emotion_intensity' : pd.Categorical([row[1] for row in data]),\n",
        "            'statement'         : pd.Categorical([row[2] for row in data]),\n",
        "            'repetition'        : pd.Categorical([row[3] for row in data]),\n",
        "            'actor'             : pd.Categorical([row[4] for row in data]),\n",
        "            'actor_gender'      : pd.Categorical([row[5] for row in data]),\n",
        "            'image'             : pd.Categorical([row[6] for row in data])\n",
        "        })\n",
        "\n",
        "    # one-hot encode columns\n",
        "    df = pd.get_dummies(df, columns=[\"emotion\", \"emotion_intensity\", \"statement\", \"repetition\", \"actor\", \"actor_gender\"])\n",
        "    return df"
      ],
      "execution_count": 0,
      "outputs": []
    },
    {
      "cell_type": "code",
      "metadata": {
        "id": "O-bXjnRgm8Op",
        "colab_type": "code",
        "outputId": "90e5867c-49a7-46b4-a4f6-b9274133c20a",
        "colab": {
          "base_uri": "https://localhost:8080/",
          "height": 54
        }
      },
      "source": [
        "base_dir = 'RAVDESS/train_valid/' # Linux esetén\n",
        "train_dir = os.path.join(base_dir, 'train')\n",
        "validation_dir = os.path.join(base_dir, 'valid')\n",
        "'''train_cats_dir = os.path.join(train_dir, 'cats')\n",
        "train_dogs_dir = os.path.join(train_dir, 'dogs')\n",
        "validation_cats_dir = os.path.join(validation_dir, 'cats')\n",
        "validation_dogs_dir = os.path.join(validation_dir, 'dogs')'''"
      ],
      "execution_count": 0,
      "outputs": [
        {
          "output_type": "execute_result",
          "data": {
            "text/plain": [
              "\"train_cats_dir = os.path.join(train_dir, 'cats')\\ntrain_dogs_dir = os.path.join(train_dir, 'dogs')\\nvalidation_cats_dir = os.path.join(validation_dir, 'cats')\\nvalidation_dogs_dir = os.path.join(validation_dir, 'dogs')\""
            ]
          },
          "metadata": {
            "tags": []
          },
          "execution_count": 39
        }
      ]
    },
    {
      "cell_type": "code",
      "metadata": {
        "id": "fxarFHeylYKI",
        "colab_type": "code",
        "colab": {}
      },
      "source": [
        "from tensorflow.keras.models import Model\n",
        "from tensorflow.keras.preprocessing.image import ImageDataGenerator\n",
        "from tensorflow.keras.applications.inception_v3 import InceptionV3,preprocess_input,decode_predictions\n",
        "from tensorflow.keras.preprocessing import image\n",
        "from tensorflow.keras.optimizers import SGD\n",
        "from tensorflow.keras.layers import Dense, GlobalAveragePooling2D\n",
        "from tensorflow.keras import backend as K\n",
        "import numpy as np"
      ],
      "execution_count": 0,
      "outputs": []
    },
    {
      "cell_type": "code",
      "metadata": {
        "id": "ILFw4bBqlYKJ",
        "colab_type": "code",
        "colab": {}
      },
      "source": [
        "img_height=299\n",
        "img_width=299"
      ],
      "execution_count": 0,
      "outputs": []
    },
    {
      "cell_type": "code",
      "metadata": {
        "id": "en5jA5gOlYKK",
        "colab_type": "code",
        "colab": {}
      },
      "source": [
        "# load the pre-trained InceptionV3 model without the fully-connected layers\n",
        "base_model = InceptionV3(weights='imagenet', include_top=False)\n",
        "# az utolsó konvolúciós réteg utána egy global average pooling réteget teszünk, ez rögtön \"lapítja\" (flatten) a 2D konvolúciót\n",
        "x = base_model.output\n",
        "x = GlobalAveragePooling2D()(x)\n",
        "# ezután hozzáadunk egy előrecsatolt réteget ReLU aktivációs függvénnyel\n",
        "x = Dense(1024, activation='relu')(x)\n",
        "# és végül egy kimenete lesz a hálónak - a \"binary_crossentropy\" költségfüggvénynek erre van szüksége\n",
        "predictions = Dense(8, activation='softmax')(x)\n",
        "# a model létrehozása\n",
        "model = Model(inputs=base_model.input, outputs=predictions)"
      ],
      "execution_count": 0,
      "outputs": []
    },
    {
      "cell_type": "code",
      "metadata": {
        "id": "x5EFM_NalYKM",
        "colab_type": "code",
        "colab": {}
      },
      "source": [
        "for layer in base_model.layers:\n",
        "    layer.trainable = False\n",
        "\n",
        "# lefordítjuk a modelt (fontos, hogy ezt a rétegek befagyasztása után csináljuk\"\n",
        "# mivel két osztályunk van, ezért bináris keresztentrópia költségfüggvényt használunk\n",
        "model.compile(optimizer='rmsprop', metrics=['accuracy'],loss='categorical_crossentropy')"
      ],
      "execution_count": 0,
      "outputs": []
    },
    {
      "cell_type": "code",
      "metadata": {
        "id": "Zs6ezD8NlYKO",
        "colab_type": "code",
        "outputId": "a0cf65c2-f043-46c0-c029-c662899921b5",
        "colab": {
          "base_uri": "https://localhost:8080/",
          "height": 71
        }
      },
      "source": [
        "# kép felkészítése a betöltésre és adatdúsításra\n",
        "train_datagen = ImageDataGenerator(rescale=1./255, rotation_range=0, width_shift_range=0, height_shift_range=0, horizontal_flip=False, vertical_flip=False)\n",
        "test_datagen = ImageDataGenerator(rescale=1./255, rotation_range=0, width_shift_range=0, height_shift_range=0, horizontal_flip=False, vertical_flip=False)\n",
        "train_generator = train_datagen.flow_from_directory(train_dir, target_size=(img_height, img_width), batch_size=5, class_mode='categorical')\n",
        "validation_generator = test_datagen.flow_from_directory(validation_dir, target_size=(img_height, img_width), batch_size=5, class_mode='categorical')"
      ],
      "execution_count": 0,
      "outputs": [
        {
          "output_type": "stream",
          "text": [
            "Found 28701 images belonging to 8 classes.\n",
            "Found 12306 images belonging to 8 classes.\n"
          ],
          "name": "stdout"
        }
      ]
    },
    {
      "cell_type": "code",
      "metadata": {
        "id": "YLw8QGOplYKQ",
        "colab_type": "code",
        "outputId": "0119481e-3b2b-46b8-a48a-859a21ae5af7",
        "colab": {
          "base_uri": "https://localhost:8080/",
          "height": 258
        }
      },
      "source": [
        "# ez a függvény egyszerre végzi az adatdúsítást és a háló tanítását\n",
        "model.fit(train_generator,steps_per_epoch=5,validation_data=validation_generator,validation_steps=10,epochs=3)"
      ],
      "execution_count": 0,
      "outputs": [
        {
          "output_type": "stream",
          "text": [
            "Epoch 1/3\n",
            "4/5 [=======================>......] - ETA: 21s - loss: 8.9874 - acc: 0.1000 Epoch 1/3\n",
            "10/5 [============================================================] - 186s 19s/step - loss: 2.1444 - acc: 0.2000\n",
            "5/5 [==============================] - 292s 58s/step - loss: 8.8571 - acc: 0.1200 - val_loss: 2.3570 - val_acc: 0.2000\n",
            "Epoch 2/3\n",
            "4/5 [=======================>......] - ETA: 20s - loss: 3.1913 - acc: 0.1000Epoch 1/3\n",
            "10/5 [============================================================] - 183s 18s/step - loss: 2.2775 - acc: 0.1600\n",
            "5/5 [==============================] - 287s 57s/step - loss: 3.2538 - acc: 0.1200 - val_loss: 2.1738 - val_acc: 0.1600\n",
            "Epoch 3/3\n",
            "4/5 [=======================>......] - ETA: 21s - loss: 2.6008 - acc: 0.1500Epoch 1/3\n",
            "10/5 [============================================================] - 186s 19s/step - loss: 2.1168 - acc: 0.2200\n",
            "5/5 [==============================] - 292s 58s/step - loss: 2.5698 - acc: 0.1600 - val_loss: 2.0449 - val_acc: 0.2200\n"
          ],
          "name": "stdout"
        },
        {
          "output_type": "execute_result",
          "data": {
            "text/plain": [
              "<tensorflow.python.keras.callbacks.History at 0x7f2df20448d0>"
            ]
          },
          "metadata": {
            "tags": []
          },
          "execution_count": 45
        }
      ]
    },
    {
      "cell_type": "code",
      "metadata": {
        "id": "OKANW3rFlYKR",
        "colab_type": "code",
        "colab": {}
      },
      "source": [
        "for layer in model.layers[:172]:\n",
        "       layer.trainable = False\n",
        "for layer in model.layers[172:]:\n",
        "       layer.trainable = True"
      ],
      "execution_count": 0,
      "outputs": []
    },
    {
      "cell_type": "code",
      "metadata": {
        "id": "gqqR25MllYKS",
        "colab_type": "code",
        "colab": {}
      },
      "source": [
        "# ez után újra le kell fordítanunk a hálót, hogy most már az Inception V3 felsőbb rétegei tanuljanak\n",
        "model.compile(optimizer=SGD(lr=0.0001, momentum=0.9), metrics=['accuracy'], loss='categorical_crossentropy')"
      ],
      "execution_count": 0,
      "outputs": []
    },
    {
      "cell_type": "code",
      "metadata": {
        "id": "M54yz3oulYKS",
        "colab_type": "code",
        "outputId": "e33e77f1-429b-4c92-e568-bd787d484038",
        "colab": {
          "base_uri": "https://localhost:8080/",
          "height": 258
        }
      },
      "source": [
        "history = model.fit_generator(train_generator,steps_per_epoch=5,validation_data=validation_generator,validation_steps=10,epochs=3)\n",
        "print(\"Tanítás vége.\")"
      ],
      "execution_count": 0,
      "outputs": [
        {
          "output_type": "stream",
          "text": [
            "Epoch 1/3\n",
            "4/5 [=======================>......] - ETA: 36s - loss: 2.4180 - acc: 0.1000 Epoch 1/3\n",
            "10/5 [============================================================] - 189s 19s/step - loss: 2.0968 - acc: 0.2200\n",
            "5/5 [==============================] - 373s 75s/step - loss: 2.3472 - acc: 0.1200 - val_loss: 2.0289 - val_acc: 0.2200\n",
            "Epoch 2/3\n",
            "4/5 [=======================>......] - ETA: 35s - loss: 2.2176 - acc: 0.2000 Epoch 1/3\n",
            "10/5 [============================================================] - 184s 18s/step - loss: 2.0722 - acc: 0.2200\n",
            "5/5 [==============================] - 362s 72s/step - loss: 2.2754 - acc: 0.1600 - val_loss: 2.0139 - val_acc: 0.2200\n",
            "Epoch 3/3\n",
            "4/5 [=======================>......] - ETA: 35s - loss: 2.1102 - acc: 0.1500 Epoch 1/3\n",
            "10/5 [============================================================] - 184s 18s/step - loss: 2.0479 - acc: 0.2200\n",
            "5/5 [==============================] - 362s 72s/step - loss: 2.1137 - acc: 0.1200 - val_loss: 2.0033 - val_acc: 0.2200\n",
            "Tanítás vége.\n"
          ],
          "name": "stdout"
        }
      ]
    },
    {
      "cell_type": "code",
      "metadata": {
        "id": "6E8fl9gijC4m",
        "colab_type": "code",
        "outputId": "848c04ef-6743-402f-c68b-4a871b2aff85",
        "colab": {
          "base_uri": "https://localhost:8080/",
          "height": 519
        }
      },
      "source": [
        "acc = history.history['acc']\n",
        "val_acc = history.history['val_acc']\n",
        "\n",
        "loss = history.history['loss']\n",
        "val_loss = history.history['val_loss']\n",
        "\n",
        "epochs_range = range(3)\n",
        "\n",
        "plt.figure(figsize=(8, 8))\n",
        "plt.subplot(1, 2, 1)\n",
        "plt.plot(epochs_range, acc, label='Training Accuracy')\n",
        "plt.plot(epochs_range, val_acc, label='Validation Accuracy')\n",
        "plt.legend(loc='lower right')\n",
        "plt.title('Training and Validation Accuracy')\n",
        "\n",
        "plt.subplot(1, 2, 2)\n",
        "plt.plot(epochs_range, loss, label='Training Loss')\n",
        "plt.plot(epochs_range, val_loss, label='Validation Loss')\n",
        "plt.legend(loc='upper right')\n",
        "plt.title('Training and Validation Loss')\n",
        "plt.show()"
      ],
      "execution_count": 0,
      "outputs": [
        {
          "output_type": "display_data",
          "data": {
            "image/png": "[encoded data removed]",
            "text/plain": [
              "<Figure size 576x576 with 2 Axes>"
            ]
          },
          "metadata": {
            "tags": []
          }
        }
      ]
    },
    {
      "cell_type": "code",
      "metadata": {
        "id": "zarv2X26vzKU",
        "colab_type": "code",
        "outputId": "a5d07efe-69a0-4b09-dba6-ab8753551da2",
        "colab": {
          "base_uri": "https://localhost:8080/",
          "height": 54
        }
      },
      "source": [
        "print(history.history)"
      ],
      "execution_count": 0,
      "outputs": [
        {
          "output_type": "stream",
          "text": [
            "{'loss': [2.347193384170532, 2.275360107421875, 2.1136982679367065], 'acc': [0.12, 0.16, 0.12], 'val_loss': [2.0288960099220277, 2.013890266418457, 2.0032501339912416], 'val_acc': [0.22, 0.22, 0.22]}\n"
          ],
          "name": "stdout"
        }
      ]
    }
  ]
}