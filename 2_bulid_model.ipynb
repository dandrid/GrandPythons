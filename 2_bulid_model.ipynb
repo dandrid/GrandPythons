{
  "nbformat": 4,
  "nbformat_minor": 0,
  "metadata": {
    "kernelspec": {
      "display_name": "Python 3",
      "language": "python",
      "name": "python3"
    },
    "language_info": {
      "codemirror_mode": {
        "name": "ipython",
        "version": 3
      },
      "file_extension": ".py",
      "mimetype": "text/x-python",
      "name": "python",
      "nbconvert_exporter": "python",
      "pygments_lexer": "ipython3",
      "version": "3.7.3"
    },
    "colab": {
      "name": "2_bulid_model.ipynb",
      "provenance": [],
      "collapsed_sections": []
    }
  },
  "cells": [
    {
      "cell_type": "code",
      "metadata": {
        "id": "GixpfdbulYJx",
        "colab_type": "code",
        "colab": {}
      },
      "source": [
        "# helper to download the Data Set from Google Drive\n",
        "\n",
        "import requests\n",
        "import os\n",
        "\n",
        "def download_file_from_google_drive(id, destination):\n",
        "    URL = \"https://docs.google.com/uc?export=download\"\n",
        "\n",
        "    session = requests.Session()\n",
        "\n",
        "    response = session.get(URL, params = { 'id' : id }, stream = True)\n",
        "    token = get_confirm_token(response)\n",
        "\n",
        "    if token:\n",
        "        params = { 'id' : id, 'confirm' : token }\n",
        "        response = session.get(URL, params = params, stream = True)\n",
        "\n",
        "    save_response_content(response, destination)    \n",
        "\n",
        "def get_confirm_token(response):\n",
        "    for key, value in response.cookies.items():\n",
        "        if key.startswith('download_warning'):\n",
        "            return value\n",
        "\n",
        "    return None\n",
        "\n",
        "def save_response_content(response, destination):\n",
        "    CHUNK_SIZE = 32768\n",
        "\n",
        "    with open(destination, \"wb\") as f:\n",
        "        for chunk in response.iter_content(CHUNK_SIZE):\n",
        "            if chunk: # filter out keep-alive new chunks\n",
        "                f.write(chunk)\n"
      ],
      "execution_count": 0,
      "outputs": []
    },
    {
      "cell_type": "code",
      "metadata": {
        "id": "8EtcQHD_lYJ5",
        "colab_type": "code",
        "colab": {}
      },
      "source": [
        "# Download the pre processed data set\n",
        "file_id = '1a2TRcqj5ySMWwetfU3Zgq4FE-highOKK'\n",
        "\n",
        "destination = 'RAVDESS.zip'\n",
        "\n",
        "if not os.path.exists(destination):\n",
        "    download_file_from_google_drive(file_id, destination)"
      ],
      "execution_count": 0,
      "outputs": []
    },
    {
      "cell_type": "code",
      "metadata": {
        "id": "trFKz6nOlYJ-",
        "colab_type": "code",
        "outputId": "ccb0212c-c9bf-4ce4-8302-4af11bf86dfa",
        "colab": {
          "base_uri": "https://localhost:8080/",
          "height": 105
        }
      },
      "source": [
        "!ls -lh"
      ],
      "execution_count": 0,
      "outputs": [
        {
          "output_type": "stream",
          "text": [
            "total 506M\n",
            "drwxr-xr-x 3 root root 4.0K Nov 19 20:17 RAVDESS\n",
            "-rw-r--r-- 1 root root 506M Nov 19 20:17 RAVDESS.zip\n",
            "drwxr-xr-x 1 root root 4.0K Nov 15 16:31 sample_data\n"
          ],
          "name": "stdout"
        }
      ]
    },
    {
      "cell_type": "code",
      "metadata": {
        "id": "qmNRZr2dlYKA",
        "colab_type": "code",
        "outputId": "48adeb55-7837-4168-aa69-c70a71172e09",
        "colab": {
          "base_uri": "https://localhost:8080/",
          "height": 34
        }
      },
      "source": [
        "!unzip -n RAVDESS.zip"
      ],
      "execution_count": 0,
      "outputs": [
        {
          "output_type": "stream",
          "text": [
            "Archive:  RAVDESS.zip\n"
          ],
          "name": "stdout"
        }
      ]
    },
    {
      "cell_type": "code",
      "metadata": {
        "id": "denDNo8hlYKB",
        "colab_type": "code",
        "outputId": "f46c995e-342b-4931-b37e-32627136c425",
        "colab": {
          "base_uri": "https://localhost:8080/",
          "height": 190
        }
      },
      "source": [
        "!ls RAVDESS/train_valid/train -lh"
      ],
      "execution_count": 0,
      "outputs": [
        {
          "output_type": "stream",
          "text": [
            "total 1.7M\n",
            "drwxr-xr-x 2 root root 232K Nov 18 17:33 angry\n",
            "drwxr-xr-x 2 root root 240K Nov 18 17:33 calm\n",
            "drwxr-xr-x 2 root root 260K Nov 18 17:33 disgust\n",
            "drwxr-xr-x 2 root root 220K Nov 18 17:33 fearful\n",
            "drwxr-xr-x 2 root root 228K Nov 18 17:33 happy\n",
            "drwxr-xr-x 2 root root 104K Nov 18 17:33 neutral\n",
            "drwxr-xr-x 2 root root 244K Nov 18 17:33 sad\n",
            "drwxr-xr-x 2 root root 204K Nov 18 17:33 surprised\n"
          ],
          "name": "stdout"
        }
      ]
    },
    {
      "cell_type": "code",
      "metadata": {
        "id": "clXPl4DtlYKE",
        "colab_type": "code",
        "colab": {}
      },
      "source": [
        "import numpy as np\n",
        "import pandas as pd\n",
        "import librosa\n",
        "from scipy.signal import spectrogram\n",
        "import math\n",
        "import matplotlib.pyplot as plt\n",
        "import random\n",
        "import re\n",
        "import gc\n",
        "from IPython.display import Image, display\n",
        "from sklearn.model_selection import train_test_split\n",
        "from PIL import Image, ImageFile\n",
        "ImageFile.LOAD_TRUNCATED_IMAGES = True"
      ],
      "execution_count": 0,
      "outputs": []
    },
    {
      "cell_type": "code",
      "metadata": {
        "id": "i25LnN6UlYKG",
        "colab_type": "code",
        "colab": {}
      },
      "source": [
        "def name_to_data(self, path):\n",
        "    numbers = re.findall(r'\\d+', path) # numbers in the name of the audio file\n",
        "    # spectogram = Image.open(spectogram_path) # consumes too much memory\n",
        "    return [\n",
        "        self.emotions[numbers[2]],\n",
        "        self.emotion_intensities[numbers[3]],\n",
        "        self.statements[numbers[4]],\n",
        "        self.repetitions[int(numbers[5])-1],\n",
        "        numbers[6], \n",
        "        self.actors[numbers[6]], \n",
        "        path\n",
        "    ]\n",
        "\n",
        "\n",
        "# Creates the Data Frame for the RAVDESS\n",
        "def create_dataframe(self):\n",
        "    print('Create dataframe')\n",
        "    data = []\n",
        "    specograms_paths = self.get_split_image_paths()\n",
        "    for specograms_path in specograms_paths:\n",
        "        data.append(self.name_to_data(specograms_path))\n",
        "\n",
        "    df = pd.DataFrame(  # contruct DataFrame from data\n",
        "        { \n",
        "            'emotion'           : pd.Categorical([row[0] for row in data]),\n",
        "            'emotion_intensity' : pd.Categorical([row[1] for row in data]),\n",
        "            'statement'         : pd.Categorical([row[2] for row in data]),\n",
        "            'repetition'        : pd.Categorical([row[3] for row in data]),\n",
        "            'actor'             : pd.Categorical([row[4] for row in data]),\n",
        "            'actor_gender'      : pd.Categorical([row[5] for row in data]),\n",
        "            'image'             : pd.Categorical([row[6] for row in data])\n",
        "        })\n",
        "\n",
        "    # one-hot encode columns\n",
        "    df = pd.get_dummies(df, columns=[\"emotion\", \"emotion_intensity\", \"statement\", \"repetition\", \"actor\", \"actor_gender\"])\n",
        "    return df"
      ],
      "execution_count": 0,
      "outputs": []
    },
    {
      "cell_type": "code",
      "metadata": {
        "id": "O-bXjnRgm8Op",
        "colab_type": "code",
        "colab": {}
      },
      "source": [
        "# create directory path helper variables\n",
        "base_dir = 'RAVDESS/train_valid/'\n",
        "train_dir = os.path.join(base_dir, 'train')\n",
        "validation_dir = os.path.join(base_dir, 'valid')"
      ],
      "execution_count": 0,
      "outputs": []
    },
    {
      "cell_type": "code",
      "metadata": {
        "id": "fxarFHeylYKI",
        "colab_type": "code",
        "colab": {}
      },
      "source": [
        "from tensorflow.keras.models import Model\n",
        "from tensorflow.keras.preprocessing.image import ImageDataGenerator\n",
        "from tensorflow.keras.applications.inception_v3 import InceptionV3,preprocess_input,decode_predictions\n",
        "from tensorflow.keras.preprocessing import image\n",
        "from tensorflow.keras.optimizers import SGD\n",
        "from tensorflow.keras.layers import Dense, GlobalAveragePooling2D\n",
        "from tensorflow.keras import backend as K\n",
        "import numpy as np"
      ],
      "execution_count": 0,
      "outputs": []
    },
    {
      "cell_type": "code",
      "metadata": {
        "id": "ILFw4bBqlYKJ",
        "colab_type": "code",
        "colab": {}
      },
      "source": [
        "inceptionv3_img_height=299\n",
        "inceptionv3_img_width=299"
      ],
      "execution_count": 0,
      "outputs": []
    },
    {
      "cell_type": "code",
      "metadata": {
        "id": "en5jA5gOlYKK",
        "colab_type": "code",
        "colab": {}
      },
      "source": [
        "# load the pre-trained InceptionV3 model without the fully-connected layers\n",
        "base_model = InceptionV3(weights='imagenet', include_top=False)\n",
        "\n",
        "# create new top layers for the model\n",
        "x = base_model.output\n",
        "x = GlobalAveragePooling2D()(x)\n",
        "\n",
        "# Fully connected layer with Relu activation\n",
        "x = Dense(1024, activation='relu')(x)\n",
        "\n",
        "# The output layer has 8 neurons, as we have 8 different emotion in the data set. The activation is set to softmax.\n",
        "predictions = Dense(8, activation='softmax')(x)\n",
        "\n",
        "# Finalize the model\n",
        "model = Model(inputs=base_model.input, outputs=predictions)"
      ],
      "execution_count": 0,
      "outputs": []
    },
    {
      "cell_type": "code",
      "metadata": {
        "id": "x5EFM_NalYKM",
        "colab_type": "code",
        "colab": {}
      },
      "source": [
        "# Freeze the InceptionV3 layers as we will pre train the top layers that we have added\n",
        "for layer in base_model.layers:\n",
        "    layer.trainable = False\n",
        "\n",
        "# We use categorical_crossentropy as we have multiple classes\n",
        "model.compile(optimizer='rmsprop', metrics=['accuracy'], loss='categorical_crossentropy')"
      ],
      "execution_count": 0,
      "outputs": []
    },
    {
      "cell_type": "code",
      "metadata": {
        "id": "Cchgo-lfXggg",
        "colab_type": "code",
        "outputId": "fddecad6-749f-4a0c-ce84-6e807dbeafdd",
        "colab": {
          "base_uri": "https://localhost:8080/",
          "height": 71
        }
      },
      "source": [
        "print(\"Number of original train images: \" + str(sum([len(files) for r, d, files in os.walk(train_dir)])))\n",
        "print(\"Number of original validation images: \" + str(sum([len(files) for r, d, files in os.walk(validation_dir)])))"
      ],
      "execution_count": 0,
      "outputs": [
        {
          "output_type": "stream",
          "text": [
            "Number of original train images: 28701\n",
            "Number of original validation images: 12306\n"
          ],
          "name": "stdout"
        }
      ]
    },
    {
      "cell_type": "code",
      "metadata": {
        "id": "Zs6ezD8NlYKO",
        "colab_type": "code",
        "outputId": "b7b8443c-b331-42f4-982f-28801f15e444",
        "colab": {
          "base_uri": "https://localhost:8080/",
          "height": 71
        }
      },
      "source": [
        "# Load the images with ImageDataGenerator. The original images are not augmented as we have a fixed time series images. The Image is rescaled to 0..1 range.\n",
        "train_datagen = ImageDataGenerator(rescale=1./255, rotation_range=0, width_shift_range=0, height_shift_range=0, zoom_range=0, horizontal_flip=False, vertical_flip=False)\n",
        "validation_datagen = ImageDataGenerator(rescale=1./255, rotation_range=0, width_shift_range=0, height_shift_range=0, zoom_range=0, horizontal_flip=False, vertical_flip=False)\n",
        "train_generator = train_datagen.flow_from_directory(train_dir, target_size=(inceptionv3_img_height, inceptionv3_img_width), batch_size=32, class_mode='categorical', seed=42)\n",
        "validation_generator = validation_datagen.flow_from_directory(validation_dir, target_size=(inceptionv3_img_height, inceptionv3_img_width), batch_size=32, class_mode='categorical', seed=42)"
      ],
      "execution_count": 0,
      "outputs": [
        {
          "output_type": "stream",
          "text": [
            "Found 28701 images belonging to 8 classes.\n",
            "Found 12306 images belonging to 8 classes.\n"
          ],
          "name": "stdout"
        }
      ]
    },
    {
      "cell_type": "code",
      "metadata": {
        "id": "YLw8QGOplYKQ",
        "colab_type": "code",
        "outputId": "9af64f6f-56e6-47d0-ae97-757655b4272d",
        "colab": {
          "base_uri": "https://localhost:8080/",
          "height": 394
        }
      },
      "source": [
        "# The model used the train generator to load and randomize the data. \n",
        "model.fit(train_generator,steps_per_epoch=5,validation_data=validation_generator,validation_steps=10,epochs=5)"
      ],
      "execution_count": 0,
      "outputs": [
        {
          "output_type": "stream",
          "text": [
            "Epoch 1/5\n",
            "4/5 [=======================>......] - ETA: 10s - loss: 2.3669 - acc: 0.0859Epoch 1/5\n",
            "10/5 [============================================================] - 89s 9s/step - loss: 2.3684 - acc: 0.1500\n",
            "5/5 [==============================] - 141s 28s/step - loss: 2.4183 - acc: 0.1063 - val_loss: 2.3213 - val_acc: 0.1500\n",
            "Epoch 2/5\n",
            "4/5 [=======================>......] - ETA: 9s - loss: 2.4790 - acc: 0.1172 Epoch 1/5\n",
            "10/5 [============================================================] - 89s 9s/step - loss: 2.1347 - acc: 0.1281\n",
            "5/5 [==============================] - 136s 27s/step - loss: 2.4581 - acc: 0.1063 - val_loss: 2.1569 - val_acc: 0.1281\n",
            "Epoch 3/5\n",
            "4/5 [=======================>......] - ETA: 9s - loss: 2.2127 - acc: 0.1406 Epoch 1/5\n",
            "10/5 [============================================================] - 89s 9s/step - loss: 2.2891 - acc: 0.1531\n",
            "5/5 [==============================] - 137s 27s/step - loss: 2.2292 - acc: 0.1375 - val_loss: 2.2872 - val_acc: 0.1531\n",
            "Epoch 4/5\n",
            "4/5 [=======================>......] - ETA: 9s - loss: 2.2632 - acc: 0.1250 Epoch 1/5\n",
            "10/5 [============================================================] - 89s 9s/step - loss: 2.3505 - acc: 0.1406\n",
            "5/5 [==============================] - 136s 27s/step - loss: 2.2305 - acc: 0.1437 - val_loss: 2.2980 - val_acc: 0.1406\n",
            "Epoch 5/5\n",
            "4/5 [=======================>......] - ETA: 9s - loss: 2.2714 - acc: 0.1562 Epoch 1/5\n",
            "10/5 [============================================================] - 89s 9s/step - loss: 2.2316 - acc: 0.1156\n",
            "5/5 [==============================] - 135s 27s/step - loss: 2.3343 - acc: 0.1688 - val_loss: 2.3181 - val_acc: 0.1156\n"
          ],
          "name": "stdout"
        },
        {
          "output_type": "execute_result",
          "data": {
            "text/plain": [
              "<tensorflow.python.keras.callbacks.History at 0x7f26b05e1e80>"
            ]
          },
          "metadata": {
            "tags": []
          },
          "execution_count": 57
        }
      ]
    },
    {
      "cell_type": "code",
      "metadata": {
        "id": "OKANW3rFlYKR",
        "colab_type": "code",
        "colab": {}
      },
      "source": [
        "# Allow the upper layers of the InceptionV3 model to be trained\n",
        "for layer in model.layers[:172]:\n",
        "       layer.trainable = False\n",
        "for layer in model.layers[172:]:\n",
        "       layer.trainable = True"
      ],
      "execution_count": 0,
      "outputs": []
    },
    {
      "cell_type": "code",
      "metadata": {
        "id": "gqqR25MllYKS",
        "colab_type": "code",
        "colab": {}
      },
      "source": [
        "# We recompile the model to take affect\n",
        "model.compile(optimizer=SGD(lr=0.0001, momentum=0.9), metrics=['accuracy'], loss='categorical_crossentropy')"
      ],
      "execution_count": 0,
      "outputs": []
    },
    {
      "cell_type": "code",
      "metadata": {
        "id": "M54yz3oulYKS",
        "colab_type": "code",
        "outputId": "9d3f39f5-f763-45ed-f40f-08f187cc7ec0",
        "colab": {
          "base_uri": "https://localhost:8080/",
          "height": 1000
        }
      },
      "source": [
        "history = model.fit_generator(train_generator,steps_per_epoch=5,validation_data=validation_generator,validation_steps=10,epochs=15)"
      ],
      "execution_count": 60,
      "outputs": [
        {
          "output_type": "stream",
          "text": [
            "Epoch 1/15\n",
            "4/5 [=======================>......] - ETA: 20s - loss: 2.3830 - acc: 0.1484Epoch 1/15\n",
            "10/5 [============================================================] - 92s 9s/step - loss: 2.2116 - acc: 0.1156\n",
            "5/5 [==============================] - 189s 38s/step - loss: 2.3556 - acc: 0.1375 - val_loss: 2.2943 - val_acc: 0.1156\n",
            "Epoch 2/15\n",
            "4/5 [=======================>......] - ETA: 16s - loss: 2.3529 - acc: 0.1484Epoch 1/15\n",
            "10/5 [============================================================] - 89s 9s/step - loss: 2.1772 - acc: 0.1125\n",
            "5/5 [==============================] - 173s 35s/step - loss: 2.3593 - acc: 0.1375 - val_loss: 2.2535 - val_acc: 0.1125\n",
            "Epoch 3/15\n",
            "4/5 [=======================>......] - ETA: 16s - loss: 2.2011 - acc: 0.1797Epoch 1/15\n",
            "10/5 [============================================================] - 88s 9s/step - loss: 2.1434 - acc: 0.1156\n",
            "5/5 [==============================] - 172s 34s/step - loss: 2.1810 - acc: 0.1875 - val_loss: 2.2122 - val_acc: 0.1156\n",
            "Epoch 4/15\n",
            "4/5 [=======================>......] - ETA: 16s - loss: 2.2679 - acc: 0.0859Epoch 1/15\n",
            "10/5 [============================================================] - 89s 9s/step - loss: 2.1154 - acc: 0.1125\n",
            "5/5 [==============================] - 171s 34s/step - loss: 2.2775 - acc: 0.1000 - val_loss: 2.1748 - val_acc: 0.1125\n",
            "Epoch 5/15\n",
            "4/5 [=======================>......] - ETA: 16s - loss: 2.1386 - acc: 0.1172Epoch 1/15\n",
            "10/5 [============================================================] - 89s 9s/step - loss: 2.0953 - acc: 0.1094\n",
            "5/5 [==============================] - 172s 34s/step - loss: 2.1123 - acc: 0.1187 - val_loss: 2.1446 - val_acc: 0.1094\n",
            "Epoch 6/15\n",
            "4/5 [=======================>......] - ETA: 16s - loss: 2.1918 - acc: 0.0938Epoch 1/15\n",
            "10/5 [============================================================] - 89s 9s/step - loss: 2.0836 - acc: 0.1250\n",
            "5/5 [==============================] - 171s 34s/step - loss: 2.1411 - acc: 0.1250 - val_loss: 2.1238 - val_acc: 0.1250\n",
            "Epoch 7/15\n",
            "4/5 [=======================>......] - ETA: 16s - loss: 2.0329 - acc: 0.1797Epoch 1/15\n",
            "10/5 [============================================================] - 88s 9s/step - loss: 2.0792 - acc: 0.1437\n",
            "5/5 [==============================] - 171s 34s/step - loss: 2.0657 - acc: 0.1562 - val_loss: 2.1111 - val_acc: 0.1437\n",
            "Epoch 8/15\n",
            "4/5 [=======================>......] - ETA: 16s - loss: 2.0676 - acc: 0.1875Epoch 1/15\n",
            "10/5 [============================================================] - 89s 9s/step - loss: 2.0790 - acc: 0.1656\n",
            "5/5 [==============================] - 172s 34s/step - loss: 2.0769 - acc: 0.1688 - val_loss: 2.1034 - val_acc: 0.1656\n",
            "Epoch 9/15\n",
            "4/5 [=======================>......] - ETA: 16s - loss: 2.0804 - acc: 0.1719Epoch 1/15\n",
            "10/5 [============================================================] - 89s 9s/step - loss: 2.0800 - acc: 0.1656\n",
            "5/5 [==============================] - 173s 35s/step - loss: 2.0886 - acc: 0.1750 - val_loss: 2.0984 - val_acc: 0.1656\n",
            "Epoch 10/15\n",
            "4/5 [=======================>......] - ETA: 16s - loss: 2.0718 - acc: 0.1719Epoch 1/15\n",
            "10/5 [============================================================] - 89s 9s/step - loss: 2.0800 - acc: 0.1562\n",
            "5/5 [==============================] - 173s 35s/step - loss: 2.0327 - acc: 0.1875 - val_loss: 2.0933 - val_acc: 0.1562\n",
            "Epoch 11/15\n",
            "4/5 [=======================>......] - ETA: 16s - loss: 2.0473 - acc: 0.2188Epoch 1/15\n",
            "10/5 [============================================================] - 89s 9s/step - loss: 2.0821 - acc: 0.1562\n",
            "5/5 [==============================] - 172s 34s/step - loss: 2.0487 - acc: 0.2000 - val_loss: 2.0907 - val_acc: 0.1562\n",
            "Epoch 12/15\n",
            "4/5 [=======================>......] - ETA: 16s - loss: 2.0067 - acc: 0.2266Epoch 1/15\n",
            "10/5 [============================================================] - 89s 9s/step - loss: 2.0866 - acc: 0.1500\n",
            "5/5 [==============================] - 173s 35s/step - loss: 2.0102 - acc: 0.2062 - val_loss: 2.0905 - val_acc: 0.1500\n",
            "Epoch 13/15\n",
            "4/5 [=======================>......] - ETA: 16s - loss: 2.0672 - acc: 0.1484Epoch 1/15\n",
            "10/5 [============================================================] - 89s 9s/step - loss: 2.0895 - acc: 0.1375\n",
            "5/5 [==============================] - 172s 34s/step - loss: 2.0688 - acc: 0.1625 - val_loss: 2.0905 - val_acc: 0.1375\n",
            "Epoch 14/15\n",
            "4/5 [=======================>......] - ETA: 16s - loss: 2.0262 - acc: 0.2031Epoch 1/15\n",
            "10/5 [============================================================] - 89s 9s/step - loss: 2.0915 - acc: 0.1281\n",
            "5/5 [==============================] - 172s 34s/step - loss: 2.0223 - acc: 0.2062 - val_loss: 2.0904 - val_acc: 0.1281\n",
            "Epoch 15/15\n",
            "4/5 [=======================>......] - ETA: 16s - loss: 2.0006 - acc: 0.2266Epoch 1/15\n",
            "10/5 [============================================================] - 89s 9s/step - loss: 2.0915 - acc: 0.1312\n",
            "5/5 [==============================] - 173s 35s/step - loss: 2.0025 - acc: 0.2188 - val_loss: 2.0900 - val_acc: 0.1312\n"
          ],
          "name": "stdout"
        }
      ]
    },
    {
      "cell_type": "code",
      "metadata": {
        "id": "6E8fl9gijC4m",
        "colab_type": "code",
        "outputId": "0e3d86f0-b400-40c8-9a14-6a6db4766cc3",
        "colab": {
          "base_uri": "https://localhost:8080/",
          "height": 499
        }
      },
      "source": [
        "acc = history.history['acc']\n",
        "val_acc = history.history['val_acc']\n",
        "\n",
        "loss = history.history['loss']\n",
        "val_loss = history.history['val_loss']\n",
        "\n",
        "epochs_range = range(15)\n",
        "\n",
        "plt.figure(figsize=(8, 8))\n",
        "plt.subplot(1, 2, 1)\n",
        "plt.plot(epochs_range, acc, label='Training Accuracy')\n",
        "plt.plot(epochs_range, val_acc, label='Validation Accuracy')\n",
        "plt.legend(loc='lower right')\n",
        "plt.title('Training and Validation Accuracy')\n",
        "\n",
        "plt.subplot(1, 2, 2)\n",
        "plt.plot(epochs_range, loss, label='Training Loss')\n",
        "plt.plot(epochs_range, val_loss, label='Validation Loss')\n",
        "plt.legend(loc='upper right')\n",
        "plt.title('Training and Validation Loss')\n",
        "plt.show()"
      ],
      "execution_count": 62,
      "outputs": [
        {
          "output_type": "display_data",
          "data": {
            "image/png": "[encoded data removed]",
            "text/plain": [
              "<Figure size 576x576 with 2 Axes>"
            ]
          },
          "metadata": {
            "tags": []
          }
        }
      ]
    }
  ]
}