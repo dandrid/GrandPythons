{
  "nbformat": 4,
  "nbformat_minor": 0,
  "metadata": {
    "kernelspec": {
      "display_name": "Python 3",
      "language": "python",
      "name": "python3"
    },
    "language_info": {
      "codemirror_mode": {
        "name": "ipython",
        "version": 3
      },
      "file_extension": ".py",
      "mimetype": "text/x-python",
      "name": "python",
      "nbconvert_exporter": "python",
      "pygments_lexer": "ipython3",
      "version": "3.7.3"
    },
    "colab": {
      "name": "2_bulid_model_mfcc.ipynb",
      "provenance": [],
      "collapsed_sections": []
    }
  },
  "cells": [
    {
      "cell_type": "code",
      "metadata": {
        "id": "GixpfdbulYJx",
        "colab_type": "code",
        "colab": {}
      },
      "source": [
        "# helper to download the Data Set from Google Drive\n",
        "\n",
        "import requests\n",
        "import os\n",
        "\n",
        "def download_file_from_google_drive(id, destination):\n",
        "    URL = \"https://docs.google.com/uc?export=download\"\n",
        "\n",
        "    session = requests.Session()\n",
        "\n",
        "    response = session.get(URL, params = { 'id' : id }, stream = True)\n",
        "    token = get_confirm_token(response)\n",
        "\n",
        "    if token:\n",
        "        params = { 'id' : id, 'confirm' : token }\n",
        "        response = session.get(URL, params = params, stream = True)\n",
        "\n",
        "    save_response_content(response, destination)    \n",
        "\n",
        "def get_confirm_token(response):\n",
        "    for key, value in response.cookies.items():\n",
        "        if key.startswith('download_warning'):\n",
        "            return value\n",
        "\n",
        "    return None\n",
        "\n",
        "def save_response_content(response, destination):\n",
        "    CHUNK_SIZE = 32768\n",
        "\n",
        "    with open(destination, \"wb\") as f:\n",
        "        for chunk in response.iter_content(CHUNK_SIZE):\n",
        "            if chunk: # filter out keep-alive new chunks\n",
        "                f.write(chunk)\n"
      ],
      "execution_count": 0,
      "outputs": []
    },
    {
      "cell_type": "code",
      "metadata": {
        "id": "VyL4vn5pnbMb",
        "colab_type": "code",
        "colab": {}
      },
      "source": [
        "!rm -f 'RAVDESS.zip' # force re-download"
      ],
      "execution_count": 0,
      "outputs": []
    },
    {
      "cell_type": "code",
      "metadata": {
        "id": "8EtcQHD_lYJ5",
        "colab_type": "code",
        "colab": {}
      },
      "source": [
        "# Download the pre processed data set\n",
        "\n",
        "# RAVDESS_mfcc.zip https://drive.google.com/open?id=1lhHv2bI2TiZCAKYo9WMaIGUqSHqEcV0o\n",
        "# file_id = '1lhHv2bI2TiZCAKYo9WMaIGUqSHqEcV0o' # MFCC of all emotions\n",
        "\n",
        "# RAVDESS_mfcc_strong.zip https://drive.google.com/open?id=1kupogCw0DV1NavjFHzL92xDVExgsmZig\n",
        "file_id = '1kupogCw0DV1NavjFHzL92xDVExgsmZig' # MFCC of all emotions, plus 2x enriched data\n",
        "\n",
        "# RAVDESS_mfcc_enriched_x2.zip https://drive.google.com/open?id=1GCayj42mJevcGdngbgF1qJA12nVcTSmf\n",
        "# file_id = '1GCayj42mJevcGdngbgF1qJA12nVcTSmf' # MFCC only of strong version of the emotions, and the neutral emotion is not included\n",
        "\n",
        "destination = 'RAVDESS.zip'\n",
        "\n",
        "if not os.path.exists(destination):\n",
        "    download_file_from_google_drive(file_id, destination)"
      ],
      "execution_count": 0,
      "outputs": []
    },
    {
      "cell_type": "code",
      "metadata": {
        "id": "trFKz6nOlYJ-",
        "colab_type": "code",
        "outputId": "8f4d261f-82d5-453d-d1f3-3a0fdbbb8881",
        "colab": {
          "base_uri": "https://localhost:8080/",
          "height": 102
        }
      },
      "source": [
        "!ls -lh"
      ],
      "execution_count": 53,
      "outputs": [
        {
          "output_type": "stream",
          "text": [
            "total 9.9M\n",
            "-rw-r--r-- 1 root root 1.3M Dec 15 19:44 best_model.h5\n",
            "drwxr-xr-x 4 root root 4.0K Dec 15 19:47 RAVDESS\n",
            "-rw-r--r-- 1 root root 8.6M Dec 15 19:51 RAVDESS.zip\n",
            "drwxr-xr-x 1 root root 4.0K Dec 12 16:48 sample_data\n"
          ],
          "name": "stdout"
        }
      ]
    },
    {
      "cell_type": "code",
      "metadata": {
        "id": "9ymKJnepnjEP",
        "colab_type": "code",
        "colab": {}
      },
      "source": [
        "!rm -rf 'RAVDESS/train_valid/'"
      ],
      "execution_count": 0,
      "outputs": []
    },
    {
      "cell_type": "code",
      "metadata": {
        "id": "qmNRZr2dlYKA",
        "colab_type": "code",
        "colab": {}
      },
      "source": [
        "!unzip -n RAVDESS.zip\n",
        "# output removed because it was too long"
      ],
      "execution_count": 0,
      "outputs": []
    },
    {
      "cell_type": "code",
      "metadata": {
        "id": "denDNo8hlYKB",
        "colab_type": "code",
        "outputId": "1c5635cd-5108-495f-da95-917d69710c88",
        "colab": {
          "base_uri": "https://localhost:8080/",
          "height": 408
        }
      },
      "source": [
        "!ls RAVDESS/train_valid/train -lh\n",
        "!ls RAVDESS/train_valid/valid/angry -lh"
      ],
      "execution_count": 56,
      "outputs": [
        {
          "output_type": "stream",
          "text": [
            "total 28K\n",
            "drwxr-xr-x 2 root root 4.0K Dec 15 19:50 angry\n",
            "drwxr-xr-x 2 root root 4.0K Dec 15 19:50 calm\n",
            "drwxr-xr-x 2 root root 4.0K Dec 15 19:50 disgust\n",
            "drwxr-xr-x 2 root root 4.0K Dec 15 19:50 fearful\n",
            "drwxr-xr-x 2 root root 4.0K Dec 15 19:50 happy\n",
            "drwxr-xr-x 2 root root 4.0K Dec 15 19:50 sad\n",
            "drwxr-xr-x 2 root root 4.0K Dec 15 19:50 surprised\n",
            "total 432K\n",
            "-rw-r--r-- 1 root root 27K Dec 15 19:50 03-01-05-02-01-01-09-00.nparray\n",
            "-rw-r--r-- 1 root root 28K Dec 15 19:50 03-01-05-02-01-01-19-00.nparray\n",
            "-rw-r--r-- 1 root root 33K Dec 15 19:50 03-01-05-02-01-01-21-00.nparray\n",
            "-rw-r--r-- 1 root root 20K Dec 15 19:50 03-01-05-02-01-01-23-00.nparray\n",
            "-rw-r--r-- 1 root root 24K Dec 15 19:50 03-01-05-02-01-02-05-00.nparray\n",
            "-rw-r--r-- 1 root root 25K Dec 15 19:50 03-01-05-02-01-02-16-00.nparray\n",
            "-rw-r--r-- 1 root root 37K Dec 15 19:50 03-01-05-02-02-01-06-00.nparray\n",
            "-rw-r--r-- 1 root root 31K Dec 15 19:50 03-01-05-02-02-01-22-00.nparray\n",
            "-rw-r--r-- 1 root root 18K Dec 15 19:50 03-01-05-02-02-01-23-00.nparray\n",
            "-rw-r--r-- 1 root root 31K Dec 15 19:50 03-01-05-02-02-01-24-00.nparray\n",
            "-rw-r--r-- 1 root root 34K Dec 15 19:50 03-01-05-02-02-02-14-00.nparray\n",
            "-rw-r--r-- 1 root root 30K Dec 15 19:50 03-01-05-02-02-02-16-00.nparray\n",
            "-rw-r--r-- 1 root root 32K Dec 15 19:50 03-01-05-02-02-02-18-00.nparray\n",
            "-rw-r--r-- 1 root root 44K Dec 15 19:50 03-01-05-02-02-02-24-00.nparray\n"
          ],
          "name": "stdout"
        }
      ]
    },
    {
      "cell_type": "code",
      "metadata": {
        "id": "clXPl4DtlYKE",
        "colab_type": "code",
        "colab": {}
      },
      "source": [
        "import numpy as np\n",
        "import pandas as pd\n",
        "import matplotlib.pyplot as plt\n",
        "from sklearn.metrics import classification_report, confusion_matrix\n",
        "import seaborn as sn"
      ],
      "execution_count": 0,
      "outputs": []
    },
    {
      "cell_type": "code",
      "metadata": {
        "id": "i25LnN6UlYKG",
        "colab_type": "code",
        "outputId": "e69476c5-ff06-41db-cf5d-0d4045c30640",
        "colab": {
          "base_uri": "https://localhost:8080/",
          "height": 68
        }
      },
      "source": [
        "# create directory path helper variables\n",
        "base_dir = 'RAVDESS/train_valid/'\n",
        "train_dir = os.path.join(base_dir, 'train')\n",
        "validation_dir = os.path.join(base_dir, 'valid')\n",
        "test_dir = os.path.join(base_dir, 'test')\n",
        "\n",
        "emotions = os.listdir(train_dir)\n",
        "emotions.sort()\n",
        "num_of_emotions = len(emotions)\n",
        "print('Number of emotions: ' + str(num_of_emotions))\n",
        "print('Emotions: ' + str(emotions))\n",
        "\n",
        "# load the data and put it into a data frame\n",
        "def load_data_from_folder(emotions, folder):\n",
        "  data = []\n",
        "\n",
        "  for emotion in emotions:\n",
        "    container_folder = folder + '/' + emotion + '/'\n",
        "    mfcc_files = os.listdir(container_folder)\n",
        "    for mfcc_file in mfcc_files:\n",
        "      mfcc = np.loadtxt(container_folder + mfcc_file, delimiter=',')\n",
        "      data.append([emotion, mfcc])\n",
        "\n",
        "  df = pd.DataFrame(data, columns=['emotion', 'mfcc'])\n",
        "  df = pd.get_dummies(df, columns=[\"emotion\"]) # one hot encode emotions\n",
        "  return df\n",
        "\n",
        "# find the minimal length of the audio data\n",
        "def find_min_shape(train_df, valid_df, test_df):\n",
        "  appended_df = train_df.append(valid_df)\n",
        "  appended_df = train_df.append(test_df)\n",
        "  min_shape = np.amin(appended_df['mfcc'].map(lambda x: x.shape), axis=0)\n",
        "  return min_shape\n",
        "\n",
        "# cut the MFCC values of the audio files to equal size\n",
        "def prepare_df(df, new_shape):\n",
        "  df['mfcc'] = df['mfcc'].map(lambda x: x[:, 0:min_shape[1]])\n",
        "  df['mfcc'] = df['mfcc'].map(lambda x: x.flatten())\n",
        "  return df\n",
        "\n",
        "train_df = load_data_from_folder(emotions, train_dir)\n",
        "valid_df = load_data_from_folder(emotions, validation_dir)\n",
        "test_df = load_data_from_folder(emotions, test_dir)\n",
        "\n",
        "min_shape = find_min_shape(train_df, valid_df, test_df)\n",
        "print('The minimum shape is: ' + str(min_shape))\n",
        "\n",
        "train_df = prepare_df(train_df, min_shape)\n",
        "valid_df = prepare_df(valid_df, min_shape)\n",
        "test_df = prepare_df(test_df, min_shape)"
      ],
      "execution_count": 58,
      "outputs": [
        {
          "output_type": "stream",
          "text": [
            "Number of emotions: 7\n",
            "Emotions: ['angry', 'calm', 'disgust', 'fearful', 'happy', 'sad', 'surprised']\n",
            "The minimum shape is: (13, 50)\n"
          ],
          "name": "stdout"
        }
      ]
    },
    {
      "cell_type": "code",
      "metadata": {
        "id": "hUOurjvuN_1j",
        "colab_type": "code",
        "colab": {}
      },
      "source": [
        "emotion_columns = train_df.columns.to_list()\n",
        "emotion_columns.remove('mfcc')\n",
        "\n",
        "x_train = train_df['mfcc'].values.tolist()\n",
        "x_train = np.expand_dims(x_train, axis=2)\n",
        "\n",
        "y_train = train_df[emotion_columns].values\n",
        "\n",
        "x_valid = valid_df['mfcc'].values.tolist()\n",
        "x_valid = np.expand_dims(x_valid, axis=2)\n",
        "\n",
        "y_valid = valid_df[emotion_columns].values\n",
        "\n",
        "x_test = test_df['mfcc'].values.tolist()\n",
        "x_test = np.expand_dims(x_test, axis=2)\n",
        "\n",
        "y_test = test_df[emotion_columns].values"
      ],
      "execution_count": 0,
      "outputs": []
    },
    {
      "cell_type": "code",
      "metadata": {
        "id": "fxarFHeylYKI",
        "colab_type": "code",
        "colab": {}
      },
      "source": [
        "import keras\n",
        "from keras.preprocessing import sequence\n",
        "from keras.models import Sequential\n",
        "from keras.layers import Dense, Embedding\n",
        "from keras.layers import LSTM\n",
        "from keras.preprocessing.text import Tokenizer\n",
        "from keras.preprocessing.sequence import pad_sequences\n",
        "from keras.utils import to_categorical\n",
        "from keras.layers import Input, Flatten, Dropout, Activation\n",
        "from keras.layers import Conv1D, MaxPooling1D, AveragePooling1D\n",
        "from keras.models import Model\n",
        "from keras.models import load_model\n",
        "from keras.callbacks import EarlyStopping\n",
        "from keras.callbacks import ModelCheckpoint\n",
        "from keras.regularizers import l2"
      ],
      "execution_count": 0,
      "outputs": []
    },
    {
      "cell_type": "markdown",
      "metadata": {
        "id": "0jd1oItzEVp3",
        "colab_type": "text"
      },
      "source": [
        "# Hyperparameters\n",
        "\n",
        "\n"
      ]
    },
    {
      "cell_type": "code",
      "metadata": {
        "id": "CfiC1cY59NDN",
        "colab_type": "code",
        "colab": {}
      },
      "source": [
        "epochs = 400\n",
        "batch_size = 16\n",
        "dropout_low = 0.1\n",
        "dropout_medium = 0.2\n",
        "dropout_high = 0.4\n",
        "best_model_path = 'best_model.h5'\n",
        "initializer = keras.initializers.glorot_uniform(seed=42) # Xavier weight initialization\n",
        "optimizer = keras.optimizers.adam(lr=0.001)\n",
        "early_stopping = EarlyStopping(monitor='val_loss', mode='min', patience=20)\n",
        "model_checkpoint = ModelCheckpoint(best_model_path, monitor='val_loss', mode='min', save_best_only=True)\n",
        "regularizer = l2(0.001)"
      ],
      "execution_count": 0,
      "outputs": []
    },
    {
      "cell_type": "code",
      "metadata": {
        "id": "ILFw4bBqlYKJ",
        "colab_type": "code",
        "colab": {}
      },
      "source": [
        "model = Sequential()\n",
        "\n",
        "model.add(Conv1D(128, 5, padding='same', input_shape=x_train[0].shape, kernel_initializer=initializer, kernel_regularizer=regularizer, bias_regularizer=regularizer))\n",
        "model.add(Activation('relu'))\n",
        "model.add(Conv1D(64, 5, padding='same', kernel_initializer=initializer, kernel_regularizer=regularizer, bias_regularizer=regularizer))\n",
        "model.add(Activation('relu'))\n",
        "model.add(Dropout(rate=dropout_high))\n",
        "model.add(MaxPooling1D(pool_size=(4)))\n",
        "model.add(Conv1D(64, 5, padding='same', kernel_initializer=initializer, kernel_regularizer=regularizer, bias_regularizer=regularizer))\n",
        "model.add(Activation('relu'))\n",
        "model.add(Conv1D(32, 5, padding='same', kernel_initializer=initializer, kernel_regularizer=regularizer, bias_regularizer=regularizer))\n",
        "model.add(Activation('relu'))\n",
        "model.add(Dropout(rate=dropout_high))\n",
        "model.add(MaxPooling1D(pool_size=(4)))\n",
        "#model.add(Conv1D(32, 5, padding='same', kernel_initializer=initializer, kernel_regularizer=regularizer, bias_regularizer=regularizer))\n",
        "#model.add(Activation('relu'))\n",
        "#model.add(Conv1D(16, 5, padding='same', kernel_initializer=initializer, kernel_regularizer=regularizer, bias_regularizer=regularizer))\n",
        "#model.add(Activation('relu'))\n",
        "#model.add(Dropout(rate=dropout_high))\n",
        "#model.add(MaxPooling1D(pool_size=(4)))\n",
        "model.add(Flatten())\n",
        "model.add(Dense(15*num_of_emotions, kernel_initializer=initializer, kernel_regularizer=regularizer, bias_regularizer=regularizer))\n",
        "model.add(Activation('relu'))\n",
        "model.add(Dropout(rate=dropout_medium))\n",
        "model.add(Dense(5*num_of_emotions, kernel_initializer=initializer, kernel_regularizer=regularizer, bias_regularizer=regularizer))\n",
        "model.add(Activation('relu'))\n",
        "model.add(Dropout(rate=dropout_low))\n",
        "model.add(Dense(num_of_emotions, kernel_initializer=initializer, kernel_regularizer=regularizer, bias_regularizer=regularizer))\n",
        "model.add(Activation('softmax'))"
      ],
      "execution_count": 0,
      "outputs": []
    },
    {
      "cell_type": "code",
      "metadata": {
        "id": "i0FrNCv07Bpe",
        "colab_type": "code",
        "outputId": "634ee772-500f-45da-fdfe-892144abc1eb",
        "colab": {
          "base_uri": "https://localhost:8080/",
          "height": 867
        }
      },
      "source": [
        "model.summary()"
      ],
      "execution_count": 80,
      "outputs": [
        {
          "output_type": "stream",
          "text": [
            "Model: \"sequential_7\"\n",
            "_________________________________________________________________\n",
            "Layer (type)                 Output Shape              Param #   \n",
            "=================================================================\n",
            "conv1d_29 (Conv1D)           (None, 650, 128)          768       \n",
            "_________________________________________________________________\n",
            "activation_47 (Activation)   (None, 650, 128)          0         \n",
            "_________________________________________________________________\n",
            "conv1d_30 (Conv1D)           (None, 650, 64)           41024     \n",
            "_________________________________________________________________\n",
            "activation_48 (Activation)   (None, 650, 64)           0         \n",
            "_________________________________________________________________\n",
            "dropout_27 (Dropout)         (None, 650, 64)           0         \n",
            "_________________________________________________________________\n",
            "max_pooling1d_15 (MaxPooling (None, 162, 64)           0         \n",
            "_________________________________________________________________\n",
            "conv1d_31 (Conv1D)           (None, 162, 64)           20544     \n",
            "_________________________________________________________________\n",
            "activation_49 (Activation)   (None, 162, 64)           0         \n",
            "_________________________________________________________________\n",
            "conv1d_32 (Conv1D)           (None, 162, 32)           10272     \n",
            "_________________________________________________________________\n",
            "activation_50 (Activation)   (None, 162, 32)           0         \n",
            "_________________________________________________________________\n",
            "dropout_28 (Dropout)         (None, 162, 32)           0         \n",
            "_________________________________________________________________\n",
            "max_pooling1d_16 (MaxPooling (None, 40, 32)            0         \n",
            "_________________________________________________________________\n",
            "flatten_7 (Flatten)          (None, 1280)              0         \n",
            "_________________________________________________________________\n",
            "dense_19 (Dense)             (None, 105)               134505    \n",
            "_________________________________________________________________\n",
            "activation_51 (Activation)   (None, 105)               0         \n",
            "_________________________________________________________________\n",
            "dropout_29 (Dropout)         (None, 105)               0         \n",
            "_________________________________________________________________\n",
            "dense_20 (Dense)             (None, 35)                3710      \n",
            "_________________________________________________________________\n",
            "activation_52 (Activation)   (None, 35)                0         \n",
            "_________________________________________________________________\n",
            "dropout_30 (Dropout)         (None, 35)                0         \n",
            "_________________________________________________________________\n",
            "dense_21 (Dense)             (None, 7)                 252       \n",
            "_________________________________________________________________\n",
            "activation_53 (Activation)   (None, 7)                 0         \n",
            "=================================================================\n",
            "Total params: 211,075\n",
            "Trainable params: 211,075\n",
            "Non-trainable params: 0\n",
            "_________________________________________________________________\n"
          ],
          "name": "stdout"
        }
      ]
    },
    {
      "cell_type": "code",
      "metadata": {
        "id": "f_QWtnlL71Oq",
        "colab_type": "code",
        "colab": {}
      },
      "source": [
        "model.compile(loss='categorical_crossentropy', optimizer=optimizer, metrics=['accuracy'])"
      ],
      "execution_count": 0,
      "outputs": []
    },
    {
      "cell_type": "code",
      "metadata": {
        "id": "OvJepXln76MY",
        "colab_type": "code",
        "outputId": "079854dc-9d71-49cd-af1b-6194221aec80",
        "colab": {
          "base_uri": "https://localhost:8080/",
          "height": 1000
        }
      },
      "source": [
        "history = model.fit(x_train, y_train, batch_size=batch_size, epochs=epochs, validation_data=(x_valid, y_valid), callbacks=[early_stopping, model_checkpoint]) # train\n",
        "\n",
        "saved_model = load_model(best_model_path) # load back the best model"
      ],
      "execution_count": 82,
      "outputs": [
        {
          "output_type": "stream",
          "text": [
            "Train on 469 samples, validate on 98 samples\n",
            "Epoch 1/400\n",
            "469/469 [==============================] - 6s 12ms/step - loss: 2.3818 - acc: 0.1514 - val_loss: 2.3227 - val_acc: 0.1735\n",
            "Epoch 2/400\n",
            "469/469 [==============================] - 4s 8ms/step - loss: 2.2680 - acc: 0.2132 - val_loss: 2.2389 - val_acc: 0.2449\n",
            "Epoch 3/400\n",
            "469/469 [==============================] - 4s 8ms/step - loss: 2.1482 - acc: 0.2409 - val_loss: 2.1360 - val_acc: 0.3163\n",
            "Epoch 4/400\n",
            "469/469 [==============================] - 4s 8ms/step - loss: 1.9854 - acc: 0.3539 - val_loss: 2.0481 - val_acc: 0.3776\n",
            "Epoch 5/400\n",
            "469/469 [==============================] - 4s 8ms/step - loss: 1.8226 - acc: 0.4307 - val_loss: 1.9736 - val_acc: 0.3776\n",
            "Epoch 6/400\n",
            "469/469 [==============================] - 4s 8ms/step - loss: 1.7115 - acc: 0.4776 - val_loss: 1.9737 - val_acc: 0.3265\n",
            "Epoch 7/400\n",
            "469/469 [==============================] - 4s 8ms/step - loss: 1.5706 - acc: 0.5203 - val_loss: 1.8560 - val_acc: 0.3776\n",
            "Epoch 8/400\n",
            "469/469 [==============================] - 4s 8ms/step - loss: 1.5156 - acc: 0.5672 - val_loss: 1.9458 - val_acc: 0.2959\n",
            "Epoch 9/400\n",
            "469/469 [==============================] - 4s 8ms/step - loss: 1.3560 - acc: 0.5821 - val_loss: 1.7466 - val_acc: 0.4286\n",
            "Epoch 10/400\n",
            "469/469 [==============================] - 4s 8ms/step - loss: 1.1857 - acc: 0.6503 - val_loss: 1.7191 - val_acc: 0.4490\n",
            "Epoch 11/400\n",
            "469/469 [==============================] - 4s 8ms/step - loss: 1.1097 - acc: 0.6887 - val_loss: 1.7209 - val_acc: 0.4388\n",
            "Epoch 12/400\n",
            "469/469 [==============================] - 4s 8ms/step - loss: 1.0210 - acc: 0.7335 - val_loss: 1.7362 - val_acc: 0.4592\n",
            "Epoch 13/400\n",
            "469/469 [==============================] - 4s 8ms/step - loss: 0.9481 - acc: 0.7761 - val_loss: 1.6992 - val_acc: 0.3878\n",
            "Epoch 14/400\n",
            "469/469 [==============================] - 4s 8ms/step - loss: 0.9078 - acc: 0.7825 - val_loss: 1.7685 - val_acc: 0.3571\n",
            "Epoch 15/400\n",
            "469/469 [==============================] - 4s 8ms/step - loss: 0.9268 - acc: 0.7548 - val_loss: 1.6999 - val_acc: 0.4592\n",
            "Epoch 16/400\n",
            "469/469 [==============================] - 4s 8ms/step - loss: 0.7714 - acc: 0.8294 - val_loss: 1.6929 - val_acc: 0.4694\n",
            "Epoch 17/400\n",
            "469/469 [==============================] - 4s 7ms/step - loss: 0.7747 - acc: 0.8102 - val_loss: 1.6318 - val_acc: 0.4490\n",
            "Epoch 18/400\n",
            "469/469 [==============================] - 3s 7ms/step - loss: 0.6437 - acc: 0.8486 - val_loss: 1.6896 - val_acc: 0.4694\n",
            "Epoch 19/400\n",
            "469/469 [==============================] - 4s 8ms/step - loss: 0.6665 - acc: 0.8422 - val_loss: 1.5962 - val_acc: 0.5102\n",
            "Epoch 20/400\n",
            "469/469 [==============================] - 4s 7ms/step - loss: 0.5482 - acc: 0.8870 - val_loss: 1.7498 - val_acc: 0.4694\n",
            "Epoch 21/400\n",
            "469/469 [==============================] - 4s 7ms/step - loss: 0.5136 - acc: 0.9062 - val_loss: 1.8550 - val_acc: 0.4592\n",
            "Epoch 22/400\n",
            "469/469 [==============================] - 4s 8ms/step - loss: 0.5387 - acc: 0.9126 - val_loss: 1.6938 - val_acc: 0.4592\n",
            "Epoch 23/400\n",
            "469/469 [==============================] - 4s 7ms/step - loss: 0.5409 - acc: 0.9126 - val_loss: 1.8369 - val_acc: 0.4388\n",
            "Epoch 24/400\n",
            "469/469 [==============================] - 4s 7ms/step - loss: 0.5133 - acc: 0.9104 - val_loss: 1.8467 - val_acc: 0.4490\n",
            "Epoch 25/400\n",
            "469/469 [==============================] - 4s 8ms/step - loss: 0.4992 - acc: 0.9232 - val_loss: 1.7782 - val_acc: 0.4388\n",
            "Epoch 26/400\n",
            "469/469 [==============================] - 4s 7ms/step - loss: 0.4865 - acc: 0.9254 - val_loss: 1.6802 - val_acc: 0.5102\n",
            "Epoch 27/400\n",
            "469/469 [==============================] - 4s 8ms/step - loss: 0.4991 - acc: 0.9232 - val_loss: 1.8109 - val_acc: 0.4490\n",
            "Epoch 28/400\n",
            "469/469 [==============================] - 4s 7ms/step - loss: 0.4665 - acc: 0.9211 - val_loss: 2.0486 - val_acc: 0.4286\n",
            "Epoch 29/400\n",
            "469/469 [==============================] - 3s 7ms/step - loss: 0.4848 - acc: 0.9168 - val_loss: 1.7932 - val_acc: 0.4796\n",
            "Epoch 30/400\n",
            "469/469 [==============================] - 4s 8ms/step - loss: 0.5061 - acc: 0.9168 - val_loss: 1.8003 - val_acc: 0.5000\n",
            "Epoch 31/400\n",
            "469/469 [==============================] - 4s 8ms/step - loss: 0.4586 - acc: 0.9168 - val_loss: 1.9212 - val_acc: 0.4592\n",
            "Epoch 32/400\n",
            "469/469 [==============================] - 4s 7ms/step - loss: 0.4155 - acc: 0.9424 - val_loss: 1.8793 - val_acc: 0.4592\n",
            "Epoch 33/400\n",
            "469/469 [==============================] - 4s 8ms/step - loss: 0.5013 - acc: 0.9126 - val_loss: 1.9219 - val_acc: 0.4286\n",
            "Epoch 34/400\n",
            "469/469 [==============================] - 4s 8ms/step - loss: 0.3685 - acc: 0.9680 - val_loss: 1.8746 - val_acc: 0.4796\n",
            "Epoch 35/400\n",
            "469/469 [==============================] - 4s 7ms/step - loss: 0.3960 - acc: 0.9638 - val_loss: 1.9005 - val_acc: 0.4388\n",
            "Epoch 36/400\n",
            "469/469 [==============================] - 4s 8ms/step - loss: 0.3650 - acc: 0.9659 - val_loss: 1.9387 - val_acc: 0.4796\n",
            "Epoch 37/400\n",
            "469/469 [==============================] - 4s 8ms/step - loss: 0.3707 - acc: 0.9616 - val_loss: 1.9733 - val_acc: 0.5000\n",
            "Epoch 38/400\n",
            "469/469 [==============================] - 4s 8ms/step - loss: 0.3791 - acc: 0.9659 - val_loss: 1.9127 - val_acc: 0.4694\n",
            "Epoch 39/400\n",
            "469/469 [==============================] - 4s 8ms/step - loss: 0.3560 - acc: 0.9659 - val_loss: 1.9415 - val_acc: 0.4898\n"
          ],
          "name": "stdout"
        }
      ]
    },
    {
      "cell_type": "code",
      "metadata": {
        "id": "zPe0lQ-VJC5K",
        "colab_type": "code",
        "outputId": "1e9e8f90-1888-497f-b1b3-bf8072f809c3",
        "colab": {
          "base_uri": "https://localhost:8080/",
          "height": 119
        }
      },
      "source": [
        "train_evaluated = saved_model.evaluate(x_train, y_train)\n",
        "validation_evaluated = saved_model.evaluate(x_valid, y_valid)\n",
        "test_evaluated = saved_model.evaluate(x_test, y_test)\n",
        "print('Training Accuracy: %.3f%%, Training Loss: %.3f' % (train_evaluated[1]*100, train_evaluated[0]))\n",
        "print('Validation Accuracy: %.3f%%, Validation Loss: %.3f' % (validation_evaluated[1]*100, validation_evaluated[0]))\n",
        "print('Test Accuracy: %.3f%%, Validation Loss: %.3f' % (test_evaluated[1]*100, test_evaluated[0]))"
      ],
      "execution_count": 83,
      "outputs": [
        {
          "output_type": "stream",
          "text": [
            "469/469 [==============================] - 1s 3ms/step\n",
            "98/98 [==============================] - 0s 2ms/step\n",
            "105/105 [==============================] - 0s 2ms/step\n",
            "Training Accuracy: 98.934%, Training Loss: 0.512\n",
            "Validation Accuracy: 51.020%, Validation Loss: 1.596\n",
            "Test Accuracy: 49.524%, Validation Loss: 1.773\n"
          ],
          "name": "stdout"
        }
      ]
    },
    {
      "cell_type": "code",
      "metadata": {
        "id": "brAdyyHTSo8F",
        "colab_type": "code",
        "outputId": "881028b8-09da-4e11-962a-90d5865c0326",
        "colab": {
          "base_uri": "https://localhost:8080/",
          "height": 499
        }
      },
      "source": [
        "acc = history.history['acc']\n",
        "val_acc = history.history['val_acc']\n",
        "\n",
        "loss = history.history['loss']\n",
        "val_loss = history.history['val_loss']\n",
        "\n",
        "epochs_range = range(len(loss))\n",
        "\n",
        "plt.figure(figsize=(8, 8))\n",
        "plt.subplot(1, 2, 1)\n",
        "plt.plot(epochs_range, acc, label='Training Accuracy')\n",
        "plt.plot(epochs_range, val_acc, label='Validation Accuracy')\n",
        "plt.legend(loc='lower right')\n",
        "plt.title('Training and Validation Accuracy')\n",
        "\n",
        "plt.subplot(1, 2, 2)\n",
        "plt.plot(epochs_range, loss, label='Training Loss')\n",
        "plt.plot(epochs_range, val_loss, label='Validation Loss')\n",
        "plt.legend(loc='upper right')\n",
        "plt.title('Training and Validation Loss')\n",
        "plt.show()"
      ],
      "execution_count": 84,
      "outputs": [
        {
          "output_type": "display_data",
          "data": {
            "image/png": "[encoded data removed]",
            "text/plain": [
              "<Figure size 576x576 with 2 Axes>"
            ]
          },
          "metadata": {
            "tags": []
          }
        }
      ]
    },
    {
      "cell_type": "code",
      "metadata": {
        "id": "XIOcpwqPKHKW",
        "colab_type": "code",
        "outputId": "a65ef106-9db8-4fe8-948d-0a2282864006",
        "colab": {
          "base_uri": "https://localhost:8080/",
          "height": 255
        }
      },
      "source": [
        "y_pred_classes = saved_model.predict_classes(x_test)\n",
        "y_test_classes = []\n",
        "for y_test_class in y_test:\n",
        "  y_test_classes.append(np.where(y_test_class == 1)[0][0])\n",
        "\n",
        "emotions_confusion_matrix = confusion_matrix(y_test_classes, y_pred_classes)\n",
        "print(classification_report(y_test_classes, y_pred_classes, target_names=emotions))"
      ],
      "execution_count": 85,
      "outputs": [
        {
          "output_type": "stream",
          "text": [
            "              precision    recall  f1-score   support\n",
            "\n",
            "       angry       0.60      0.60      0.60        15\n",
            "        calm       0.55      0.73      0.63        15\n",
            "     disgust       0.80      0.53      0.64        15\n",
            "     fearful       0.47      0.47      0.47        15\n",
            "       happy       0.42      0.53      0.47        15\n",
            "         sad       0.33      0.33      0.33        15\n",
            "   surprised       0.36      0.27      0.31        15\n",
            "\n",
            "    accuracy                           0.50       105\n",
            "   macro avg       0.50      0.50      0.49       105\n",
            "weighted avg       0.50      0.50      0.49       105\n",
            "\n"
          ],
          "name": "stdout"
        }
      ]
    },
    {
      "cell_type": "code",
      "metadata": {
        "id": "4YKIge8iU6-_",
        "colab_type": "code",
        "outputId": "f95a55cb-ade9-45e7-de60-3db93162df89",
        "colab": {
          "base_uri": "https://localhost:8080/",
          "height": 450
        }
      },
      "source": [
        "emotion_confusion_df = pd.DataFrame(emotions_confusion_matrix, index = emotions,\n",
        "                  columns = emotions)\n",
        "plt.figure(figsize = (10,7))\n",
        "sn.heatmap(emotion_confusion_df, annot=True)\n",
        "plt.xlabel('Actual', fontsize=18)\n",
        "plt.ylabel('Predicted', fontsize=18)\n",
        "plt.show()"
      ],
      "execution_count": 86,
      "outputs": [
        {
          "output_type": "display_data",
          "data": {
            "image/png": "[encoded data removed]",
            "text/plain": [
              "<Figure size 720x504 with 2 Axes>"
            ]
          },
          "metadata": {
            "tags": []
          }
        }
      ]
    }
  ]
}