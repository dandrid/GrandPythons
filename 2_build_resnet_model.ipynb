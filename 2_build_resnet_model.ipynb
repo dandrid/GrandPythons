{
  "nbformat": 4,
  "nbformat_minor": 0,
  "metadata": {
    "colab": {
      "name": "2_build_resnet_model",
      "provenance": []
    },
    "kernelspec": {
      "name": "python3",
      "display_name": "Python 3"
    }
  },
  "cells": [
    {
      "cell_type": "code",
      "metadata": {
        "id": "2ZQk30bIQmU5",
        "colab_type": "code",
        "colab": {}
      },
      "source": [
        "# helper to download the Data Set from Google Drive\n",
        "\n",
        "import requests\n",
        "import os\n",
        "\n",
        "def download_file_from_google_drive(id, destination):\n",
        "    URL = \"https://docs.google.com/uc?export=download\"\n",
        "\n",
        "    session = requests.Session()\n",
        "\n",
        "    response = session.get(URL, params = { 'id' : id }, stream = True)\n",
        "    token = get_confirm_token(response)\n",
        "\n",
        "    if token:\n",
        "        params = { 'id' : id, 'confirm' : token }\n",
        "        response = session.get(URL, params = params, stream = True)\n",
        "\n",
        "    save_response_content(response, destination)    \n",
        "\n",
        "def get_confirm_token(response):\n",
        "    for key, value in response.cookies.items():\n",
        "        if key.startswith('download_warning'):\n",
        "            return value\n",
        "\n",
        "    return None\n",
        "\n",
        "def save_response_content(response, destination):\n",
        "    CHUNK_SIZE = 32768\n",
        "\n",
        "    with open(destination, \"wb\") as f:\n",
        "        for chunk in response.iter_content(CHUNK_SIZE):\n",
        "            if chunk: # filter out keep-alive new chunks\n",
        "                f.write(chunk)"
      ],
      "execution_count": 0,
      "outputs": []
    },
    {
      "cell_type": "code",
      "metadata": {
        "id": "a6OZS014V10Z",
        "colab_type": "code",
        "colab": {}
      },
      "source": [
        "# Download the pre processed data set\n",
        "file_id = '1a2TRcqj5ySMWwetfU3Zgq4FE-highOKK'\n",
        "\n",
        "destination = 'RAVDESS-train.zip'\n",
        "\n",
        "if not os.path.exists(destination):\n",
        "    download_file_from_google_drive(file_id, destination)"
      ],
      "execution_count": 0,
      "outputs": []
    },
    {
      "cell_type": "code",
      "metadata": {
        "id": "uQQiMbvVV6Wc",
        "colab_type": "code",
        "outputId": "dbe078d7-3c00-445b-87d9-acba4894e6f7",
        "colab": {
          "base_uri": "https://localhost:8080/",
          "height": 85
        }
      },
      "source": [
        "!ls -lh"
      ],
      "execution_count": 15,
      "outputs": [
        {
          "output_type": "stream",
          "text": [
            "total 506M\n",
            "drwxr-xr-x 3 root root 4.0K Dec 13 08:56 RAVDESS\n",
            "-rw-r--r-- 1 root root 506M Dec 13 08:56 RAVDESS-train.zip\n",
            "drwxr-xr-x 1 root root 4.0K Dec  6 16:53 sample_data\n"
          ],
          "name": "stdout"
        }
      ]
    },
    {
      "cell_type": "code",
      "metadata": {
        "id": "4wLOrW92V8DO",
        "colab_type": "code",
        "outputId": "4d19a5bb-8d10-4d41-faee-67961f6756b4",
        "colab": {
          "base_uri": "https://localhost:8080/",
          "height": 34
        }
      },
      "source": [
        "!unzip -n RAVDESS-train.zip"
      ],
      "execution_count": 16,
      "outputs": [
        {
          "output_type": "stream",
          "text": [
            "Archive:  RAVDESS-train.zip\n"
          ],
          "name": "stdout"
        }
      ]
    },
    {
      "cell_type": "code",
      "metadata": {
        "id": "nuSa6fanV_Ni",
        "colab_type": "code",
        "outputId": "6ccb9659-a367-42d6-b88e-2f03a6f203b1",
        "colab": {
          "base_uri": "https://localhost:8080/",
          "height": 34
        }
      },
      "source": [
        "!ls RAVDESS/train_valid/test -lh"
      ],
      "execution_count": 33,
      "outputs": [
        {
          "output_type": "stream",
          "text": [
            "ls: cannot access 'RAVDESS/train_valid/test': No such file or directory\n"
          ],
          "name": "stdout"
        }
      ]
    },
    {
      "cell_type": "code",
      "metadata": {
        "id": "ak998tBGWB5-",
        "colab_type": "code",
        "colab": {}
      },
      "source": [
        "import numpy as np\n",
        "import pandas as pd\n",
        "import librosa\n",
        "from scipy.signal import spectrogram\n",
        "import math\n",
        "import matplotlib.pyplot as plt\n",
        "import random\n",
        "import re\n",
        "import gc\n",
        "from IPython.display import Image, display\n",
        "from sklearn.model_selection import train_test_split\n",
        "from PIL import Image, ImageFile\n",
        "ImageFile.LOAD_TRUNCATED_IMAGES = True"
      ],
      "execution_count": 0,
      "outputs": []
    },
    {
      "cell_type": "code",
      "metadata": {
        "id": "NH-5si1WWIf_",
        "colab_type": "code",
        "colab": {}
      },
      "source": [
        "def name_to_data(self, path):\n",
        "    numbers = re.findall(r'\\d+', path) # numbers in the name of the audio file\n",
        "    # spectogram = Image.open(spectogram_path) # consumes too much memory\n",
        "    return [\n",
        "        self.emotions[numbers[2]],\n",
        "        self.emotion_intensities[numbers[3]],\n",
        "        self.statements[numbers[4]],\n",
        "        self.repetitions[int(numbers[5])-1],\n",
        "        numbers[6], \n",
        "        self.actors[numbers[6]], \n",
        "        path\n",
        "    ]\n",
        "\n",
        "\n",
        "# Creates the Data Frame for the RAVDESS\n",
        "def create_dataframe(self):\n",
        "    print('Create dataframe')\n",
        "    data = []\n",
        "    specograms_paths = self.get_split_image_paths()\n",
        "    for specograms_path in specograms_paths:\n",
        "        data.append(self.name_to_data(specograms_path))\n",
        "\n",
        "    df = pd.DataFrame(  # contruct DataFrame from data\n",
        "        { \n",
        "            'emotion'           : pd.Categorical([row[0] for row in data]),\n",
        "            'emotion_intensity' : pd.Categorical([row[1] for row in data]),\n",
        "            'statement'         : pd.Categorical([row[2] for row in data]),\n",
        "            'repetition'        : pd.Categorical([row[3] for row in data]),\n",
        "            'actor'             : pd.Categorical([row[4] for row in data]),\n",
        "            'actor_gender'      : pd.Categorical([row[5] for row in data]),\n",
        "            'image'             : pd.Categorical([row[6] for row in data])\n",
        "        })\n",
        "\n",
        "    # one-hot encode columns\n",
        "    df = pd.get_dummies(df, columns=[\"emotion\", \"emotion_intensity\", \"statement\", \"repetition\", \"actor\", \"actor_gender\"])\n",
        "    return df"
      ],
      "execution_count": 0,
      "outputs": []
    },
    {
      "cell_type": "code",
      "metadata": {
        "id": "5rabsoFCWQF6",
        "colab_type": "code",
        "colab": {}
      },
      "source": [
        "# create directory path helper variables\n",
        "base_dir = 'RAVDESS/train_valid/'\n",
        "train_dir = os.path.join(base_dir, 'train')\n",
        "validation_dir = os.path.join(base_dir, 'valid')\n",
        "test_dir = os.path.join(base_dir, 'test')"
      ],
      "execution_count": 0,
      "outputs": []
    },
    {
      "cell_type": "code",
      "metadata": {
        "id": "tRUEG0pmWRwU",
        "colab_type": "code",
        "colab": {}
      },
      "source": [
        "from keras.models import Model\n",
        "from keras.preprocessing.image import ImageDataGenerator\n",
        "from keras.applications.resnet50 import ResNet50,preprocess_input,decode_predictions\n",
        "from keras.preprocessing import image\n",
        "from keras.optimizers import SGD\n",
        "from keras.layers import Dense, GlobalAveragePooling2D\n",
        "from keras import backend as K\n",
        "from keras.layers import Flatten\n",
        "import numpy as np"
      ],
      "execution_count": 0,
      "outputs": []
    },
    {
      "cell_type": "code",
      "metadata": {
        "id": "9fyJb45sgXhA",
        "colab_type": "code",
        "colab": {}
      },
      "source": [
        "resnet_img_height=128\n",
        "resnet_img_width=128"
      ],
      "execution_count": 0,
      "outputs": []
    },
    {
      "cell_type": "code",
      "metadata": {
        "id": "pgTfNeVggaKY",
        "colab_type": "code",
        "outputId": "53e960c1-ed6f-4d30-fbfa-d6b6487c81f3",
        "colab": {
          "base_uri": "https://localhost:8080/",
          "height": 547
        }
      },
      "source": [
        "# load the pre-trained InceptionV3 model without the fully-connected layers\n",
        "base_model = ResNet50(include_top=False, weights='imagenet', input_shape=(128, 128, 3))\n",
        "\n",
        "x = base_model.output\n",
        "x = GlobalAveragePooling2D()(x)\n",
        "x = Dense(1024, activation='relu')(x)\n",
        "predictions = Dense(8,activation='softmax')(x)\n",
        "\n",
        "# for layer in base_model.layers:\n",
        "#   print(layer)\n",
        "\n",
        "# create new top layers for the model\n",
        "# output = base_model.layers[-1].output\n",
        "# output = Flatten()(output)\n",
        "\n",
        "# Fully connected layer with Relu activation\n",
        "# x = Dense(1024, activation='relu')(x)\n",
        "# base_model.add(Dense(512, activation='relu', input_dim=input_shape))\n",
        "# base_model.add(Dropout(0.3))\n",
        "# base_model.add(Dense(512, activation='relu'))\n",
        "# base_model.add(Dropout(0.3))\n",
        "\n",
        "# The output layer has 8 neurons, as we have 8 different emotion in the data set. The activation is set to softmax.\n",
        "# predictions = Dense(8, activation='softmax')(x)\n",
        "\n",
        "# Finalize the model\n",
        "model = Model(inputs=base_model.input, outputs=predictions)\n",
        "\n"
      ],
      "execution_count": 23,
      "outputs": [
        {
          "output_type": "stream",
          "text": [
            "WARNING:tensorflow:From /usr/local/lib/python3.6/dist-packages/keras/backend/tensorflow_backend.py:66: The name tf.get_default_graph is deprecated. Please use tf.compat.v1.get_default_graph instead.\n",
            "\n",
            "WARNING:tensorflow:From /usr/local/lib/python3.6/dist-packages/keras/backend/tensorflow_backend.py:541: The name tf.placeholder is deprecated. Please use tf.compat.v1.placeholder instead.\n",
            "\n",
            "WARNING:tensorflow:From /usr/local/lib/python3.6/dist-packages/keras/backend/tensorflow_backend.py:4479: The name tf.truncated_normal is deprecated. Please use tf.random.truncated_normal instead.\n",
            "\n",
            "WARNING:tensorflow:From /usr/local/lib/python3.6/dist-packages/keras/backend/tensorflow_backend.py:190: The name tf.get_default_session is deprecated. Please use tf.compat.v1.get_default_session instead.\n",
            "\n",
            "WARNING:tensorflow:From /usr/local/lib/python3.6/dist-packages/keras/backend/tensorflow_backend.py:197: The name tf.ConfigProto is deprecated. Please use tf.compat.v1.ConfigProto instead.\n",
            "\n",
            "WARNING:tensorflow:From /usr/local/lib/python3.6/dist-packages/keras/backend/tensorflow_backend.py:203: The name tf.Session is deprecated. Please use tf.compat.v1.Session instead.\n",
            "\n",
            "WARNING:tensorflow:From /usr/local/lib/python3.6/dist-packages/keras/backend/tensorflow_backend.py:207: The name tf.global_variables is deprecated. Please use tf.compat.v1.global_variables instead.\n",
            "\n",
            "WARNING:tensorflow:From /usr/local/lib/python3.6/dist-packages/keras/backend/tensorflow_backend.py:216: The name tf.is_variable_initialized is deprecated. Please use tf.compat.v1.is_variable_initialized instead.\n",
            "\n",
            "WARNING:tensorflow:From /usr/local/lib/python3.6/dist-packages/keras/backend/tensorflow_backend.py:223: The name tf.variables_initializer is deprecated. Please use tf.compat.v1.variables_initializer instead.\n",
            "\n",
            "WARNING:tensorflow:From /usr/local/lib/python3.6/dist-packages/keras/backend/tensorflow_backend.py:2041: The name tf.nn.fused_batch_norm is deprecated. Please use tf.compat.v1.nn.fused_batch_norm instead.\n",
            "\n",
            "WARNING:tensorflow:From /usr/local/lib/python3.6/dist-packages/keras/backend/tensorflow_backend.py:148: The name tf.placeholder_with_default is deprecated. Please use tf.compat.v1.placeholder_with_default instead.\n",
            "\n",
            "WARNING:tensorflow:From /usr/local/lib/python3.6/dist-packages/keras/backend/tensorflow_backend.py:4267: The name tf.nn.max_pool is deprecated. Please use tf.nn.max_pool2d instead.\n",
            "\n"
          ],
          "name": "stdout"
        },
        {
          "output_type": "stream",
          "text": [
            "/usr/local/lib/python3.6/dist-packages/keras_applications/resnet50.py:265: UserWarning: The output shape of `ResNet50(include_top=False)` has been changed since Keras 2.2.0.\n",
            "  warnings.warn('The output shape of `ResNet50(include_top=False)` '\n"
          ],
          "name": "stderr"
        },
        {
          "output_type": "stream",
          "text": [
            "Downloading data from https://github.com/fchollet/deep-learning-models/releases/download/v0.2/resnet50_weights_tf_dim_ordering_tf_kernels_notop.h5\n",
            "94658560/94653016 [==============================] - 3s 0us/step\n",
            "WARNING:tensorflow:From /usr/local/lib/python3.6/dist-packages/keras/backend/tensorflow_backend.py:4432: The name tf.random_uniform is deprecated. Please use tf.random.uniform instead.\n",
            "\n"
          ],
          "name": "stdout"
        }
      ]
    },
    {
      "cell_type": "code",
      "metadata": {
        "id": "tQHwKd-ZLHw0",
        "colab_type": "code",
        "outputId": "44e68ed4-4a7f-4f81-9830-018c2995b5f1",
        "colab": {
          "base_uri": "https://localhost:8080/",
          "height": 105
        }
      },
      "source": [
        "for layer in base_model.layers:\n",
        "    layer.trainable = False\n",
        "\n",
        "# We use categorical_crossentropy as we have multiple classes\n",
        "model.compile(optimizer='rmsprop', metrics=['accuracy'], loss='categorical_crossentropy')"
      ],
      "execution_count": 24,
      "outputs": [
        {
          "output_type": "stream",
          "text": [
            "WARNING:tensorflow:From /usr/local/lib/python3.6/dist-packages/keras/optimizers.py:793: The name tf.train.Optimizer is deprecated. Please use tf.compat.v1.train.Optimizer instead.\n",
            "\n",
            "WARNING:tensorflow:From /usr/local/lib/python3.6/dist-packages/keras/backend/tensorflow_backend.py:3576: The name tf.log is deprecated. Please use tf.math.log instead.\n",
            "\n"
          ],
          "name": "stdout"
        }
      ]
    },
    {
      "cell_type": "code",
      "metadata": {
        "id": "5cKzyThULJ4V",
        "colab_type": "code",
        "outputId": "b5936384-1853-4d35-e556-11696d75df2e",
        "colab": {
          "base_uri": "https://localhost:8080/",
          "height": 68
        }
      },
      "source": [
        "print(\"Number of original train images: \" + str(sum([len(files) for r, d, files in os.walk(train_dir)])))\n",
        "print(\"Number of original validation images: \" + str(sum([len(files) for r, d, files in os.walk(validation_dir)])))\n",
        "print(\"Number of original test images: \" + str(sum([len(files) for r, d, files in os.walk(test_dir)])))"
      ],
      "execution_count": 25,
      "outputs": [
        {
          "output_type": "stream",
          "text": [
            "Number of original train images: 28701\n",
            "Number of original validation images: 12306\n",
            "Number of original test images: 0\n"
          ],
          "name": "stdout"
        }
      ]
    },
    {
      "cell_type": "code",
      "metadata": {
        "id": "zTMosQhMLPRi",
        "colab_type": "code",
        "outputId": "213d523b-c3b8-4db5-c58d-ca225eb1fb0c",
        "colab": {
          "base_uri": "https://localhost:8080/",
          "height": 51
        }
      },
      "source": [
        "# Load the images with ImageDataGenerator. The original images are not augmented as we have a fixed time series images. The Image is rescaled to 0..1 range.\n",
        "train_datagen = ImageDataGenerator(rescale=1./255, rotation_range=0, width_shift_range=0, height_shift_range=0, zoom_range=0, horizontal_flip=False, vertical_flip=False)\n",
        "validation_datagen = ImageDataGenerator(rescale=1./255, rotation_range=0, width_shift_range=0, height_shift_range=0, zoom_range=0, horizontal_flip=False, vertical_flip=False)\n",
        "train_generator = train_datagen.flow_from_directory(train_dir, target_size=(resnet_img_height, resnet_img_width), batch_size=32, class_mode='categorical', seed=42)\n",
        "validation_generator = validation_datagen.flow_from_directory(validation_dir, target_size=(resnet_img_height, resnet_img_width), batch_size=32, class_mode='categorical', seed=42)"
      ],
      "execution_count": 26,
      "outputs": [
        {
          "output_type": "stream",
          "text": [
            "Found 28701 images belonging to 8 classes.\n",
            "Found 12306 images belonging to 8 classes.\n"
          ],
          "name": "stdout"
        }
      ]
    },
    {
      "cell_type": "code",
      "metadata": {
        "id": "9znniCPWLRt2",
        "colab_type": "code",
        "outputId": "73c6139f-99d6-4bc2-c0ac-85ed8ff4962d",
        "colab": {
          "base_uri": "https://localhost:8080/",
          "height": 343
        }
      },
      "source": [
        "# The model used the train generator to load and randomize the data. \n",
        "model.fit(train_generator,steps_per_epoch=5,validation_data=validation_generator,validation_steps=10,epochs=5)"
      ],
      "execution_count": 27,
      "outputs": [
        {
          "output_type": "stream",
          "text": [
            "WARNING:tensorflow:From /usr/local/lib/python3.6/dist-packages/tensorflow_core/python/ops/math_grad.py:1424: where (from tensorflow.python.ops.array_ops) is deprecated and will be removed in a future version.\n",
            "Instructions for updating:\n",
            "Use tf.where in 2.0, which has the same broadcast rule as np.where\n",
            "WARNING:tensorflow:From /usr/local/lib/python3.6/dist-packages/keras/backend/tensorflow_backend.py:1033: The name tf.assign_add is deprecated. Please use tf.compat.v1.assign_add instead.\n",
            "\n",
            "WARNING:tensorflow:From /usr/local/lib/python3.6/dist-packages/keras/backend/tensorflow_backend.py:1020: The name tf.assign is deprecated. Please use tf.compat.v1.assign instead.\n",
            "\n",
            "Epoch 1/5\n",
            "5/5 [==============================] - 51s 10s/step - loss: 8.6892 - acc: 0.1375 - val_loss: 2.7250 - val_acc: 0.1406\n",
            "Epoch 2/5\n",
            "5/5 [==============================] - 40s 8s/step - loss: 11.2018 - acc: 0.1438 - val_loss: 2.5834 - val_acc: 0.0938\n",
            "Epoch 3/5\n",
            "5/5 [==============================] - 40s 8s/step - loss: 9.4433 - acc: 0.1750 - val_loss: 2.2770 - val_acc: 0.1437\n",
            "Epoch 4/5\n",
            "5/5 [==============================] - 40s 8s/step - loss: 7.2157 - acc: 0.1313 - val_loss: 2.4279 - val_acc: 0.1313\n",
            "Epoch 5/5\n",
            "5/5 [==============================] - 40s 8s/step - loss: 5.8945 - acc: 0.1313 - val_loss: 2.4348 - val_acc: 0.1344\n"
          ],
          "name": "stdout"
        },
        {
          "output_type": "execute_result",
          "data": {
            "text/plain": [
              "<keras.callbacks.History at 0x7f58f1ff51d0>"
            ]
          },
          "metadata": {
            "tags": []
          },
          "execution_count": 27
        }
      ]
    },
    {
      "cell_type": "code",
      "metadata": {
        "id": "i7cNpPUxLUSi",
        "colab_type": "code",
        "outputId": "0d35b659-b360-454e-b346-e54526fceb8b",
        "colab": {
          "base_uri": "https://localhost:8080/",
          "height": 34
        }
      },
      "source": [
        "# Allow the upper layers of the InceptionV3 model to be trained\n",
        "summ= 0\n",
        "for layer in model.layers[:89]:\n",
        "  layer.trainable = False\n",
        "  summ+=1\n",
        "for layer in model.layers[89:]:\n",
        "  layer.trainable = True\n",
        "  summ+=1\n",
        "\n",
        "print(summ)"
      ],
      "execution_count": 28,
      "outputs": [
        {
          "output_type": "stream",
          "text": [
            "178\n"
          ],
          "name": "stdout"
        }
      ]
    },
    {
      "cell_type": "code",
      "metadata": {
        "id": "EHdsn_mwLXp2",
        "colab_type": "code",
        "colab": {}
      },
      "source": [
        "# We recompile the model to take affect\n",
        "model.compile(optimizer=SGD(lr=0.0001, momentum=0.9), metrics=['accuracy'], loss='categorical_crossentropy')"
      ],
      "execution_count": 0,
      "outputs": []
    },
    {
      "cell_type": "code",
      "metadata": {
        "id": "KGfYCam1LaXf",
        "colab_type": "code",
        "outputId": "6399aca9-0765-4821-dae4-a5b1df29e510",
        "colab": {
          "base_uri": "https://localhost:8080/",
          "height": 527
        }
      },
      "source": [
        "history = model.fit_generator(train_generator,steps_per_epoch=5,validation_data=validation_generator,validation_steps=10,epochs=15)"
      ],
      "execution_count": 30,
      "outputs": [
        {
          "output_type": "stream",
          "text": [
            "Epoch 1/15\n",
            "5/5 [==============================] - 70s 14s/step - loss: 6.1565 - acc: 0.1500 - val_loss: 12.0302 - val_acc: 0.1156\n",
            "Epoch 2/15\n",
            "5/5 [==============================] - 58s 12s/step - loss: 5.7093 - acc: 0.1625 - val_loss: 12.9145 - val_acc: 0.0938\n",
            "Epoch 3/15\n",
            "5/5 [==============================] - 58s 12s/step - loss: 4.9912 - acc: 0.1812 - val_loss: 10.6970 - val_acc: 0.1344\n",
            "Epoch 4/15\n",
            "5/5 [==============================] - 58s 12s/step - loss: 5.5003 - acc: 0.1125 - val_loss: 12.9169 - val_acc: 0.1531\n",
            "Epoch 5/15\n",
            "5/5 [==============================] - 58s 12s/step - loss: 5.3168 - acc: 0.2063 - val_loss: 13.4789 - val_acc: 0.1469\n",
            "Epoch 6/15\n",
            "5/5 [==============================] - 58s 12s/step - loss: 4.6299 - acc: 0.2312 - val_loss: 13.1383 - val_acc: 0.1688\n",
            "Epoch 7/15\n",
            "5/5 [==============================] - 58s 12s/step - loss: 6.7697 - acc: 0.1438 - val_loss: 13.5434 - val_acc: 0.1219\n",
            "Epoch 8/15\n",
            "5/5 [==============================] - 58s 12s/step - loss: 5.0461 - acc: 0.2125 - val_loss: 12.3178 - val_acc: 0.1719\n",
            "Epoch 9/15\n",
            "5/5 [==============================] - 58s 12s/step - loss: 5.2150 - acc: 0.1625 - val_loss: 12.4274 - val_acc: 0.1531\n",
            "Epoch 10/15\n",
            "5/5 [==============================] - 58s 12s/step - loss: 5.3419 - acc: 0.1750 - val_loss: 11.9850 - val_acc: 0.1625\n",
            "Epoch 11/15\n",
            "5/5 [==============================] - 58s 12s/step - loss: 5.5608 - acc: 0.2375 - val_loss: 12.1482 - val_acc: 0.1844\n",
            "Epoch 12/15\n",
            "5/5 [==============================] - 58s 12s/step - loss: 4.2580 - acc: 0.2563 - val_loss: 12.8734 - val_acc: 0.1531\n",
            "Epoch 13/15\n",
            "5/5 [==============================] - 59s 12s/step - loss: 5.5133 - acc: 0.1375 - val_loss: 13.4271 - val_acc: 0.1437\n",
            "Epoch 14/15\n",
            "5/5 [==============================] - 58s 12s/step - loss: 5.6129 - acc: 0.1438 - val_loss: 13.2765 - val_acc: 0.1313\n",
            "Epoch 15/15\n",
            "5/5 [==============================] - 58s 12s/step - loss: 5.7384 - acc: 0.1812 - val_loss: 12.6071 - val_acc: 0.1719\n"
          ],
          "name": "stdout"
        }
      ]
    },
    {
      "cell_type": "code",
      "metadata": {
        "id": "eyQ2FRD9LcjF",
        "colab_type": "code",
        "outputId": "01e0c177-c22d-471f-f7b8-d0ddac8ec64a",
        "colab": {
          "base_uri": "https://localhost:8080/",
          "height": 499
        }
      },
      "source": [
        "acc = history.history['acc']\n",
        "val_acc = history.history['val_acc']\n",
        "\n",
        "loss = history.history['loss']\n",
        "val_loss = history.history['val_loss']\n",
        "\n",
        "epochs_range = range(15)\n",
        "\n",
        "plt.figure(figsize=(8, 8))\n",
        "plt.subplot(1, 2, 1)\n",
        "plt.plot(epochs_range, acc, label='Training Accuracy')\n",
        "plt.plot(epochs_range, val_acc, label='Validation Accuracy')\n",
        "plt.legend(loc='lower right')\n",
        "plt.title('Training and Validation Accuracy')\n",
        "\n",
        "plt.subplot(1, 2, 2)\n",
        "plt.plot(epochs_range, loss, label='Training Loss')\n",
        "plt.plot(epochs_range, val_loss, label='Validation Loss')\n",
        "plt.legend(loc='upper right')\n",
        "plt.title('Training and Validation Loss')\n",
        "plt.show()"
      ],
      "execution_count": 31,
      "outputs": [
        {
          "output_type": "display_data",
          "data": {
            "image/png": "[encoded data removed]",
            "text/plain": [
              "<Figure size 576x576 with 2 Axes>"
            ]
          },
          "metadata": {
            "tags": []
          }
        }
      ]
    },
    {
      "cell_type": "code",
      "metadata": {
        "id": "9DAPBqnwj_qR",
        "colab_type": "code",
        "colab": {}
      },
      "source": [
        "# test_datagen = ImageDataGenerator(rescale=1./255, rotation_range=0, width_shift_range=0, height_shift_range=0, zoom_range=0, horizontal_flip=False, vertical_flip=False)\n",
        "# test_generator = test_datagen.flow_from_directory(test_dir, target_size=(resnet_img_height, resnet_img_width), batch_size=32, class_mode='categorical', seed=42)\n",
        "# scores = model.evaluate_generator(test_generator)\n",
        "# print(\"Accuracy = \", scores[1])"
      ],
      "execution_count": 0,
      "outputs": []
    },
    {
      "cell_type": "code",
      "metadata": {
        "id": "mPQlZHvsmO5k",
        "colab_type": "code",
        "colab": {}
      },
      "source": [
        "# from sklearn.metrics import confusion_matrix\n",
        "# import seaborn as sns"
      ],
      "execution_count": 0,
      "outputs": []
    },
    {
      "cell_type": "code",
      "metadata": {
        "id": "U2U0VIj2mIhC",
        "colab_type": "code",
        "colab": {}
      },
      "source": [
        "# conf= confusion_matrix(y_test,np.argmax(preds,axis=1))\n",
        "\n",
        "# sns.set()\n",
        "# sns.heatmap(conf)\n"
      ],
      "execution_count": 0,
      "outputs": []
    }
  ]
}