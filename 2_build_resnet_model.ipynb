{
  "nbformat": 4,
  "nbformat_minor": 0,
  "metadata": {
    "colab": {
      "name": "2_build_resnet_model",
      "provenance": []
    },
    "kernelspec": {
      "name": "python3",
      "display_name": "Python 3"
    }
  },
  "cells": [
    {
      "cell_type": "code",
      "metadata": {
        "id": "2ZQk30bIQmU5",
        "colab_type": "code",
        "colab": {}
      },
      "source": [
        "# helper to download the Data Set from Google Drive\n",
        "\n",
        "import requests\n",
        "import os\n",
        "\n",
        "def download_file_from_google_drive(id, destination):\n",
        "    URL = \"https://docs.google.com/uc?export=download\"\n",
        "\n",
        "    session = requests.Session()\n",
        "\n",
        "    response = session.get(URL, params = { 'id' : id }, stream = True)\n",
        "    token = get_confirm_token(response)\n",
        "\n",
        "    if token:\n",
        "        params = { 'id' : id, 'confirm' : token }\n",
        "        response = session.get(URL, params = params, stream = True)\n",
        "\n",
        "    save_response_content(response, destination)    \n",
        "\n",
        "def get_confirm_token(response):\n",
        "    for key, value in response.cookies.items():\n",
        "        if key.startswith('download_warning'):\n",
        "            return value\n",
        "\n",
        "    return None\n",
        "\n",
        "def save_response_content(response, destination):\n",
        "    CHUNK_SIZE = 32768\n",
        "\n",
        "    with open(destination, \"wb\") as f:\n",
        "        for chunk in response.iter_content(CHUNK_SIZE):\n",
        "            if chunk: # filter out keep-alive new chunks\n",
        "                f.write(chunk)"
      ],
      "execution_count": 0,
      "outputs": []
    },
    {
      "cell_type": "code",
      "metadata": {
        "id": "a6OZS014V10Z",
        "colab_type": "code",
        "colab": {}
      },
      "source": [
        "# Download the pre processed data set\n",
        "file_id = '1snoB3mte3eyzYOEQTJAaRWz7M-7cJMjb'\n",
        "\n",
        "destination = 'RAVDESS_train.zip'\n",
        "\n",
        "if not os.path.exists(destination):\n",
        "    download_file_from_google_drive(file_id, destination)"
      ],
      "execution_count": 0,
      "outputs": []
    },
    {
      "cell_type": "code",
      "metadata": {
        "id": "uQQiMbvVV6Wc",
        "colab_type": "code",
        "outputId": "48ce9f0a-f713-46dd-f6f1-0db339f30f30",
        "colab": {
          "base_uri": "https://localhost:8080/",
          "height": 102
        }
      },
      "source": [
        "!ls -lh"
      ],
      "execution_count": 193,
      "outputs": [
        {
          "output_type": "stream",
          "text": [
            "total 350M\n",
            "-rw-r--r-- 1 root root 197M Dec 15 17:01 bestmodel.hdf5\n",
            "drwxr-xr-x 3 root root 4.0K Dec 15 13:38 RAVDESS\n",
            "-rw-r--r-- 1 root root 154M Dec 15 13:38 RAVDESS_train.zip\n",
            "drwxr-xr-x 1 root root 4.0K Dec 12 16:48 sample_data\n"
          ],
          "name": "stdout"
        }
      ]
    },
    {
      "cell_type": "code",
      "metadata": {
        "id": "4wLOrW92V8DO",
        "colab_type": "code",
        "outputId": "55abb1af-93f5-4c58-9d4b-69f1a6652572",
        "colab": {
          "base_uri": "https://localhost:8080/",
          "height": 51
        }
      },
      "source": [
        "!unzip RAVDESS_train.zip"
      ],
      "execution_count": 194,
      "outputs": [
        {
          "output_type": "stream",
          "text": [
            "Archive:  RAVDESS_train.zip\n",
            "replace RAVDESS/train_valid/test/fearful/03-01-06-02-01-01-05-100.png? [y]es, [n]o, [A]ll, [N]one, [r]ename: N\n"
          ],
          "name": "stdout"
        }
      ]
    },
    {
      "cell_type": "code",
      "metadata": {
        "id": "nuSa6fanV_Ni",
        "colab_type": "code",
        "outputId": "fe119148-719d-48b6-92a2-96a43241d4be",
        "colab": {
          "base_uri": "https://localhost:8080/",
          "height": 170
        }
      },
      "source": [
        "!ls RAVDESS/train_valid/test -lh"
      ],
      "execution_count": 195,
      "outputs": [
        {
          "output_type": "stream",
          "text": [
            "total 32K\n",
            "drwxr-xr-x 2 root root 4.0K Dec 15 16:39 angry\n",
            "drwxr-xr-x 2 root root 4.0K Dec 15 16:39 calm\n",
            "drwxr-xr-x 2 root root 4.0K Dec 15 16:39 disgust\n",
            "drwxr-xr-x 2 root root 4.0K Dec 15 16:39 fearful\n",
            "drwxr-xr-x 2 root root 4.0K Dec 15 16:39 happy\n",
            "drwxr-xr-x 2 root root 4.0K Dec 15 16:39 neutral\n",
            "drwxr-xr-x 2 root root 4.0K Dec 15 16:39 sad\n",
            "drwxr-xr-x 2 root root 4.0K Dec 15 16:39 surprised\n"
          ],
          "name": "stdout"
        }
      ]
    },
    {
      "cell_type": "code",
      "metadata": {
        "id": "ak998tBGWB5-",
        "colab_type": "code",
        "colab": {}
      },
      "source": [
        "import numpy as np\n",
        "import pandas as pd\n",
        "import librosa\n",
        "from scipy.signal import spectrogram\n",
        "import math\n",
        "import matplotlib.pyplot as plt\n",
        "import seaborn as sn\n",
        "import random\n",
        "import re\n",
        "import gc\n",
        "from IPython.display import Image, display\n",
        "from sklearn.model_selection import train_test_split\n",
        "from PIL import Image, ImageFile\n",
        "ImageFile.LOAD_TRUNCATED_IMAGES = True"
      ],
      "execution_count": 0,
      "outputs": []
    },
    {
      "cell_type": "code",
      "metadata": {
        "id": "5rabsoFCWQF6",
        "colab_type": "code",
        "colab": {}
      },
      "source": [
        "# create directory path helper variables\n",
        "base_dir = 'RAVDESS/train_valid/'\n",
        "train_dir = os.path.join(base_dir, 'train')\n",
        "validation_dir = os.path.join(base_dir, 'valid')\n",
        "test_dir = os.path.join(base_dir, 'test')"
      ],
      "execution_count": 0,
      "outputs": []
    },
    {
      "cell_type": "code",
      "metadata": {
        "id": "tRUEG0pmWRwU",
        "colab_type": "code",
        "colab": {}
      },
      "source": [
        "from keras.models import Model\n",
        "from keras.preprocessing.image import ImageDataGenerator\n",
        "from keras.applications.resnet50 import ResNet50,preprocess_input,decode_predictions\n",
        "from keras.preprocessing import image\n",
        "from keras.layers import Conv2D, MaxPooling2D, Flatten, Dense, Dropout, InputLayer\n",
        "from keras import backend as K\n",
        "from keras.layers import Flatten\n",
        "import numpy as np\n",
        "from keras.models import Sequential\n",
        "from keras import optimizers\n",
        "from keras.callbacks import EarlyStopping\n",
        "from keras.callbacks import ModelCheckpoint\n",
        "from keras.models import load_model\n",
        "from sklearn.metrics import classification_report, confusion_matrix"
      ],
      "execution_count": 0,
      "outputs": []
    },
    {
      "cell_type": "code",
      "metadata": {
        "id": "9fyJb45sgXhA",
        "colab_type": "code",
        "colab": {}
      },
      "source": [
        "resnet_img_height=128\n",
        "resnet_img_width=200"
      ],
      "execution_count": 0,
      "outputs": []
    },
    {
      "cell_type": "code",
      "metadata": {
        "id": "pgTfNeVggaKY",
        "colab_type": "code",
        "outputId": "e2f1b7f0-32e2-4752-c05a-72ef7b85a52e",
        "colab": {
          "base_uri": "https://localhost:8080/",
          "height": 1000
        }
      },
      "source": [
        "# using a pretrained resnet model, dowloading without the top layers\n",
        "base_model = ResNet50(include_top=False, weights='imagenet', input_shape=(resnet_img_height,resnet_img_width,3))\n",
        "for layer in base_model.layers:\n",
        "    layer.trainable = True\n",
        "\n",
        "# adding the top layers for classification  \n",
        "x = base_model.output\n",
        "x = GlobalAveragePooling2D()(x)\n",
        "x = Dense(1024, activation='relu')(x)\n",
        "predictions = Dense(8, activation='softmax')(x)\n",
        "model = Model(base_model.input, predictions)\n",
        "model.summary()"
      ],
      "execution_count": 200,
      "outputs": [
        {
          "output_type": "stream",
          "text": [
            "/usr/local/lib/python3.6/dist-packages/keras_applications/resnet50.py:265: UserWarning: The output shape of `ResNet50(include_top=False)` has been changed since Keras 2.2.0.\n",
            "  warnings.warn('The output shape of `ResNet50(include_top=False)` '\n"
          ],
          "name": "stderr"
        },
        {
          "output_type": "stream",
          "text": [
            "Model: \"model_7\"\n",
            "__________________________________________________________________________________________________\n",
            "Layer (type)                    Output Shape         Param #     Connected to                     \n",
            "==================================================================================================\n",
            "input_11 (InputLayer)           (None, 128, 200, 3)  0                                            \n",
            "__________________________________________________________________________________________________\n",
            "conv1_pad (ZeroPadding2D)       (None, 134, 206, 3)  0           input_11[0][0]                   \n",
            "__________________________________________________________________________________________________\n",
            "conv1 (Conv2D)                  (None, 64, 100, 64)  9472        conv1_pad[0][0]                  \n",
            "__________________________________________________________________________________________________\n",
            "bn_conv1 (BatchNormalization)   (None, 64, 100, 64)  256         conv1[0][0]                      \n",
            "__________________________________________________________________________________________________\n",
            "activation_433 (Activation)     (None, 64, 100, 64)  0           bn_conv1[0][0]                   \n",
            "__________________________________________________________________________________________________\n",
            "pool1_pad (ZeroPadding2D)       (None, 66, 102, 64)  0           activation_433[0][0]             \n",
            "__________________________________________________________________________________________________\n",
            "max_pooling2d_11 (MaxPooling2D) (None, 32, 50, 64)   0           pool1_pad[0][0]                  \n",
            "__________________________________________________________________________________________________\n",
            "res2a_branch2a (Conv2D)         (None, 32, 50, 64)   4160        max_pooling2d_11[0][0]           \n",
            "__________________________________________________________________________________________________\n",
            "bn2a_branch2a (BatchNormalizati (None, 32, 50, 64)   256         res2a_branch2a[0][0]             \n",
            "__________________________________________________________________________________________________\n",
            "activation_434 (Activation)     (None, 32, 50, 64)   0           bn2a_branch2a[0][0]              \n",
            "__________________________________________________________________________________________________\n",
            "res2a_branch2b (Conv2D)         (None, 32, 50, 64)   36928       activation_434[0][0]             \n",
            "__________________________________________________________________________________________________\n",
            "bn2a_branch2b (BatchNormalizati (None, 32, 50, 64)   256         res2a_branch2b[0][0]             \n",
            "__________________________________________________________________________________________________\n",
            "activation_435 (Activation)     (None, 32, 50, 64)   0           bn2a_branch2b[0][0]              \n",
            "__________________________________________________________________________________________________\n",
            "res2a_branch2c (Conv2D)         (None, 32, 50, 256)  16640       activation_435[0][0]             \n",
            "__________________________________________________________________________________________________\n",
            "res2a_branch1 (Conv2D)          (None, 32, 50, 256)  16640       max_pooling2d_11[0][0]           \n",
            "__________________________________________________________________________________________________\n",
            "bn2a_branch2c (BatchNormalizati (None, 32, 50, 256)  1024        res2a_branch2c[0][0]             \n",
            "__________________________________________________________________________________________________\n",
            "bn2a_branch1 (BatchNormalizatio (None, 32, 50, 256)  1024        res2a_branch1[0][0]              \n",
            "__________________________________________________________________________________________________\n",
            "add_141 (Add)                   (None, 32, 50, 256)  0           bn2a_branch2c[0][0]              \n",
            "                                                                 bn2a_branch1[0][0]               \n",
            "__________________________________________________________________________________________________\n",
            "activation_436 (Activation)     (None, 32, 50, 256)  0           add_141[0][0]                    \n",
            "__________________________________________________________________________________________________\n",
            "res2b_branch2a (Conv2D)         (None, 32, 50, 64)   16448       activation_436[0][0]             \n",
            "__________________________________________________________________________________________________\n",
            "bn2b_branch2a (BatchNormalizati (None, 32, 50, 64)   256         res2b_branch2a[0][0]             \n",
            "__________________________________________________________________________________________________\n",
            "activation_437 (Activation)     (None, 32, 50, 64)   0           bn2b_branch2a[0][0]              \n",
            "__________________________________________________________________________________________________\n",
            "res2b_branch2b (Conv2D)         (None, 32, 50, 64)   36928       activation_437[0][0]             \n",
            "__________________________________________________________________________________________________\n",
            "bn2b_branch2b (BatchNormalizati (None, 32, 50, 64)   256         res2b_branch2b[0][0]             \n",
            "__________________________________________________________________________________________________\n",
            "activation_438 (Activation)     (None, 32, 50, 64)   0           bn2b_branch2b[0][0]              \n",
            "__________________________________________________________________________________________________\n",
            "res2b_branch2c (Conv2D)         (None, 32, 50, 256)  16640       activation_438[0][0]             \n",
            "__________________________________________________________________________________________________\n",
            "bn2b_branch2c (BatchNormalizati (None, 32, 50, 256)  1024        res2b_branch2c[0][0]             \n",
            "__________________________________________________________________________________________________\n",
            "add_142 (Add)                   (None, 32, 50, 256)  0           bn2b_branch2c[0][0]              \n",
            "                                                                 activation_436[0][0]             \n",
            "__________________________________________________________________________________________________\n",
            "activation_439 (Activation)     (None, 32, 50, 256)  0           add_142[0][0]                    \n",
            "__________________________________________________________________________________________________\n",
            "res2c_branch2a (Conv2D)         (None, 32, 50, 64)   16448       activation_439[0][0]             \n",
            "__________________________________________________________________________________________________\n",
            "bn2c_branch2a (BatchNormalizati (None, 32, 50, 64)   256         res2c_branch2a[0][0]             \n",
            "__________________________________________________________________________________________________\n",
            "activation_440 (Activation)     (None, 32, 50, 64)   0           bn2c_branch2a[0][0]              \n",
            "__________________________________________________________________________________________________\n",
            "res2c_branch2b (Conv2D)         (None, 32, 50, 64)   36928       activation_440[0][0]             \n",
            "__________________________________________________________________________________________________\n",
            "bn2c_branch2b (BatchNormalizati (None, 32, 50, 64)   256         res2c_branch2b[0][0]             \n",
            "__________________________________________________________________________________________________\n",
            "activation_441 (Activation)     (None, 32, 50, 64)   0           bn2c_branch2b[0][0]              \n",
            "__________________________________________________________________________________________________\n",
            "res2c_branch2c (Conv2D)         (None, 32, 50, 256)  16640       activation_441[0][0]             \n",
            "__________________________________________________________________________________________________\n",
            "bn2c_branch2c (BatchNormalizati (None, 32, 50, 256)  1024        res2c_branch2c[0][0]             \n",
            "__________________________________________________________________________________________________\n",
            "add_143 (Add)                   (None, 32, 50, 256)  0           bn2c_branch2c[0][0]              \n",
            "                                                                 activation_439[0][0]             \n",
            "__________________________________________________________________________________________________\n",
            "activation_442 (Activation)     (None, 32, 50, 256)  0           add_143[0][0]                    \n",
            "__________________________________________________________________________________________________\n",
            "res3a_branch2a (Conv2D)         (None, 16, 25, 128)  32896       activation_442[0][0]             \n",
            "__________________________________________________________________________________________________\n",
            "bn3a_branch2a (BatchNormalizati (None, 16, 25, 128)  512         res3a_branch2a[0][0]             \n",
            "__________________________________________________________________________________________________\n",
            "activation_443 (Activation)     (None, 16, 25, 128)  0           bn3a_branch2a[0][0]              \n",
            "__________________________________________________________________________________________________\n",
            "res3a_branch2b (Conv2D)         (None, 16, 25, 128)  147584      activation_443[0][0]             \n",
            "__________________________________________________________________________________________________\n",
            "bn3a_branch2b (BatchNormalizati (None, 16, 25, 128)  512         res3a_branch2b[0][0]             \n",
            "__________________________________________________________________________________________________\n",
            "activation_444 (Activation)     (None, 16, 25, 128)  0           bn3a_branch2b[0][0]              \n",
            "__________________________________________________________________________________________________\n",
            "res3a_branch2c (Conv2D)         (None, 16, 25, 512)  66048       activation_444[0][0]             \n",
            "__________________________________________________________________________________________________\n",
            "res3a_branch1 (Conv2D)          (None, 16, 25, 512)  131584      activation_442[0][0]             \n",
            "__________________________________________________________________________________________________\n",
            "bn3a_branch2c (BatchNormalizati (None, 16, 25, 512)  2048        res3a_branch2c[0][0]             \n",
            "__________________________________________________________________________________________________\n",
            "bn3a_branch1 (BatchNormalizatio (None, 16, 25, 512)  2048        res3a_branch1[0][0]              \n",
            "__________________________________________________________________________________________________\n",
            "add_144 (Add)                   (None, 16, 25, 512)  0           bn3a_branch2c[0][0]              \n",
            "                                                                 bn3a_branch1[0][0]               \n",
            "__________________________________________________________________________________________________\n",
            "activation_445 (Activation)     (None, 16, 25, 512)  0           add_144[0][0]                    \n",
            "__________________________________________________________________________________________________\n",
            "res3b_branch2a (Conv2D)         (None, 16, 25, 128)  65664       activation_445[0][0]             \n",
            "__________________________________________________________________________________________________\n",
            "bn3b_branch2a (BatchNormalizati (None, 16, 25, 128)  512         res3b_branch2a[0][0]             \n",
            "__________________________________________________________________________________________________\n",
            "activation_446 (Activation)     (None, 16, 25, 128)  0           bn3b_branch2a[0][0]              \n",
            "__________________________________________________________________________________________________\n",
            "res3b_branch2b (Conv2D)         (None, 16, 25, 128)  147584      activation_446[0][0]             \n",
            "__________________________________________________________________________________________________\n",
            "bn3b_branch2b (BatchNormalizati (None, 16, 25, 128)  512         res3b_branch2b[0][0]             \n",
            "__________________________________________________________________________________________________\n",
            "activation_447 (Activation)     (None, 16, 25, 128)  0           bn3b_branch2b[0][0]              \n",
            "__________________________________________________________________________________________________\n",
            "res3b_branch2c (Conv2D)         (None, 16, 25, 512)  66048       activation_447[0][0]             \n",
            "__________________________________________________________________________________________________\n",
            "bn3b_branch2c (BatchNormalizati (None, 16, 25, 512)  2048        res3b_branch2c[0][0]             \n",
            "__________________________________________________________________________________________________\n",
            "add_145 (Add)                   (None, 16, 25, 512)  0           bn3b_branch2c[0][0]              \n",
            "                                                                 activation_445[0][0]             \n",
            "__________________________________________________________________________________________________\n",
            "activation_448 (Activation)     (None, 16, 25, 512)  0           add_145[0][0]                    \n",
            "__________________________________________________________________________________________________\n",
            "res3c_branch2a (Conv2D)         (None, 16, 25, 128)  65664       activation_448[0][0]             \n",
            "__________________________________________________________________________________________________\n",
            "bn3c_branch2a (BatchNormalizati (None, 16, 25, 128)  512         res3c_branch2a[0][0]             \n",
            "__________________________________________________________________________________________________\n",
            "activation_449 (Activation)     (None, 16, 25, 128)  0           bn3c_branch2a[0][0]              \n",
            "__________________________________________________________________________________________________\n",
            "res3c_branch2b (Conv2D)         (None, 16, 25, 128)  147584      activation_449[0][0]             \n",
            "__________________________________________________________________________________________________\n",
            "bn3c_branch2b (BatchNormalizati (None, 16, 25, 128)  512         res3c_branch2b[0][0]             \n",
            "__________________________________________________________________________________________________\n",
            "activation_450 (Activation)     (None, 16, 25, 128)  0           bn3c_branch2b[0][0]              \n",
            "__________________________________________________________________________________________________\n",
            "res3c_branch2c (Conv2D)         (None, 16, 25, 512)  66048       activation_450[0][0]             \n",
            "__________________________________________________________________________________________________\n",
            "bn3c_branch2c (BatchNormalizati (None, 16, 25, 512)  2048        res3c_branch2c[0][0]             \n",
            "__________________________________________________________________________________________________\n",
            "add_146 (Add)                   (None, 16, 25, 512)  0           bn3c_branch2c[0][0]              \n",
            "                                                                 activation_448[0][0]             \n",
            "__________________________________________________________________________________________________\n",
            "activation_451 (Activation)     (None, 16, 25, 512)  0           add_146[0][0]                    \n",
            "__________________________________________________________________________________________________\n",
            "res3d_branch2a (Conv2D)         (None, 16, 25, 128)  65664       activation_451[0][0]             \n",
            "__________________________________________________________________________________________________\n",
            "bn3d_branch2a (BatchNormalizati (None, 16, 25, 128)  512         res3d_branch2a[0][0]             \n",
            "__________________________________________________________________________________________________\n",
            "activation_452 (Activation)     (None, 16, 25, 128)  0           bn3d_branch2a[0][0]              \n",
            "__________________________________________________________________________________________________\n",
            "res3d_branch2b (Conv2D)         (None, 16, 25, 128)  147584      activation_452[0][0]             \n",
            "__________________________________________________________________________________________________\n",
            "bn3d_branch2b (BatchNormalizati (None, 16, 25, 128)  512         res3d_branch2b[0][0]             \n",
            "__________________________________________________________________________________________________\n",
            "activation_453 (Activation)     (None, 16, 25, 128)  0           bn3d_branch2b[0][0]              \n",
            "__________________________________________________________________________________________________\n",
            "res3d_branch2c (Conv2D)         (None, 16, 25, 512)  66048       activation_453[0][0]             \n",
            "__________________________________________________________________________________________________\n",
            "bn3d_branch2c (BatchNormalizati (None, 16, 25, 512)  2048        res3d_branch2c[0][0]             \n",
            "__________________________________________________________________________________________________\n",
            "add_147 (Add)                   (None, 16, 25, 512)  0           bn3d_branch2c[0][0]              \n",
            "                                                                 activation_451[0][0]             \n",
            "__________________________________________________________________________________________________\n",
            "activation_454 (Activation)     (None, 16, 25, 512)  0           add_147[0][0]                    \n",
            "__________________________________________________________________________________________________\n",
            "res4a_branch2a (Conv2D)         (None, 8, 13, 256)   131328      activation_454[0][0]             \n",
            "__________________________________________________________________________________________________\n",
            "bn4a_branch2a (BatchNormalizati (None, 8, 13, 256)   1024        res4a_branch2a[0][0]             \n",
            "__________________________________________________________________________________________________\n",
            "activation_455 (Activation)     (None, 8, 13, 256)   0           bn4a_branch2a[0][0]              \n",
            "__________________________________________________________________________________________________\n",
            "res4a_branch2b (Conv2D)         (None, 8, 13, 256)   590080      activation_455[0][0]             \n",
            "__________________________________________________________________________________________________\n",
            "bn4a_branch2b (BatchNormalizati (None, 8, 13, 256)   1024        res4a_branch2b[0][0]             \n",
            "__________________________________________________________________________________________________\n",
            "activation_456 (Activation)     (None, 8, 13, 256)   0           bn4a_branch2b[0][0]              \n",
            "__________________________________________________________________________________________________\n",
            "res4a_branch2c (Conv2D)         (None, 8, 13, 1024)  263168      activation_456[0][0]             \n",
            "__________________________________________________________________________________________________\n",
            "res4a_branch1 (Conv2D)          (None, 8, 13, 1024)  525312      activation_454[0][0]             \n",
            "__________________________________________________________________________________________________\n",
            "bn4a_branch2c (BatchNormalizati (None, 8, 13, 1024)  4096        res4a_branch2c[0][0]             \n",
            "__________________________________________________________________________________________________\n",
            "bn4a_branch1 (BatchNormalizatio (None, 8, 13, 1024)  4096        res4a_branch1[0][0]              \n",
            "__________________________________________________________________________________________________\n",
            "add_148 (Add)                   (None, 8, 13, 1024)  0           bn4a_branch2c[0][0]              \n",
            "                                                                 bn4a_branch1[0][0]               \n",
            "__________________________________________________________________________________________________\n",
            "activation_457 (Activation)     (None, 8, 13, 1024)  0           add_148[0][0]                    \n",
            "__________________________________________________________________________________________________\n",
            "res4b_branch2a (Conv2D)         (None, 8, 13, 256)   262400      activation_457[0][0]             \n",
            "__________________________________________________________________________________________________\n",
            "bn4b_branch2a (BatchNormalizati (None, 8, 13, 256)   1024        res4b_branch2a[0][0]             \n",
            "__________________________________________________________________________________________________\n",
            "activation_458 (Activation)     (None, 8, 13, 256)   0           bn4b_branch2a[0][0]              \n",
            "__________________________________________________________________________________________________\n",
            "res4b_branch2b (Conv2D)         (None, 8, 13, 256)   590080      activation_458[0][0]             \n",
            "__________________________________________________________________________________________________\n",
            "bn4b_branch2b (BatchNormalizati (None, 8, 13, 256)   1024        res4b_branch2b[0][0]             \n",
            "__________________________________________________________________________________________________\n",
            "activation_459 (Activation)     (None, 8, 13, 256)   0           bn4b_branch2b[0][0]              \n",
            "__________________________________________________________________________________________________\n",
            "res4b_branch2c (Conv2D)         (None, 8, 13, 1024)  263168      activation_459[0][0]             \n",
            "__________________________________________________________________________________________________\n",
            "bn4b_branch2c (BatchNormalizati (None, 8, 13, 1024)  4096        res4b_branch2c[0][0]             \n",
            "__________________________________________________________________________________________________\n",
            "add_149 (Add)                   (None, 8, 13, 1024)  0           bn4b_branch2c[0][0]              \n",
            "                                                                 activation_457[0][0]             \n",
            "__________________________________________________________________________________________________\n",
            "activation_460 (Activation)     (None, 8, 13, 1024)  0           add_149[0][0]                    \n",
            "__________________________________________________________________________________________________\n",
            "res4c_branch2a (Conv2D)         (None, 8, 13, 256)   262400      activation_460[0][0]             \n",
            "__________________________________________________________________________________________________\n",
            "bn4c_branch2a (BatchNormalizati (None, 8, 13, 256)   1024        res4c_branch2a[0][0]             \n",
            "__________________________________________________________________________________________________\n",
            "activation_461 (Activation)     (None, 8, 13, 256)   0           bn4c_branch2a[0][0]              \n",
            "__________________________________________________________________________________________________\n",
            "res4c_branch2b (Conv2D)         (None, 8, 13, 256)   590080      activation_461[0][0]             \n",
            "__________________________________________________________________________________________________\n",
            "bn4c_branch2b (BatchNormalizati (None, 8, 13, 256)   1024        res4c_branch2b[0][0]             \n",
            "__________________________________________________________________________________________________\n",
            "activation_462 (Activation)     (None, 8, 13, 256)   0           bn4c_branch2b[0][0]              \n",
            "__________________________________________________________________________________________________\n",
            "res4c_branch2c (Conv2D)         (None, 8, 13, 1024)  263168      activation_462[0][0]             \n",
            "__________________________________________________________________________________________________\n",
            "bn4c_branch2c (BatchNormalizati (None, 8, 13, 1024)  4096        res4c_branch2c[0][0]             \n",
            "__________________________________________________________________________________________________\n",
            "add_150 (Add)                   (None, 8, 13, 1024)  0           bn4c_branch2c[0][0]              \n",
            "                                                                 activation_460[0][0]             \n",
            "__________________________________________________________________________________________________\n",
            "activation_463 (Activation)     (None, 8, 13, 1024)  0           add_150[0][0]                    \n",
            "__________________________________________________________________________________________________\n",
            "res4d_branch2a (Conv2D)         (None, 8, 13, 256)   262400      activation_463[0][0]             \n",
            "__________________________________________________________________________________________________\n",
            "bn4d_branch2a (BatchNormalizati (None, 8, 13, 256)   1024        res4d_branch2a[0][0]             \n",
            "__________________________________________________________________________________________________\n",
            "activation_464 (Activation)     (None, 8, 13, 256)   0           bn4d_branch2a[0][0]              \n",
            "__________________________________________________________________________________________________\n",
            "res4d_branch2b (Conv2D)         (None, 8, 13, 256)   590080      activation_464[0][0]             \n",
            "__________________________________________________________________________________________________\n",
            "bn4d_branch2b (BatchNormalizati (None, 8, 13, 256)   1024        res4d_branch2b[0][0]             \n",
            "__________________________________________________________________________________________________\n",
            "activation_465 (Activation)     (None, 8, 13, 256)   0           bn4d_branch2b[0][0]              \n",
            "__________________________________________________________________________________________________\n",
            "res4d_branch2c (Conv2D)         (None, 8, 13, 1024)  263168      activation_465[0][0]             \n",
            "__________________________________________________________________________________________________\n",
            "bn4d_branch2c (BatchNormalizati (None, 8, 13, 1024)  4096        res4d_branch2c[0][0]             \n",
            "__________________________________________________________________________________________________\n",
            "add_151 (Add)                   (None, 8, 13, 1024)  0           bn4d_branch2c[0][0]              \n",
            "                                                                 activation_463[0][0]             \n",
            "__________________________________________________________________________________________________\n",
            "activation_466 (Activation)     (None, 8, 13, 1024)  0           add_151[0][0]                    \n",
            "__________________________________________________________________________________________________\n",
            "res4e_branch2a (Conv2D)         (None, 8, 13, 256)   262400      activation_466[0][0]             \n",
            "__________________________________________________________________________________________________\n",
            "bn4e_branch2a (BatchNormalizati (None, 8, 13, 256)   1024        res4e_branch2a[0][0]             \n",
            "__________________________________________________________________________________________________\n",
            "activation_467 (Activation)     (None, 8, 13, 256)   0           bn4e_branch2a[0][0]              \n",
            "__________________________________________________________________________________________________\n",
            "res4e_branch2b (Conv2D)         (None, 8, 13, 256)   590080      activation_467[0][0]             \n",
            "__________________________________________________________________________________________________\n",
            "bn4e_branch2b (BatchNormalizati (None, 8, 13, 256)   1024        res4e_branch2b[0][0]             \n",
            "__________________________________________________________________________________________________\n",
            "activation_468 (Activation)     (None, 8, 13, 256)   0           bn4e_branch2b[0][0]              \n",
            "__________________________________________________________________________________________________\n",
            "res4e_branch2c (Conv2D)         (None, 8, 13, 1024)  263168      activation_468[0][0]             \n",
            "__________________________________________________________________________________________________\n",
            "bn4e_branch2c (BatchNormalizati (None, 8, 13, 1024)  4096        res4e_branch2c[0][0]             \n",
            "__________________________________________________________________________________________________\n",
            "add_152 (Add)                   (None, 8, 13, 1024)  0           bn4e_branch2c[0][0]              \n",
            "                                                                 activation_466[0][0]             \n",
            "__________________________________________________________________________________________________\n",
            "activation_469 (Activation)     (None, 8, 13, 1024)  0           add_152[0][0]                    \n",
            "__________________________________________________________________________________________________\n",
            "res4f_branch2a (Conv2D)         (None, 8, 13, 256)   262400      activation_469[0][0]             \n",
            "__________________________________________________________________________________________________\n",
            "bn4f_branch2a (BatchNormalizati (None, 8, 13, 256)   1024        res4f_branch2a[0][0]             \n",
            "__________________________________________________________________________________________________\n",
            "activation_470 (Activation)     (None, 8, 13, 256)   0           bn4f_branch2a[0][0]              \n",
            "__________________________________________________________________________________________________\n",
            "res4f_branch2b (Conv2D)         (None, 8, 13, 256)   590080      activation_470[0][0]             \n",
            "__________________________________________________________________________________________________\n",
            "bn4f_branch2b (BatchNormalizati (None, 8, 13, 256)   1024        res4f_branch2b[0][0]             \n",
            "__________________________________________________________________________________________________\n",
            "activation_471 (Activation)     (None, 8, 13, 256)   0           bn4f_branch2b[0][0]              \n",
            "__________________________________________________________________________________________________\n",
            "res4f_branch2c (Conv2D)         (None, 8, 13, 1024)  263168      activation_471[0][0]             \n",
            "__________________________________________________________________________________________________\n",
            "bn4f_branch2c (BatchNormalizati (None, 8, 13, 1024)  4096        res4f_branch2c[0][0]             \n",
            "__________________________________________________________________________________________________\n",
            "add_153 (Add)                   (None, 8, 13, 1024)  0           bn4f_branch2c[0][0]              \n",
            "                                                                 activation_469[0][0]             \n",
            "__________________________________________________________________________________________________\n",
            "activation_472 (Activation)     (None, 8, 13, 1024)  0           add_153[0][0]                    \n",
            "__________________________________________________________________________________________________\n",
            "res5a_branch2a (Conv2D)         (None, 4, 7, 512)    524800      activation_472[0][0]             \n",
            "__________________________________________________________________________________________________\n",
            "bn5a_branch2a (BatchNormalizati (None, 4, 7, 512)    2048        res5a_branch2a[0][0]             \n",
            "__________________________________________________________________________________________________\n",
            "activation_473 (Activation)     (None, 4, 7, 512)    0           bn5a_branch2a[0][0]              \n",
            "__________________________________________________________________________________________________\n",
            "res5a_branch2b (Conv2D)         (None, 4, 7, 512)    2359808     activation_473[0][0]             \n",
            "__________________________________________________________________________________________________\n",
            "bn5a_branch2b (BatchNormalizati (None, 4, 7, 512)    2048        res5a_branch2b[0][0]             \n",
            "__________________________________________________________________________________________________\n",
            "activation_474 (Activation)     (None, 4, 7, 512)    0           bn5a_branch2b[0][0]              \n",
            "__________________________________________________________________________________________________\n",
            "res5a_branch2c (Conv2D)         (None, 4, 7, 2048)   1050624     activation_474[0][0]             \n",
            "__________________________________________________________________________________________________\n",
            "res5a_branch1 (Conv2D)          (None, 4, 7, 2048)   2099200     activation_472[0][0]             \n",
            "__________________________________________________________________________________________________\n",
            "bn5a_branch2c (BatchNormalizati (None, 4, 7, 2048)   8192        res5a_branch2c[0][0]             \n",
            "__________________________________________________________________________________________________\n",
            "bn5a_branch1 (BatchNormalizatio (None, 4, 7, 2048)   8192        res5a_branch1[0][0]              \n",
            "__________________________________________________________________________________________________\n",
            "add_154 (Add)                   (None, 4, 7, 2048)   0           bn5a_branch2c[0][0]              \n",
            "                                                                 bn5a_branch1[0][0]               \n",
            "__________________________________________________________________________________________________\n",
            "activation_475 (Activation)     (None, 4, 7, 2048)   0           add_154[0][0]                    \n",
            "__________________________________________________________________________________________________\n",
            "res5b_branch2a (Conv2D)         (None, 4, 7, 512)    1049088     activation_475[0][0]             \n",
            "__________________________________________________________________________________________________\n",
            "bn5b_branch2a (BatchNormalizati (None, 4, 7, 512)    2048        res5b_branch2a[0][0]             \n",
            "__________________________________________________________________________________________________\n",
            "activation_476 (Activation)     (None, 4, 7, 512)    0           bn5b_branch2a[0][0]              \n",
            "__________________________________________________________________________________________________\n",
            "res5b_branch2b (Conv2D)         (None, 4, 7, 512)    2359808     activation_476[0][0]             \n",
            "__________________________________________________________________________________________________\n",
            "bn5b_branch2b (BatchNormalizati (None, 4, 7, 512)    2048        res5b_branch2b[0][0]             \n",
            "__________________________________________________________________________________________________\n",
            "activation_477 (Activation)     (None, 4, 7, 512)    0           bn5b_branch2b[0][0]              \n",
            "__________________________________________________________________________________________________\n",
            "res5b_branch2c (Conv2D)         (None, 4, 7, 2048)   1050624     activation_477[0][0]             \n",
            "__________________________________________________________________________________________________\n",
            "bn5b_branch2c (BatchNormalizati (None, 4, 7, 2048)   8192        res5b_branch2c[0][0]             \n",
            "__________________________________________________________________________________________________\n",
            "add_155 (Add)                   (None, 4, 7, 2048)   0           bn5b_branch2c[0][0]              \n",
            "                                                                 activation_475[0][0]             \n",
            "__________________________________________________________________________________________________\n",
            "activation_478 (Activation)     (None, 4, 7, 2048)   0           add_155[0][0]                    \n",
            "__________________________________________________________________________________________________\n",
            "res5c_branch2a (Conv2D)         (None, 4, 7, 512)    1049088     activation_478[0][0]             \n",
            "__________________________________________________________________________________________________\n",
            "bn5c_branch2a (BatchNormalizati (None, 4, 7, 512)    2048        res5c_branch2a[0][0]             \n",
            "__________________________________________________________________________________________________\n",
            "activation_479 (Activation)     (None, 4, 7, 512)    0           bn5c_branch2a[0][0]              \n",
            "__________________________________________________________________________________________________\n",
            "res5c_branch2b (Conv2D)         (None, 4, 7, 512)    2359808     activation_479[0][0]             \n",
            "__________________________________________________________________________________________________\n",
            "bn5c_branch2b (BatchNormalizati (None, 4, 7, 512)    2048        res5c_branch2b[0][0]             \n",
            "__________________________________________________________________________________________________\n",
            "activation_480 (Activation)     (None, 4, 7, 512)    0           bn5c_branch2b[0][0]              \n",
            "__________________________________________________________________________________________________\n",
            "res5c_branch2c (Conv2D)         (None, 4, 7, 2048)   1050624     activation_480[0][0]             \n",
            "__________________________________________________________________________________________________\n",
            "bn5c_branch2c (BatchNormalizati (None, 4, 7, 2048)   8192        res5c_branch2c[0][0]             \n",
            "__________________________________________________________________________________________________\n",
            "add_156 (Add)                   (None, 4, 7, 2048)   0           bn5c_branch2c[0][0]              \n",
            "                                                                 activation_478[0][0]             \n",
            "__________________________________________________________________________________________________\n",
            "activation_481 (Activation)     (None, 4, 7, 2048)   0           add_156[0][0]                    \n",
            "__________________________________________________________________________________________________\n",
            "global_average_pooling2d_6 (Glo (None, 2048)         0           activation_481[0][0]             \n",
            "__________________________________________________________________________________________________\n",
            "dense_17 (Dense)                (None, 1024)         2098176     global_average_pooling2d_6[0][0] \n",
            "__________________________________________________________________________________________________\n",
            "dense_18 (Dense)                (None, 8)            8200        dense_17[0][0]                   \n",
            "==================================================================================================\n",
            "Total params: 25,694,088\n",
            "Trainable params: 25,640,968\n",
            "Non-trainable params: 53,120\n",
            "__________________________________________________________________________________________________\n"
          ],
          "name": "stdout"
        }
      ]
    },
    {
      "cell_type": "code",
      "metadata": {
        "id": "Vs_1cFm7zIsd",
        "colab_type": "code",
        "colab": {}
      },
      "source": [
        "# compile the model, with rmsprop optimizer\n",
        "model.compile(optimizer='rmsprop', metrics=['accuracy'], loss='categorical_crossentropy')\n",
        "\n",
        "# add callbacks for early stopping\n",
        "checkpointer = ModelCheckpoint(filepath='bestmodel.hdf5', verbose=1, save_best_only=True)\n",
        "earlystopper = EarlyStopping(monitor='val_loss', patience=15, verbose=1)"
      ],
      "execution_count": 0,
      "outputs": []
    },
    {
      "cell_type": "code",
      "metadata": {
        "id": "5cKzyThULJ4V",
        "colab_type": "code",
        "outputId": "2693ee3d-8ac9-4e1f-e552-45d2c51b338f",
        "colab": {
          "base_uri": "https://localhost:8080/",
          "height": 68
        }
      },
      "source": [
        "print(\"Number of original train images: \" + str(sum([len(files) for r, d, files in os.walk(train_dir)])))\n",
        "print(\"Number of original validation images: \" + str(sum([len(files) for r, d, files in os.walk(validation_dir)])))\n",
        "print(\"Number of original test images: \" + str(sum([len(files) for r, d, files in os.walk(test_dir)])))"
      ],
      "execution_count": 202,
      "outputs": [
        {
          "output_type": "stream",
          "text": [
            "Number of original train images: 4931\n",
            "Number of original validation images: 615\n",
            "Number of original test images: 621\n"
          ],
          "name": "stdout"
        }
      ]
    },
    {
      "cell_type": "code",
      "metadata": {
        "id": "zTMosQhMLPRi",
        "colab_type": "code",
        "outputId": "658f6e47-0c38-43de-9ba3-10b8b3d40cc3",
        "colab": {
          "base_uri": "https://localhost:8080/",
          "height": 51
        }
      },
      "source": [
        "# Load the images with ImageDataGenerator. The original images are not augmented as we have a fixed time series images. The Image is rescaled to 0..1 range.\n",
        "train_datagen = ImageDataGenerator(rescale=1./255, rotation_range=0, width_shift_range=0, height_shift_range=0, zoom_range=0, horizontal_flip=False, vertical_flip=False)\n",
        "validation_datagen = ImageDataGenerator(rescale=1./255, rotation_range=0, width_shift_range=0, height_shift_range=0, zoom_range=0, horizontal_flip=False, vertical_flip=False)\n",
        "train_generator = train_datagen.flow_from_directory(train_dir, target_size=(resnet_img_height, resnet_img_width), batch_size=32, class_mode='categorical', seed=42)\n",
        "validation_generator = validation_datagen.flow_from_directory(validation_dir, target_size=(resnet_img_height, resnet_img_width), batch_size=32, class_mode='categorical', seed=42)"
      ],
      "execution_count": 203,
      "outputs": [
        {
          "output_type": "stream",
          "text": [
            "Found 4931 images belonging to 8 classes.\n",
            "Found 615 images belonging to 8 classes.\n"
          ],
          "name": "stdout"
        }
      ]
    },
    {
      "cell_type": "code",
      "metadata": {
        "id": "9znniCPWLRt2",
        "colab_type": "code",
        "outputId": "07f0b977-c7db-4e5c-ac70-52cac7ca13a9",
        "colab": {
          "base_uri": "https://localhost:8080/",
          "height": 1000
        }
      },
      "source": [
        "# The model used the train generator to load and randomize the data. \n",
        "model.fit(train_generator,steps_per_epoch=5,validation_data=validation_generator,validation_steps=10,epochs=150, callbacks=[checkpointer, earlystopper])"
      ],
      "execution_count": 204,
      "outputs": [
        {
          "output_type": "stream",
          "text": [
            "Epoch 1/150\n",
            "5/5 [==============================] - 147s 29s/step - loss: 4.2086 - acc: 0.1438 - val_loss: 3.8851 - val_acc: 0.1313\n",
            "\n",
            "Epoch 00001: val_loss improved from inf to 3.88510, saving model to bestmodel.hdf5\n",
            "Epoch 2/150\n",
            "5/5 [==============================] - 104s 21s/step - loss: 3.6161 - acc: 0.1929 - val_loss: 2.3340 - val_acc: 0.2339\n",
            "\n",
            "Epoch 00002: val_loss improved from 3.88510 to 2.33396, saving model to bestmodel.hdf5\n",
            "Epoch 3/150\n",
            "5/5 [==============================] - 121s 24s/step - loss: 3.0344 - acc: 0.1562 - val_loss: 2.7241 - val_acc: 0.2250\n",
            "\n",
            "Epoch 00003: val_loss did not improve from 2.33396\n",
            "Epoch 4/150\n",
            "5/5 [==============================] - 115s 23s/step - loss: 3.4055 - acc: 0.2312 - val_loss: 4.6044 - val_acc: 0.1831\n",
            "\n",
            "Epoch 00004: val_loss did not improve from 2.33396\n",
            "Epoch 5/150\n",
            "5/5 [==============================] - 119s 24s/step - loss: 3.0853 - acc: 0.1562 - val_loss: 2.2733 - val_acc: 0.1906\n",
            "\n",
            "Epoch 00005: val_loss improved from 2.33396 to 2.27331, saving model to bestmodel.hdf5\n",
            "Epoch 6/150\n",
            "5/5 [==============================] - 116s 23s/step - loss: 2.3527 - acc: 0.2000 - val_loss: 2.0690 - val_acc: 0.2305\n",
            "\n",
            "Epoch 00006: val_loss improved from 2.27331 to 2.06899, saving model to bestmodel.hdf5\n",
            "Epoch 7/150\n",
            "5/5 [==============================] - 119s 24s/step - loss: 2.5518 - acc: 0.1500 - val_loss: 2.4251 - val_acc: 0.2219\n",
            "\n",
            "Epoch 00007: val_loss did not improve from 2.06899\n",
            "Epoch 8/150\n",
            "5/5 [==============================] - 117s 23s/step - loss: 2.4460 - acc: 0.2250 - val_loss: 2.4244 - val_acc: 0.1627\n",
            "\n",
            "Epoch 00008: val_loss did not improve from 2.06899\n",
            "Epoch 9/150\n",
            "5/5 [==============================] - 121s 24s/step - loss: 2.5516 - acc: 0.1750 - val_loss: 2.1002 - val_acc: 0.2062\n",
            "\n",
            "Epoch 00009: val_loss did not improve from 2.06899\n",
            "Epoch 10/150\n",
            "5/5 [==============================] - 115s 23s/step - loss: 2.5510 - acc: 0.1500 - val_loss: 2.1211 - val_acc: 0.1898\n",
            "\n",
            "Epoch 00010: val_loss did not improve from 2.06899\n",
            "Epoch 11/150\n",
            "5/5 [==============================] - 119s 24s/step - loss: 2.3013 - acc: 0.1938 - val_loss: 2.0200 - val_acc: 0.2344\n",
            "\n",
            "Epoch 00011: val_loss improved from 2.06899 to 2.02005, saving model to bestmodel.hdf5\n",
            "Epoch 12/150\n",
            "5/5 [==============================] - 116s 23s/step - loss: 2.1266 - acc: 0.2188 - val_loss: 2.1214 - val_acc: 0.1932\n",
            "\n",
            "Epoch 00012: val_loss did not improve from 2.02005\n",
            "Epoch 13/150\n",
            "5/5 [==============================] - 119s 24s/step - loss: 2.0386 - acc: 0.2312 - val_loss: 1.9772 - val_acc: 0.2188\n",
            "\n",
            "Epoch 00013: val_loss improved from 2.02005 to 1.97724, saving model to bestmodel.hdf5\n",
            "Epoch 14/150\n",
            "5/5 [==============================] - 117s 23s/step - loss: 1.9406 - acc: 0.2250 - val_loss: 2.3031 - val_acc: 0.2407\n",
            "\n",
            "Epoch 00014: val_loss did not improve from 1.97724\n",
            "Epoch 15/150\n",
            "5/5 [==============================] - 120s 24s/step - loss: 2.0133 - acc: 0.2125 - val_loss: 2.0876 - val_acc: 0.2156\n",
            "\n",
            "Epoch 00015: val_loss did not improve from 1.97724\n",
            "Epoch 16/150\n",
            "5/5 [==============================] - 115s 23s/step - loss: 1.9957 - acc: 0.1750 - val_loss: 2.3994 - val_acc: 0.1729\n",
            "\n",
            "Epoch 00016: val_loss did not improve from 1.97724\n",
            "Epoch 17/150\n",
            "5/5 [==============================] - 119s 24s/step - loss: 2.1011 - acc: 0.1313 - val_loss: 2.2367 - val_acc: 0.2062\n",
            "\n",
            "Epoch 00017: val_loss did not improve from 1.97724\n",
            "Epoch 18/150\n",
            "5/5 [==============================] - 117s 23s/step - loss: 2.0616 - acc: 0.2125 - val_loss: 2.1501 - val_acc: 0.1695\n",
            "\n",
            "Epoch 00018: val_loss did not improve from 1.97724\n",
            "Epoch 19/150\n",
            "5/5 [==============================] - 119s 24s/step - loss: 2.0380 - acc: 0.1812 - val_loss: 2.0115 - val_acc: 0.1688\n",
            "\n",
            "Epoch 00019: val_loss did not improve from 1.97724\n",
            "Epoch 20/150\n",
            "5/5 [==============================] - 115s 23s/step - loss: 2.0258 - acc: 0.2375 - val_loss: 2.2313 - val_acc: 0.1932\n",
            "\n",
            "Epoch 00020: val_loss did not improve from 1.97724\n",
            "Epoch 21/150\n",
            "5/5 [==============================] - 121s 24s/step - loss: 2.0025 - acc: 0.2500 - val_loss: 3.6442 - val_acc: 0.2156\n",
            "\n",
            "Epoch 00021: val_loss did not improve from 1.97724\n",
            "Epoch 22/150\n",
            "5/5 [==============================] - 116s 23s/step - loss: 2.0583 - acc: 0.2063 - val_loss: 3.5386 - val_acc: 0.1729\n",
            "\n",
            "Epoch 00022: val_loss did not improve from 1.97724\n",
            "Epoch 23/150\n",
            "5/5 [==============================] - 120s 24s/step - loss: 1.9618 - acc: 0.2563 - val_loss: 4.4480 - val_acc: 0.1594\n",
            "\n",
            "Epoch 00023: val_loss did not improve from 1.97724\n",
            "Epoch 24/150\n",
            "5/5 [==============================] - 115s 23s/step - loss: 2.0206 - acc: 0.2375 - val_loss: 4.4530 - val_acc: 0.2271\n",
            "\n",
            "Epoch 00024: val_loss did not improve from 1.97724\n",
            "Epoch 25/150\n",
            "5/5 [==============================] - 119s 24s/step - loss: 2.0785 - acc: 0.2000 - val_loss: 2.2231 - val_acc: 0.2031\n",
            "\n",
            "Epoch 00025: val_loss did not improve from 1.97724\n",
            "Epoch 26/150\n",
            "5/5 [==============================] - 116s 23s/step - loss: 2.0952 - acc: 0.1625 - val_loss: 2.6668 - val_acc: 0.2034\n",
            "\n",
            "Epoch 00026: val_loss did not improve from 1.97724\n",
            "Epoch 27/150\n",
            "5/5 [==============================] - 121s 24s/step - loss: 2.0295 - acc: 0.2188 - val_loss: 3.3697 - val_acc: 0.2156\n",
            "\n",
            "Epoch 00027: val_loss did not improve from 1.97724\n",
            "Epoch 28/150\n",
            "5/5 [==============================] - 118s 24s/step - loss: 2.0151 - acc: 0.2125 - val_loss: 4.3713 - val_acc: 0.2169\n",
            "\n",
            "Epoch 00028: val_loss did not improve from 1.97724\n",
            "Epoch 00028: early stopping\n"
          ],
          "name": "stdout"
        },
        {
          "output_type": "execute_result",
          "data": {
            "text/plain": [
              "<keras.callbacks.History at 0x7fb4f902d278>"
            ]
          },
          "metadata": {
            "tags": []
          },
          "execution_count": 204
        }
      ]
    },
    {
      "cell_type": "code",
      "metadata": {
        "id": "JzQkOboxYW4Z",
        "colab_type": "code",
        "colab": {
          "base_uri": "https://localhost:8080/",
          "height": 85
        },
        "outputId": "132c5979-45a0-4d4c-a300-58367de58eba"
      },
      "source": [
        "# loading back the best model\n",
        "saved_model = load_model('bestmodel.hdf5')\n",
        "\n",
        "train_evaluated = saved_model.evaluate(train_generator)\n",
        "validation_evaluated = saved_model.evaluate(validation_generator)\n",
        "print('Training Accuracy: %.3f%%, Training Loss: %.3f' % (train_evaluated[1]*100, train_evaluated[0]))\n",
        "print('Validation Accuracy: %.3f%%, Validation Loss: %.3f' % (validation_evaluated[1]*100, validation_evaluated[0]))"
      ],
      "execution_count": 205,
      "outputs": [
        {
          "output_type": "stream",
          "text": [
            "155/155 [==============================] - 715s 5s/step\n",
            "20/20 [==============================] - 88s 4s/step\n",
            "Training Accuracy: 23.646%, Training Loss: 1.986\n",
            "Validation Accuracy: 25.528%, Validation Loss: 1.973\n"
          ],
          "name": "stdout"
        }
      ]
    },
    {
      "cell_type": "code",
      "metadata": {
        "id": "RdPEJU_48rZn",
        "colab_type": "code",
        "colab": {}
      },
      "source": [
        ""
      ],
      "execution_count": 0,
      "outputs": []
    },
    {
      "cell_type": "code",
      "metadata": {
        "id": "eyQ2FRD9LcjF",
        "colab_type": "code",
        "outputId": "980e0b75-fd02-4dd0-8a08-8b6aa14d128d",
        "colab": {
          "base_uri": "https://localhost:8080/",
          "height": 499
        }
      },
      "source": [
        "acc = history.history['acc']\n",
        "val_acc = history.history['val_acc']\n",
        "\n",
        "loss = history.history['loss']\n",
        "val_loss = history.history['val_loss']\n",
        "\n",
        "epochs_range = range(len(loss))\n",
        "\n",
        "plt.figure(figsize=(8, 8))\n",
        "plt.subplot(1, 2, 1)\n",
        "plt.plot(epochs_range, acc, label='Training Accuracy')\n",
        "plt.plot(epochs_range, val_acc, label='Validation Accuracy')\n",
        "plt.legend(loc='lower right')\n",
        "plt.title('Training and Validation Accuracy')\n",
        "\n",
        "plt.subplot(1, 2, 2)\n",
        "plt.plot(epochs_range, loss, label='Training Loss')\n",
        "plt.plot(epochs_range, val_loss, label='Validation Loss')\n",
        "plt.legend(loc='upper right')\n",
        "plt.title('Training and Validation Loss')\n",
        "plt.show()"
      ],
      "execution_count": 206,
      "outputs": [
        {
          "output_type": "display_data",
          "data": {
            "image/png": "[encoded data removed]",
            "text/plain": [
              "<Figure size 576x576 with 2 Axes>"
            ]
          },
          "metadata": {
            "tags": []
          }
        }
      ]
    },
    {
      "cell_type": "code",
      "metadata": {
        "id": "9DAPBqnwj_qR",
        "colab_type": "code",
        "colab": {
          "base_uri": "https://localhost:8080/",
          "height": 187
        },
        "outputId": "431fbc66-45f3-4d59-cd8a-e82b586eac8b"
      },
      "source": [
        "test_datagen = ImageDataGenerator(rescale=1./255, rotation_range=0, width_shift_range=0, height_shift_range=0, zoom_range=0, horizontal_flip=False, vertical_flip=False)\n",
        "test_generator = test_datagen.flow_from_directory(test_dir, shuffle=False, target_size=(resnet_img_height, resnet_img_width), batch_size=32, class_mode='categorical', seed=42)\n",
        "\n",
        "#Confusion Matrix\n",
        "Y_pred = model.predict_generator(test_generator)\n",
        "print(Y_pred.shape)\n",
        "y_pred = np.argmax(Y_pred, axis=1)\n",
        "emotions_confusion_matrix = confusion_matrix(test_generator.classes, y_pred)\n",
        "print(emotions_confusion_matrix)\n"
      ],
      "execution_count": 207,
      "outputs": [
        {
          "output_type": "stream",
          "text": [
            "Found 621 images belonging to 8 classes.\n",
            "(621, 8)\n",
            "[[21 39  2  9  0 13  0  2]\n",
            " [ 0 79  6  0  1  4  0  0]\n",
            " [ 8 50 11  4  0 10  0 13]\n",
            " [14 32  5 11  0  6  2  9]\n",
            " [13 21  4 14  0 18  4  3]\n",
            " [ 1 20  5  1  1  4  1  3]\n",
            " [ 7 56  1  7  0  9  5  2]\n",
            " [10 21  2 13  0  6  2 16]]\n"
          ],
          "name": "stdout"
        }
      ]
    },
    {
      "cell_type": "code",
      "metadata": {
        "id": "mPQlZHvsmO5k",
        "colab_type": "code",
        "colab": {
          "base_uri": "https://localhost:8080/",
          "height": 396
        },
        "outputId": "9c8f53c4-3fb2-4829-80cc-5d59e138dcb0"
      },
      "source": [
        "emotions = os.listdir(test_dir)\n",
        "emotion_confusion_df = pd.DataFrame(emotions_confusion_matrix, index = emotions,\n",
        "                  columns = emotions)\n",
        "plt.figure(figsize = (8,6))\n",
        "sn.heatmap(emotion_confusion_df, annot=True)\n",
        "plt.xlabel('Actual', fontsize=18)\n",
        "plt.ylabel('Predicted', fontsize=18)\n",
        "plt.show()"
      ],
      "execution_count": 208,
      "outputs": [
        {
          "output_type": "display_data",
          "data": {
            "image/png": "[encoded data removed]",
            "text/plain": [
              "<Figure size 576x432 with 2 Axes>"
            ]
          },
          "metadata": {
            "tags": []
          }
        }
      ]
    },
    {
      "cell_type": "code",
      "metadata": {
        "id": "U2U0VIj2mIhC",
        "colab_type": "code",
        "colab": {}
      },
      "source": [
        "\n"
      ],
      "execution_count": 0,
      "outputs": []
    }
  ]
}