{
  "nbformat": 4,
  "nbformat_minor": 0,
  "metadata": {
    "colab": {
      "name": "2_build_resnet_model",
      "provenance": []
    },
    "kernelspec": {
      "name": "python3",
      "display_name": "Python 3"
    }
  },
  "cells": [
    {
      "cell_type": "code",
      "metadata": {
        "id": "2ZQk30bIQmU5",
        "colab_type": "code",
        "colab": {}
      },
      "source": [
        "# helper to download the Data Set from Google Drive\n",
        "\n",
        "import requests\n",
        "import os\n",
        "\n",
        "def download_file_from_google_drive(id, destination):\n",
        "    URL = \"https://docs.google.com/uc?export=download\"\n",
        "\n",
        "    session = requests.Session()\n",
        "\n",
        "    response = session.get(URL, params = { 'id' : id }, stream = True)\n",
        "    token = get_confirm_token(response)\n",
        "\n",
        "    if token:\n",
        "        params = { 'id' : id, 'confirm' : token }\n",
        "        response = session.get(URL, params = params, stream = True)\n",
        "\n",
        "    save_response_content(response, destination)    \n",
        "\n",
        "def get_confirm_token(response):\n",
        "    for key, value in response.cookies.items():\n",
        "        if key.startswith('download_warning'):\n",
        "            return value\n",
        "\n",
        "    return None\n",
        "\n",
        "def save_response_content(response, destination):\n",
        "    CHUNK_SIZE = 32768\n",
        "\n",
        "    with open(destination, \"wb\") as f:\n",
        "        for chunk in response.iter_content(CHUNK_SIZE):\n",
        "            if chunk: # filter out keep-alive new chunks\n",
        "                f.write(chunk)"
      ],
      "execution_count": 0,
      "outputs": []
    },
    {
      "cell_type": "code",
      "metadata": {
        "id": "a6OZS014V10Z",
        "colab_type": "code",
        "colab": {}
      },
      "source": [
        "# Download the pre processed data set\n",
        "file_id = '1snoB3mte3eyzYOEQTJAaRWz7M-7cJMjb'\n",
        "\n",
        "destination = 'RAVDESS_train.zip'\n",
        "\n",
        "if not os.path.exists(destination):\n",
        "    download_file_from_google_drive(file_id, destination)"
      ],
      "execution_count": 0,
      "outputs": []
    },
    {
      "cell_type": "code",
      "metadata": {
        "id": "uQQiMbvVV6Wc",
        "colab_type": "code",
        "outputId": "be531e81-ecfc-40ce-a8db-0c73a17a45d2",
        "colab": {
          "base_uri": "https://localhost:8080/",
          "height": 107
        }
      },
      "source": [
        "!ls -lh"
      ],
      "execution_count": 35,
      "outputs": [
        {
          "output_type": "stream",
          "text": [
            "total 350M\n",
            "-rw-r--r-- 1 root root 197M Dec 17 19:20 bestmodel.hdf5\n",
            "drwxr-xr-x 3 root root 4.0K Dec 17 18:47 RAVDESS\n",
            "-rw-r--r-- 1 root root 154M Dec 17 18:47 RAVDESS_train.zip\n",
            "drwxr-xr-x 1 root root 4.0K Dec 12 16:48 sample_data\n"
          ],
          "name": "stdout"
        }
      ]
    },
    {
      "cell_type": "code",
      "metadata": {
        "id": "4wLOrW92V8DO",
        "colab_type": "code",
        "outputId": "d10e812c-ccc9-4e94-a89f-638beb51f3aa",
        "colab": {
          "base_uri": "https://localhost:8080/",
          "height": 53
        }
      },
      "source": [
        "!unzip RAVDESS_train.zip"
      ],
      "execution_count": 36,
      "outputs": [
        {
          "output_type": "stream",
          "text": [
            "Archive:  RAVDESS_train.zip\n",
            "replace RAVDESS/train_valid/test/fearful/03-01-06-02-01-01-05-100.png? [y]es, [n]o, [A]ll, [N]one, [r]ename: N\n"
          ],
          "name": "stdout"
        }
      ]
    },
    {
      "cell_type": "code",
      "metadata": {
        "id": "nuSa6fanV_Ni",
        "colab_type": "code",
        "outputId": "6d00e1c6-b524-4e8f-be9f-9d385203fd22",
        "colab": {
          "base_uri": "https://localhost:8080/",
          "height": 179
        }
      },
      "source": [
        "!ls RAVDESS/train_valid/test -lh"
      ],
      "execution_count": 37,
      "outputs": [
        {
          "output_type": "stream",
          "text": [
            "total 32K\n",
            "drwxr-xr-x 2 root root 4.0K Dec 15 12:17 angry\n",
            "drwxr-xr-x 2 root root 4.0K Dec 15 12:17 calm\n",
            "drwxr-xr-x 2 root root 4.0K Dec 15 12:17 disgust\n",
            "drwxr-xr-x 2 root root 4.0K Dec 15 12:17 fearful\n",
            "drwxr-xr-x 2 root root 4.0K Dec 15 12:17 happy\n",
            "drwxr-xr-x 2 root root 4.0K Dec 15 12:17 neutral\n",
            "drwxr-xr-x 2 root root 4.0K Dec 15 12:17 sad\n",
            "drwxr-xr-x 2 root root 4.0K Dec 15 12:17 surprised\n"
          ],
          "name": "stdout"
        }
      ]
    },
    {
      "cell_type": "code",
      "metadata": {
        "id": "ak998tBGWB5-",
        "colab_type": "code",
        "colab": {}
      },
      "source": [
        "import numpy as np\n",
        "import pandas as pd\n",
        "import librosa\n",
        "from scipy.signal import spectrogram\n",
        "import math\n",
        "import matplotlib.pyplot as plt\n",
        "import seaborn as sn\n",
        "import random\n",
        "import re\n",
        "import gc\n",
        "from IPython.display import Image, display\n",
        "from sklearn.model_selection import train_test_split\n",
        "from PIL import Image, ImageFile\n",
        "ImageFile.LOAD_TRUNCATED_IMAGES = True"
      ],
      "execution_count": 0,
      "outputs": []
    },
    {
      "cell_type": "code",
      "metadata": {
        "id": "5rabsoFCWQF6",
        "colab_type": "code",
        "colab": {}
      },
      "source": [
        "# create directory path helper variables\n",
        "base_dir = 'RAVDESS/train_valid/'\n",
        "train_dir = os.path.join(base_dir, 'train')\n",
        "validation_dir = os.path.join(base_dir, 'valid')\n",
        "test_dir = os.path.join(base_dir, 'test')"
      ],
      "execution_count": 0,
      "outputs": []
    },
    {
      "cell_type": "code",
      "metadata": {
        "id": "tRUEG0pmWRwU",
        "colab_type": "code",
        "colab": {}
      },
      "source": [
        "from keras.models import Model\n",
        "from keras.preprocessing.image import ImageDataGenerator\n",
        "from keras.applications.resnet50 import ResNet50,preprocess_input,decode_predictions\n",
        "from keras.preprocessing import image\n",
        "from keras.layers import Conv2D, GlobalAveragePooling2D, Flatten, Dense, Dropout, InputLayer\n",
        "from keras import backend as K\n",
        "from keras.layers import Flatten\n",
        "import numpy as np\n",
        "from keras.models import Sequential\n",
        "from keras import optimizers\n",
        "from keras.callbacks import EarlyStopping\n",
        "from keras.callbacks import ModelCheckpoint\n",
        "from keras.models import load_model\n",
        "from sklearn.metrics import classification_report, confusion_matrix"
      ],
      "execution_count": 0,
      "outputs": []
    },
    {
      "cell_type": "code",
      "metadata": {
        "id": "9fyJb45sgXhA",
        "colab_type": "code",
        "colab": {}
      },
      "source": [
        "resnet_img_height=128\n",
        "resnet_img_width=200"
      ],
      "execution_count": 0,
      "outputs": []
    },
    {
      "cell_type": "code",
      "metadata": {
        "id": "pgTfNeVggaKY",
        "colab_type": "code",
        "outputId": "4a5d199f-5d22-4827-b7a5-4035d21e36dd",
        "colab": {
          "base_uri": "https://localhost:8080/",
          "height": 1000
        }
      },
      "source": [
        "# using a pretrained resnet model, dowloading without the top layers\n",
        "base_model = ResNet50(include_top=False, weights='imagenet', input_shape=(resnet_img_height,resnet_img_width,3))\n",
        "for layer in base_model.layers:\n",
        "    layer.trainable = True\n",
        "\n",
        "# adding the top layers for classification  \n",
        "x = base_model.output\n",
        "x = GlobalAveragePooling2D()(x)\n",
        "x = Dense(1024, activation='relu')(x)\n",
        "predictions = Dense(8, activation='softmax')(x)\n",
        "model = Model(base_model.input, predictions)\n",
        "model.summary()"
      ],
      "execution_count": 42,
      "outputs": [
        {
          "output_type": "stream",
          "text": [
            "/usr/local/lib/python3.6/dist-packages/keras_applications/resnet50.py:265: UserWarning: The output shape of `ResNet50(include_top=False)` has been changed since Keras 2.2.0.\n",
            "  warnings.warn('The output shape of `ResNet50(include_top=False)` '\n"
          ],
          "name": "stderr"
        },
        {
          "output_type": "stream",
          "text": [
            "Model: \"model_2\"\n",
            "__________________________________________________________________________________________________\n",
            "Layer (type)                    Output Shape         Param #     Connected to                     \n",
            "==================================================================================================\n",
            "input_3 (InputLayer)            (None, 128, 200, 3)  0                                            \n",
            "__________________________________________________________________________________________________\n",
            "conv1_pad (ZeroPadding2D)       (None, 134, 206, 3)  0           input_3[0][0]                    \n",
            "__________________________________________________________________________________________________\n",
            "conv1 (Conv2D)                  (None, 64, 100, 64)  9472        conv1_pad[0][0]                  \n",
            "__________________________________________________________________________________________________\n",
            "bn_conv1 (BatchNormalization)   (None, 64, 100, 64)  256         conv1[0][0]                      \n",
            "__________________________________________________________________________________________________\n",
            "activation_99 (Activation)      (None, 64, 100, 64)  0           bn_conv1[0][0]                   \n",
            "__________________________________________________________________________________________________\n",
            "pool1_pad (ZeroPadding2D)       (None, 66, 102, 64)  0           activation_99[0][0]              \n",
            "__________________________________________________________________________________________________\n",
            "max_pooling2d_3 (MaxPooling2D)  (None, 32, 50, 64)   0           pool1_pad[0][0]                  \n",
            "__________________________________________________________________________________________________\n",
            "res2a_branch2a (Conv2D)         (None, 32, 50, 64)   4160        max_pooling2d_3[0][0]            \n",
            "__________________________________________________________________________________________________\n",
            "bn2a_branch2a (BatchNormalizati (None, 32, 50, 64)   256         res2a_branch2a[0][0]             \n",
            "__________________________________________________________________________________________________\n",
            "activation_100 (Activation)     (None, 32, 50, 64)   0           bn2a_branch2a[0][0]              \n",
            "__________________________________________________________________________________________________\n",
            "res2a_branch2b (Conv2D)         (None, 32, 50, 64)   36928       activation_100[0][0]             \n",
            "__________________________________________________________________________________________________\n",
            "bn2a_branch2b (BatchNormalizati (None, 32, 50, 64)   256         res2a_branch2b[0][0]             \n",
            "__________________________________________________________________________________________________\n",
            "activation_101 (Activation)     (None, 32, 50, 64)   0           bn2a_branch2b[0][0]              \n",
            "__________________________________________________________________________________________________\n",
            "res2a_branch2c (Conv2D)         (None, 32, 50, 256)  16640       activation_101[0][0]             \n",
            "__________________________________________________________________________________________________\n",
            "res2a_branch1 (Conv2D)          (None, 32, 50, 256)  16640       max_pooling2d_3[0][0]            \n",
            "__________________________________________________________________________________________________\n",
            "bn2a_branch2c (BatchNormalizati (None, 32, 50, 256)  1024        res2a_branch2c[0][0]             \n",
            "__________________________________________________________________________________________________\n",
            "bn2a_branch1 (BatchNormalizatio (None, 32, 50, 256)  1024        res2a_branch1[0][0]              \n",
            "__________________________________________________________________________________________________\n",
            "add_33 (Add)                    (None, 32, 50, 256)  0           bn2a_branch2c[0][0]              \n",
            "                                                                 bn2a_branch1[0][0]               \n",
            "__________________________________________________________________________________________________\n",
            "activation_102 (Activation)     (None, 32, 50, 256)  0           add_33[0][0]                     \n",
            "__________________________________________________________________________________________________\n",
            "res2b_branch2a (Conv2D)         (None, 32, 50, 64)   16448       activation_102[0][0]             \n",
            "__________________________________________________________________________________________________\n",
            "bn2b_branch2a (BatchNormalizati (None, 32, 50, 64)   256         res2b_branch2a[0][0]             \n",
            "__________________________________________________________________________________________________\n",
            "activation_103 (Activation)     (None, 32, 50, 64)   0           bn2b_branch2a[0][0]              \n",
            "__________________________________________________________________________________________________\n",
            "res2b_branch2b (Conv2D)         (None, 32, 50, 64)   36928       activation_103[0][0]             \n",
            "__________________________________________________________________________________________________\n",
            "bn2b_branch2b (BatchNormalizati (None, 32, 50, 64)   256         res2b_branch2b[0][0]             \n",
            "__________________________________________________________________________________________________\n",
            "activation_104 (Activation)     (None, 32, 50, 64)   0           bn2b_branch2b[0][0]              \n",
            "__________________________________________________________________________________________________\n",
            "res2b_branch2c (Conv2D)         (None, 32, 50, 256)  16640       activation_104[0][0]             \n",
            "__________________________________________________________________________________________________\n",
            "bn2b_branch2c (BatchNormalizati (None, 32, 50, 256)  1024        res2b_branch2c[0][0]             \n",
            "__________________________________________________________________________________________________\n",
            "add_34 (Add)                    (None, 32, 50, 256)  0           bn2b_branch2c[0][0]              \n",
            "                                                                 activation_102[0][0]             \n",
            "__________________________________________________________________________________________________\n",
            "activation_105 (Activation)     (None, 32, 50, 256)  0           add_34[0][0]                     \n",
            "__________________________________________________________________________________________________\n",
            "res2c_branch2a (Conv2D)         (None, 32, 50, 64)   16448       activation_105[0][0]             \n",
            "__________________________________________________________________________________________________\n",
            "bn2c_branch2a (BatchNormalizati (None, 32, 50, 64)   256         res2c_branch2a[0][0]             \n",
            "__________________________________________________________________________________________________\n",
            "activation_106 (Activation)     (None, 32, 50, 64)   0           bn2c_branch2a[0][0]              \n",
            "__________________________________________________________________________________________________\n",
            "res2c_branch2b (Conv2D)         (None, 32, 50, 64)   36928       activation_106[0][0]             \n",
            "__________________________________________________________________________________________________\n",
            "bn2c_branch2b (BatchNormalizati (None, 32, 50, 64)   256         res2c_branch2b[0][0]             \n",
            "__________________________________________________________________________________________________\n",
            "activation_107 (Activation)     (None, 32, 50, 64)   0           bn2c_branch2b[0][0]              \n",
            "__________________________________________________________________________________________________\n",
            "res2c_branch2c (Conv2D)         (None, 32, 50, 256)  16640       activation_107[0][0]             \n",
            "__________________________________________________________________________________________________\n",
            "bn2c_branch2c (BatchNormalizati (None, 32, 50, 256)  1024        res2c_branch2c[0][0]             \n",
            "__________________________________________________________________________________________________\n",
            "add_35 (Add)                    (None, 32, 50, 256)  0           bn2c_branch2c[0][0]              \n",
            "                                                                 activation_105[0][0]             \n",
            "__________________________________________________________________________________________________\n",
            "activation_108 (Activation)     (None, 32, 50, 256)  0           add_35[0][0]                     \n",
            "__________________________________________________________________________________________________\n",
            "res3a_branch2a (Conv2D)         (None, 16, 25, 128)  32896       activation_108[0][0]             \n",
            "__________________________________________________________________________________________________\n",
            "bn3a_branch2a (BatchNormalizati (None, 16, 25, 128)  512         res3a_branch2a[0][0]             \n",
            "__________________________________________________________________________________________________\n",
            "activation_109 (Activation)     (None, 16, 25, 128)  0           bn3a_branch2a[0][0]              \n",
            "__________________________________________________________________________________________________\n",
            "res3a_branch2b (Conv2D)         (None, 16, 25, 128)  147584      activation_109[0][0]             \n",
            "__________________________________________________________________________________________________\n",
            "bn3a_branch2b (BatchNormalizati (None, 16, 25, 128)  512         res3a_branch2b[0][0]             \n",
            "__________________________________________________________________________________________________\n",
            "activation_110 (Activation)     (None, 16, 25, 128)  0           bn3a_branch2b[0][0]              \n",
            "__________________________________________________________________________________________________\n",
            "res3a_branch2c (Conv2D)         (None, 16, 25, 512)  66048       activation_110[0][0]             \n",
            "__________________________________________________________________________________________________\n",
            "res3a_branch1 (Conv2D)          (None, 16, 25, 512)  131584      activation_108[0][0]             \n",
            "__________________________________________________________________________________________________\n",
            "bn3a_branch2c (BatchNormalizati (None, 16, 25, 512)  2048        res3a_branch2c[0][0]             \n",
            "__________________________________________________________________________________________________\n",
            "bn3a_branch1 (BatchNormalizatio (None, 16, 25, 512)  2048        res3a_branch1[0][0]              \n",
            "__________________________________________________________________________________________________\n",
            "add_36 (Add)                    (None, 16, 25, 512)  0           bn3a_branch2c[0][0]              \n",
            "                                                                 bn3a_branch1[0][0]               \n",
            "__________________________________________________________________________________________________\n",
            "activation_111 (Activation)     (None, 16, 25, 512)  0           add_36[0][0]                     \n",
            "__________________________________________________________________________________________________\n",
            "res3b_branch2a (Conv2D)         (None, 16, 25, 128)  65664       activation_111[0][0]             \n",
            "__________________________________________________________________________________________________\n",
            "bn3b_branch2a (BatchNormalizati (None, 16, 25, 128)  512         res3b_branch2a[0][0]             \n",
            "__________________________________________________________________________________________________\n",
            "activation_112 (Activation)     (None, 16, 25, 128)  0           bn3b_branch2a[0][0]              \n",
            "__________________________________________________________________________________________________\n",
            "res3b_branch2b (Conv2D)         (None, 16, 25, 128)  147584      activation_112[0][0]             \n",
            "__________________________________________________________________________________________________\n",
            "bn3b_branch2b (BatchNormalizati (None, 16, 25, 128)  512         res3b_branch2b[0][0]             \n",
            "__________________________________________________________________________________________________\n",
            "activation_113 (Activation)     (None, 16, 25, 128)  0           bn3b_branch2b[0][0]              \n",
            "__________________________________________________________________________________________________\n",
            "res3b_branch2c (Conv2D)         (None, 16, 25, 512)  66048       activation_113[0][0]             \n",
            "__________________________________________________________________________________________________\n",
            "bn3b_branch2c (BatchNormalizati (None, 16, 25, 512)  2048        res3b_branch2c[0][0]             \n",
            "__________________________________________________________________________________________________\n",
            "add_37 (Add)                    (None, 16, 25, 512)  0           bn3b_branch2c[0][0]              \n",
            "                                                                 activation_111[0][0]             \n",
            "__________________________________________________________________________________________________\n",
            "activation_114 (Activation)     (None, 16, 25, 512)  0           add_37[0][0]                     \n",
            "__________________________________________________________________________________________________\n",
            "res3c_branch2a (Conv2D)         (None, 16, 25, 128)  65664       activation_114[0][0]             \n",
            "__________________________________________________________________________________________________\n",
            "bn3c_branch2a (BatchNormalizati (None, 16, 25, 128)  512         res3c_branch2a[0][0]             \n",
            "__________________________________________________________________________________________________\n",
            "activation_115 (Activation)     (None, 16, 25, 128)  0           bn3c_branch2a[0][0]              \n",
            "__________________________________________________________________________________________________\n",
            "res3c_branch2b (Conv2D)         (None, 16, 25, 128)  147584      activation_115[0][0]             \n",
            "__________________________________________________________________________________________________\n",
            "bn3c_branch2b (BatchNormalizati (None, 16, 25, 128)  512         res3c_branch2b[0][0]             \n",
            "__________________________________________________________________________________________________\n",
            "activation_116 (Activation)     (None, 16, 25, 128)  0           bn3c_branch2b[0][0]              \n",
            "__________________________________________________________________________________________________\n",
            "res3c_branch2c (Conv2D)         (None, 16, 25, 512)  66048       activation_116[0][0]             \n",
            "__________________________________________________________________________________________________\n",
            "bn3c_branch2c (BatchNormalizati (None, 16, 25, 512)  2048        res3c_branch2c[0][0]             \n",
            "__________________________________________________________________________________________________\n",
            "add_38 (Add)                    (None, 16, 25, 512)  0           bn3c_branch2c[0][0]              \n",
            "                                                                 activation_114[0][0]             \n",
            "__________________________________________________________________________________________________\n",
            "activation_117 (Activation)     (None, 16, 25, 512)  0           add_38[0][0]                     \n",
            "__________________________________________________________________________________________________\n",
            "res3d_branch2a (Conv2D)         (None, 16, 25, 128)  65664       activation_117[0][0]             \n",
            "__________________________________________________________________________________________________\n",
            "bn3d_branch2a (BatchNormalizati (None, 16, 25, 128)  512         res3d_branch2a[0][0]             \n",
            "__________________________________________________________________________________________________\n",
            "activation_118 (Activation)     (None, 16, 25, 128)  0           bn3d_branch2a[0][0]              \n",
            "__________________________________________________________________________________________________\n",
            "res3d_branch2b (Conv2D)         (None, 16, 25, 128)  147584      activation_118[0][0]             \n",
            "__________________________________________________________________________________________________\n",
            "bn3d_branch2b (BatchNormalizati (None, 16, 25, 128)  512         res3d_branch2b[0][0]             \n",
            "__________________________________________________________________________________________________\n",
            "activation_119 (Activation)     (None, 16, 25, 128)  0           bn3d_branch2b[0][0]              \n",
            "__________________________________________________________________________________________________\n",
            "res3d_branch2c (Conv2D)         (None, 16, 25, 512)  66048       activation_119[0][0]             \n",
            "__________________________________________________________________________________________________\n",
            "bn3d_branch2c (BatchNormalizati (None, 16, 25, 512)  2048        res3d_branch2c[0][0]             \n",
            "__________________________________________________________________________________________________\n",
            "add_39 (Add)                    (None, 16, 25, 512)  0           bn3d_branch2c[0][0]              \n",
            "                                                                 activation_117[0][0]             \n",
            "__________________________________________________________________________________________________\n",
            "activation_120 (Activation)     (None, 16, 25, 512)  0           add_39[0][0]                     \n",
            "__________________________________________________________________________________________________\n",
            "res4a_branch2a (Conv2D)         (None, 8, 13, 256)   131328      activation_120[0][0]             \n",
            "__________________________________________________________________________________________________\n",
            "bn4a_branch2a (BatchNormalizati (None, 8, 13, 256)   1024        res4a_branch2a[0][0]             \n",
            "__________________________________________________________________________________________________\n",
            "activation_121 (Activation)     (None, 8, 13, 256)   0           bn4a_branch2a[0][0]              \n",
            "__________________________________________________________________________________________________\n",
            "res4a_branch2b (Conv2D)         (None, 8, 13, 256)   590080      activation_121[0][0]             \n",
            "__________________________________________________________________________________________________\n",
            "bn4a_branch2b (BatchNormalizati (None, 8, 13, 256)   1024        res4a_branch2b[0][0]             \n",
            "__________________________________________________________________________________________________\n",
            "activation_122 (Activation)     (None, 8, 13, 256)   0           bn4a_branch2b[0][0]              \n",
            "__________________________________________________________________________________________________\n",
            "res4a_branch2c (Conv2D)         (None, 8, 13, 1024)  263168      activation_122[0][0]             \n",
            "__________________________________________________________________________________________________\n",
            "res4a_branch1 (Conv2D)          (None, 8, 13, 1024)  525312      activation_120[0][0]             \n",
            "__________________________________________________________________________________________________\n",
            "bn4a_branch2c (BatchNormalizati (None, 8, 13, 1024)  4096        res4a_branch2c[0][0]             \n",
            "__________________________________________________________________________________________________\n",
            "bn4a_branch1 (BatchNormalizatio (None, 8, 13, 1024)  4096        res4a_branch1[0][0]              \n",
            "__________________________________________________________________________________________________\n",
            "add_40 (Add)                    (None, 8, 13, 1024)  0           bn4a_branch2c[0][0]              \n",
            "                                                                 bn4a_branch1[0][0]               \n",
            "__________________________________________________________________________________________________\n",
            "activation_123 (Activation)     (None, 8, 13, 1024)  0           add_40[0][0]                     \n",
            "__________________________________________________________________________________________________\n",
            "res4b_branch2a (Conv2D)         (None, 8, 13, 256)   262400      activation_123[0][0]             \n",
            "__________________________________________________________________________________________________\n",
            "bn4b_branch2a (BatchNormalizati (None, 8, 13, 256)   1024        res4b_branch2a[0][0]             \n",
            "__________________________________________________________________________________________________\n",
            "activation_124 (Activation)     (None, 8, 13, 256)   0           bn4b_branch2a[0][0]              \n",
            "__________________________________________________________________________________________________\n",
            "res4b_branch2b (Conv2D)         (None, 8, 13, 256)   590080      activation_124[0][0]             \n",
            "__________________________________________________________________________________________________\n",
            "bn4b_branch2b (BatchNormalizati (None, 8, 13, 256)   1024        res4b_branch2b[0][0]             \n",
            "__________________________________________________________________________________________________\n",
            "activation_125 (Activation)     (None, 8, 13, 256)   0           bn4b_branch2b[0][0]              \n",
            "__________________________________________________________________________________________________\n",
            "res4b_branch2c (Conv2D)         (None, 8, 13, 1024)  263168      activation_125[0][0]             \n",
            "__________________________________________________________________________________________________\n",
            "bn4b_branch2c (BatchNormalizati (None, 8, 13, 1024)  4096        res4b_branch2c[0][0]             \n",
            "__________________________________________________________________________________________________\n",
            "add_41 (Add)                    (None, 8, 13, 1024)  0           bn4b_branch2c[0][0]              \n",
            "                                                                 activation_123[0][0]             \n",
            "__________________________________________________________________________________________________\n",
            "activation_126 (Activation)     (None, 8, 13, 1024)  0           add_41[0][0]                     \n",
            "__________________________________________________________________________________________________\n",
            "res4c_branch2a (Conv2D)         (None, 8, 13, 256)   262400      activation_126[0][0]             \n",
            "__________________________________________________________________________________________________\n",
            "bn4c_branch2a (BatchNormalizati (None, 8, 13, 256)   1024        res4c_branch2a[0][0]             \n",
            "__________________________________________________________________________________________________\n",
            "activation_127 (Activation)     (None, 8, 13, 256)   0           bn4c_branch2a[0][0]              \n",
            "__________________________________________________________________________________________________\n",
            "res4c_branch2b (Conv2D)         (None, 8, 13, 256)   590080      activation_127[0][0]             \n",
            "__________________________________________________________________________________________________\n",
            "bn4c_branch2b (BatchNormalizati (None, 8, 13, 256)   1024        res4c_branch2b[0][0]             \n",
            "__________________________________________________________________________________________________\n",
            "activation_128 (Activation)     (None, 8, 13, 256)   0           bn4c_branch2b[0][0]              \n",
            "__________________________________________________________________________________________________\n",
            "res4c_branch2c (Conv2D)         (None, 8, 13, 1024)  263168      activation_128[0][0]             \n",
            "__________________________________________________________________________________________________\n",
            "bn4c_branch2c (BatchNormalizati (None, 8, 13, 1024)  4096        res4c_branch2c[0][0]             \n",
            "__________________________________________________________________________________________________\n",
            "add_42 (Add)                    (None, 8, 13, 1024)  0           bn4c_branch2c[0][0]              \n",
            "                                                                 activation_126[0][0]             \n",
            "__________________________________________________________________________________________________\n",
            "activation_129 (Activation)     (None, 8, 13, 1024)  0           add_42[0][0]                     \n",
            "__________________________________________________________________________________________________\n",
            "res4d_branch2a (Conv2D)         (None, 8, 13, 256)   262400      activation_129[0][0]             \n",
            "__________________________________________________________________________________________________\n",
            "bn4d_branch2a (BatchNormalizati (None, 8, 13, 256)   1024        res4d_branch2a[0][0]             \n",
            "__________________________________________________________________________________________________\n",
            "activation_130 (Activation)     (None, 8, 13, 256)   0           bn4d_branch2a[0][0]              \n",
            "__________________________________________________________________________________________________\n",
            "res4d_branch2b (Conv2D)         (None, 8, 13, 256)   590080      activation_130[0][0]             \n",
            "__________________________________________________________________________________________________\n",
            "bn4d_branch2b (BatchNormalizati (None, 8, 13, 256)   1024        res4d_branch2b[0][0]             \n",
            "__________________________________________________________________________________________________\n",
            "activation_131 (Activation)     (None, 8, 13, 256)   0           bn4d_branch2b[0][0]              \n",
            "__________________________________________________________________________________________________\n",
            "res4d_branch2c (Conv2D)         (None, 8, 13, 1024)  263168      activation_131[0][0]             \n",
            "__________________________________________________________________________________________________\n",
            "bn4d_branch2c (BatchNormalizati (None, 8, 13, 1024)  4096        res4d_branch2c[0][0]             \n",
            "__________________________________________________________________________________________________\n",
            "add_43 (Add)                    (None, 8, 13, 1024)  0           bn4d_branch2c[0][0]              \n",
            "                                                                 activation_129[0][0]             \n",
            "__________________________________________________________________________________________________\n",
            "activation_132 (Activation)     (None, 8, 13, 1024)  0           add_43[0][0]                     \n",
            "__________________________________________________________________________________________________\n",
            "res4e_branch2a (Conv2D)         (None, 8, 13, 256)   262400      activation_132[0][0]             \n",
            "__________________________________________________________________________________________________\n",
            "bn4e_branch2a (BatchNormalizati (None, 8, 13, 256)   1024        res4e_branch2a[0][0]             \n",
            "__________________________________________________________________________________________________\n",
            "activation_133 (Activation)     (None, 8, 13, 256)   0           bn4e_branch2a[0][0]              \n",
            "__________________________________________________________________________________________________\n",
            "res4e_branch2b (Conv2D)         (None, 8, 13, 256)   590080      activation_133[0][0]             \n",
            "__________________________________________________________________________________________________\n",
            "bn4e_branch2b (BatchNormalizati (None, 8, 13, 256)   1024        res4e_branch2b[0][0]             \n",
            "__________________________________________________________________________________________________\n",
            "activation_134 (Activation)     (None, 8, 13, 256)   0           bn4e_branch2b[0][0]              \n",
            "__________________________________________________________________________________________________\n",
            "res4e_branch2c (Conv2D)         (None, 8, 13, 1024)  263168      activation_134[0][0]             \n",
            "__________________________________________________________________________________________________\n",
            "bn4e_branch2c (BatchNormalizati (None, 8, 13, 1024)  4096        res4e_branch2c[0][0]             \n",
            "__________________________________________________________________________________________________\n",
            "add_44 (Add)                    (None, 8, 13, 1024)  0           bn4e_branch2c[0][0]              \n",
            "                                                                 activation_132[0][0]             \n",
            "__________________________________________________________________________________________________\n",
            "activation_135 (Activation)     (None, 8, 13, 1024)  0           add_44[0][0]                     \n",
            "__________________________________________________________________________________________________\n",
            "res4f_branch2a (Conv2D)         (None, 8, 13, 256)   262400      activation_135[0][0]             \n",
            "__________________________________________________________________________________________________\n",
            "bn4f_branch2a (BatchNormalizati (None, 8, 13, 256)   1024        res4f_branch2a[0][0]             \n",
            "__________________________________________________________________________________________________\n",
            "activation_136 (Activation)     (None, 8, 13, 256)   0           bn4f_branch2a[0][0]              \n",
            "__________________________________________________________________________________________________\n",
            "res4f_branch2b (Conv2D)         (None, 8, 13, 256)   590080      activation_136[0][0]             \n",
            "__________________________________________________________________________________________________\n",
            "bn4f_branch2b (BatchNormalizati (None, 8, 13, 256)   1024        res4f_branch2b[0][0]             \n",
            "__________________________________________________________________________________________________\n",
            "activation_137 (Activation)     (None, 8, 13, 256)   0           bn4f_branch2b[0][0]              \n",
            "__________________________________________________________________________________________________\n",
            "res4f_branch2c (Conv2D)         (None, 8, 13, 1024)  263168      activation_137[0][0]             \n",
            "__________________________________________________________________________________________________\n",
            "bn4f_branch2c (BatchNormalizati (None, 8, 13, 1024)  4096        res4f_branch2c[0][0]             \n",
            "__________________________________________________________________________________________________\n",
            "add_45 (Add)                    (None, 8, 13, 1024)  0           bn4f_branch2c[0][0]              \n",
            "                                                                 activation_135[0][0]             \n",
            "__________________________________________________________________________________________________\n",
            "activation_138 (Activation)     (None, 8, 13, 1024)  0           add_45[0][0]                     \n",
            "__________________________________________________________________________________________________\n",
            "res5a_branch2a (Conv2D)         (None, 4, 7, 512)    524800      activation_138[0][0]             \n",
            "__________________________________________________________________________________________________\n",
            "bn5a_branch2a (BatchNormalizati (None, 4, 7, 512)    2048        res5a_branch2a[0][0]             \n",
            "__________________________________________________________________________________________________\n",
            "activation_139 (Activation)     (None, 4, 7, 512)    0           bn5a_branch2a[0][0]              \n",
            "__________________________________________________________________________________________________\n",
            "res5a_branch2b (Conv2D)         (None, 4, 7, 512)    2359808     activation_139[0][0]             \n",
            "__________________________________________________________________________________________________\n",
            "bn5a_branch2b (BatchNormalizati (None, 4, 7, 512)    2048        res5a_branch2b[0][0]             \n",
            "__________________________________________________________________________________________________\n",
            "activation_140 (Activation)     (None, 4, 7, 512)    0           bn5a_branch2b[0][0]              \n",
            "__________________________________________________________________________________________________\n",
            "res5a_branch2c (Conv2D)         (None, 4, 7, 2048)   1050624     activation_140[0][0]             \n",
            "__________________________________________________________________________________________________\n",
            "res5a_branch1 (Conv2D)          (None, 4, 7, 2048)   2099200     activation_138[0][0]             \n",
            "__________________________________________________________________________________________________\n",
            "bn5a_branch2c (BatchNormalizati (None, 4, 7, 2048)   8192        res5a_branch2c[0][0]             \n",
            "__________________________________________________________________________________________________\n",
            "bn5a_branch1 (BatchNormalizatio (None, 4, 7, 2048)   8192        res5a_branch1[0][0]              \n",
            "__________________________________________________________________________________________________\n",
            "add_46 (Add)                    (None, 4, 7, 2048)   0           bn5a_branch2c[0][0]              \n",
            "                                                                 bn5a_branch1[0][0]               \n",
            "__________________________________________________________________________________________________\n",
            "activation_141 (Activation)     (None, 4, 7, 2048)   0           add_46[0][0]                     \n",
            "__________________________________________________________________________________________________\n",
            "res5b_branch2a (Conv2D)         (None, 4, 7, 512)    1049088     activation_141[0][0]             \n",
            "__________________________________________________________________________________________________\n",
            "bn5b_branch2a (BatchNormalizati (None, 4, 7, 512)    2048        res5b_branch2a[0][0]             \n",
            "__________________________________________________________________________________________________\n",
            "activation_142 (Activation)     (None, 4, 7, 512)    0           bn5b_branch2a[0][0]              \n",
            "__________________________________________________________________________________________________\n",
            "res5b_branch2b (Conv2D)         (None, 4, 7, 512)    2359808     activation_142[0][0]             \n",
            "__________________________________________________________________________________________________\n",
            "bn5b_branch2b (BatchNormalizati (None, 4, 7, 512)    2048        res5b_branch2b[0][0]             \n",
            "__________________________________________________________________________________________________\n",
            "activation_143 (Activation)     (None, 4, 7, 512)    0           bn5b_branch2b[0][0]              \n",
            "__________________________________________________________________________________________________\n",
            "res5b_branch2c (Conv2D)         (None, 4, 7, 2048)   1050624     activation_143[0][0]             \n",
            "__________________________________________________________________________________________________\n",
            "bn5b_branch2c (BatchNormalizati (None, 4, 7, 2048)   8192        res5b_branch2c[0][0]             \n",
            "__________________________________________________________________________________________________\n",
            "add_47 (Add)                    (None, 4, 7, 2048)   0           bn5b_branch2c[0][0]              \n",
            "                                                                 activation_141[0][0]             \n",
            "__________________________________________________________________________________________________\n",
            "activation_144 (Activation)     (None, 4, 7, 2048)   0           add_47[0][0]                     \n",
            "__________________________________________________________________________________________________\n",
            "res5c_branch2a (Conv2D)         (None, 4, 7, 512)    1049088     activation_144[0][0]             \n",
            "__________________________________________________________________________________________________\n",
            "bn5c_branch2a (BatchNormalizati (None, 4, 7, 512)    2048        res5c_branch2a[0][0]             \n",
            "__________________________________________________________________________________________________\n",
            "activation_145 (Activation)     (None, 4, 7, 512)    0           bn5c_branch2a[0][0]              \n",
            "__________________________________________________________________________________________________\n",
            "res5c_branch2b (Conv2D)         (None, 4, 7, 512)    2359808     activation_145[0][0]             \n",
            "__________________________________________________________________________________________________\n",
            "bn5c_branch2b (BatchNormalizati (None, 4, 7, 512)    2048        res5c_branch2b[0][0]             \n",
            "__________________________________________________________________________________________________\n",
            "activation_146 (Activation)     (None, 4, 7, 512)    0           bn5c_branch2b[0][0]              \n",
            "__________________________________________________________________________________________________\n",
            "res5c_branch2c (Conv2D)         (None, 4, 7, 2048)   1050624     activation_146[0][0]             \n",
            "__________________________________________________________________________________________________\n",
            "bn5c_branch2c (BatchNormalizati (None, 4, 7, 2048)   8192        res5c_branch2c[0][0]             \n",
            "__________________________________________________________________________________________________\n",
            "add_48 (Add)                    (None, 4, 7, 2048)   0           bn5c_branch2c[0][0]              \n",
            "                                                                 activation_144[0][0]             \n",
            "__________________________________________________________________________________________________\n",
            "activation_147 (Activation)     (None, 4, 7, 2048)   0           add_48[0][0]                     \n",
            "__________________________________________________________________________________________________\n",
            "global_average_pooling2d_2 (Glo (None, 2048)         0           activation_147[0][0]             \n",
            "__________________________________________________________________________________________________\n",
            "dense_3 (Dense)                 (None, 1024)         2098176     global_average_pooling2d_2[0][0] \n",
            "__________________________________________________________________________________________________\n",
            "dense_4 (Dense)                 (None, 8)            8200        dense_3[0][0]                    \n",
            "==================================================================================================\n",
            "Total params: 25,694,088\n",
            "Trainable params: 25,640,968\n",
            "Non-trainable params: 53,120\n",
            "__________________________________________________________________________________________________\n"
          ],
          "name": "stdout"
        }
      ]
    },
    {
      "cell_type": "code",
      "metadata": {
        "id": "Vs_1cFm7zIsd",
        "colab_type": "code",
        "colab": {}
      },
      "source": [
        "# compile the model, with rmsprop optimizer\n",
        "model.compile(optimizer='rmsprop', metrics=['accuracy'], loss='categorical_crossentropy')\n",
        "\n",
        "# add callbacks for early stopping\n",
        "checkpointer = ModelCheckpoint(filepath='bestmodel.hdf5', verbose=1, save_best_only=True)\n",
        "earlystopper = EarlyStopping(monitor='val_loss', patience=15, verbose=1)"
      ],
      "execution_count": 0,
      "outputs": []
    },
    {
      "cell_type": "code",
      "metadata": {
        "id": "5cKzyThULJ4V",
        "colab_type": "code",
        "outputId": "b38cfd9d-967d-4329-e4dc-15cf227a1a75",
        "colab": {
          "base_uri": "https://localhost:8080/",
          "height": 71
        }
      },
      "source": [
        "print(\"Number of original train images: \" + str(sum([len(files) for r, d, files in os.walk(train_dir)])))\n",
        "print(\"Number of original validation images: \" + str(sum([len(files) for r, d, files in os.walk(validation_dir)])))\n",
        "print(\"Number of original test images: \" + str(sum([len(files) for r, d, files in os.walk(test_dir)])))"
      ],
      "execution_count": 44,
      "outputs": [
        {
          "output_type": "stream",
          "text": [
            "Number of original train images: 4931\n",
            "Number of original validation images: 615\n",
            "Number of original test images: 621\n"
          ],
          "name": "stdout"
        }
      ]
    },
    {
      "cell_type": "code",
      "metadata": {
        "id": "zTMosQhMLPRi",
        "colab_type": "code",
        "outputId": "c632c1e6-3f3b-4163-d691-10546b4f3eee",
        "colab": {
          "base_uri": "https://localhost:8080/",
          "height": 53
        }
      },
      "source": [
        "# Load the images with ImageDataGenerator. The original images are not augmented as we have a fixed time series images. The Image is rescaled to 0..1 range.\n",
        "train_datagen = ImageDataGenerator(rescale=1./255, rotation_range=0, width_shift_range=0, height_shift_range=0, zoom_range=0, horizontal_flip=False, vertical_flip=False)\n",
        "validation_datagen = ImageDataGenerator(rescale=1./255, rotation_range=0, width_shift_range=0, height_shift_range=0, zoom_range=0, horizontal_flip=False, vertical_flip=False)\n",
        "train_generator = train_datagen.flow_from_directory(train_dir, target_size=(resnet_img_height, resnet_img_width), batch_size=32, class_mode='categorical', seed=42)\n",
        "validation_generator = validation_datagen.flow_from_directory(validation_dir, target_size=(resnet_img_height, resnet_img_width), batch_size=32, class_mode='categorical', seed=42)"
      ],
      "execution_count": 45,
      "outputs": [
        {
          "output_type": "stream",
          "text": [
            "Found 4931 images belonging to 8 classes.\n",
            "Found 615 images belonging to 8 classes.\n"
          ],
          "name": "stdout"
        }
      ]
    },
    {
      "cell_type": "code",
      "metadata": {
        "id": "9znniCPWLRt2",
        "colab_type": "code",
        "outputId": "459e54e8-657d-42a7-8f1c-4dcc96746abb",
        "colab": {
          "base_uri": "https://localhost:8080/",
          "height": 1000
        }
      },
      "source": [
        "# The model used the train generator to load and randomize the data. \n",
        "history = model.fit(train_generator,steps_per_epoch=5,validation_data=validation_generator,validation_steps=10,epochs=150, callbacks=[checkpointer, earlystopper])"
      ],
      "execution_count": 46,
      "outputs": [
        {
          "output_type": "stream",
          "text": [
            "Epoch 1/150\n",
            "5/5 [==============================] - 129s 26s/step - loss: 4.5037 - acc: 0.1500 - val_loss: 2.2267 - val_acc: 0.1625\n",
            "\n",
            "Epoch 00001: val_loss improved from inf to 2.22668, saving model to bestmodel.hdf5\n",
            "Epoch 2/150\n",
            "5/5 [==============================] - 111s 22s/step - loss: 3.2995 - acc: 0.2000 - val_loss: 2.1992 - val_acc: 0.1593\n",
            "\n",
            "Epoch 00002: val_loss improved from 2.22668 to 2.19919, saving model to bestmodel.hdf5\n",
            "Epoch 3/150\n",
            "5/5 [==============================] - 114s 23s/step - loss: 3.1213 - acc: 0.1938 - val_loss: 2.1494 - val_acc: 0.2375\n",
            "\n",
            "Epoch 00003: val_loss improved from 2.19919 to 2.14942, saving model to bestmodel.hdf5\n",
            "Epoch 4/150\n",
            "5/5 [==============================] - 110s 22s/step - loss: 2.7589 - acc: 0.2312 - val_loss: 2.4761 - val_acc: 0.2508\n",
            "\n",
            "Epoch 00004: val_loss did not improve from 2.14942\n",
            "Epoch 5/150\n",
            "5/5 [==============================] - 114s 23s/step - loss: 3.0734 - acc: 0.2375 - val_loss: 3.0681 - val_acc: 0.2062\n",
            "\n",
            "Epoch 00005: val_loss did not improve from 2.14942\n",
            "Epoch 6/150\n",
            "5/5 [==============================] - 98s 20s/step - loss: 2.8559 - acc: 0.2268 - val_loss: 4.1572 - val_acc: 0.1492\n",
            "\n",
            "Epoch 00006: val_loss did not improve from 2.14942\n",
            "Epoch 7/150\n",
            "5/5 [==============================] - 114s 23s/step - loss: 2.7118 - acc: 0.2125 - val_loss: 3.0208 - val_acc: 0.2313\n",
            "\n",
            "Epoch 00007: val_loss did not improve from 2.14942\n",
            "Epoch 8/150\n",
            "5/5 [==============================] - 111s 22s/step - loss: 2.3219 - acc: 0.2625 - val_loss: 2.5937 - val_acc: 0.2441\n",
            "\n",
            "Epoch 00008: val_loss did not improve from 2.14942\n",
            "Epoch 9/150\n",
            "5/5 [==============================] - 115s 23s/step - loss: 2.0407 - acc: 0.2875 - val_loss: 2.6000 - val_acc: 0.2406\n",
            "\n",
            "Epoch 00009: val_loss did not improve from 2.14942\n",
            "Epoch 10/150\n",
            "5/5 [==============================] - 111s 22s/step - loss: 1.9611 - acc: 0.3188 - val_loss: 2.7151 - val_acc: 0.2441\n",
            "\n",
            "Epoch 00010: val_loss did not improve from 2.14942\n",
            "Epoch 11/150\n",
            "5/5 [==============================] - 114s 23s/step - loss: 2.0160 - acc: 0.2500 - val_loss: 2.6579 - val_acc: 0.3094\n",
            "\n",
            "Epoch 00011: val_loss did not improve from 2.14942\n",
            "Epoch 12/150\n",
            "5/5 [==============================] - 111s 22s/step - loss: 1.8818 - acc: 0.2812 - val_loss: 3.8473 - val_acc: 0.2339\n",
            "\n",
            "Epoch 00012: val_loss did not improve from 2.14942\n",
            "Epoch 13/150\n",
            "5/5 [==============================] - 114s 23s/step - loss: 1.9879 - acc: 0.2125 - val_loss: 2.7869 - val_acc: 0.2719\n",
            "\n",
            "Epoch 00013: val_loss did not improve from 2.14942\n",
            "Epoch 14/150\n",
            "5/5 [==============================] - 112s 22s/step - loss: 1.9155 - acc: 0.2563 - val_loss: 4.2421 - val_acc: 0.2814\n",
            "\n",
            "Epoch 00014: val_loss did not improve from 2.14942\n",
            "Epoch 15/150\n",
            "5/5 [==============================] - 115s 23s/step - loss: 2.0914 - acc: 0.2188 - val_loss: 2.1205 - val_acc: 0.3094\n",
            "\n",
            "Epoch 00015: val_loss improved from 2.14942 to 2.12053, saving model to bestmodel.hdf5\n",
            "Epoch 16/150\n",
            "5/5 [==============================] - 112s 22s/step - loss: 2.0003 - acc: 0.2250 - val_loss: 4.9376 - val_acc: 0.2746\n",
            "\n",
            "Epoch 00016: val_loss did not improve from 2.12053\n",
            "Epoch 17/150\n",
            "5/5 [==============================] - 114s 23s/step - loss: 1.8901 - acc: 0.3062 - val_loss: 5.7972 - val_acc: 0.1750\n",
            "\n",
            "Epoch 00017: val_loss did not improve from 2.12053\n",
            "Epoch 18/150\n",
            "5/5 [==============================] - 110s 22s/step - loss: 1.9352 - acc: 0.2875 - val_loss: 3.3799 - val_acc: 0.2678\n",
            "\n",
            "Epoch 00018: val_loss did not improve from 2.12053\n",
            "Epoch 19/150\n",
            "5/5 [==============================] - 113s 23s/step - loss: 1.8876 - acc: 0.2875 - val_loss: 3.4684 - val_acc: 0.2562\n",
            "\n",
            "Epoch 00019: val_loss did not improve from 2.12053\n",
            "Epoch 20/150\n",
            "5/5 [==============================] - 110s 22s/step - loss: 1.8973 - acc: 0.2812 - val_loss: 7.4958 - val_acc: 0.1932\n",
            "\n",
            "Epoch 00020: val_loss did not improve from 2.12053\n",
            "Epoch 21/150\n",
            "5/5 [==============================] - 113s 23s/step - loss: 1.8569 - acc: 0.2938 - val_loss: 5.5341 - val_acc: 0.1719\n",
            "\n",
            "Epoch 00021: val_loss did not improve from 2.12053\n",
            "Epoch 22/150\n",
            "5/5 [==============================] - 109s 22s/step - loss: 2.1680 - acc: 0.3250 - val_loss: 3.3142 - val_acc: 0.1661\n",
            "\n",
            "Epoch 00022: val_loss did not improve from 2.12053\n",
            "Epoch 23/150\n",
            "5/5 [==============================] - 114s 23s/step - loss: 1.8933 - acc: 0.2812 - val_loss: 3.6685 - val_acc: 0.2313\n",
            "\n",
            "Epoch 00023: val_loss did not improve from 2.12053\n",
            "Epoch 24/150\n",
            "5/5 [==============================] - 110s 22s/step - loss: 1.8308 - acc: 0.2563 - val_loss: 3.4547 - val_acc: 0.2305\n",
            "\n",
            "Epoch 00024: val_loss did not improve from 2.12053\n",
            "Epoch 25/150\n",
            "5/5 [==============================] - 113s 23s/step - loss: 1.8226 - acc: 0.3312 - val_loss: 3.2082 - val_acc: 0.2062\n",
            "\n",
            "Epoch 00025: val_loss did not improve from 2.12053\n",
            "Epoch 26/150\n",
            "5/5 [==============================] - 111s 22s/step - loss: 1.8883 - acc: 0.3312 - val_loss: 3.2837 - val_acc: 0.2441\n",
            "\n",
            "Epoch 00026: val_loss did not improve from 2.12053\n",
            "Epoch 27/150\n",
            "5/5 [==============================] - 115s 23s/step - loss: 1.8168 - acc: 0.3188 - val_loss: 4.8420 - val_acc: 0.1812\n",
            "\n",
            "Epoch 00027: val_loss did not improve from 2.12053\n",
            "Epoch 28/150\n",
            "5/5 [==============================] - 110s 22s/step - loss: 1.8929 - acc: 0.2375 - val_loss: 4.6133 - val_acc: 0.2136\n",
            "\n",
            "Epoch 00028: val_loss did not improve from 2.12053\n",
            "Epoch 29/150\n",
            "5/5 [==============================] - 115s 23s/step - loss: 1.7836 - acc: 0.3188 - val_loss: 4.7257 - val_acc: 0.3000\n",
            "\n",
            "Epoch 00029: val_loss did not improve from 2.12053\n",
            "Epoch 30/150\n",
            "5/5 [==============================] - 111s 22s/step - loss: 2.0238 - acc: 0.2625 - val_loss: 3.9718 - val_acc: 0.2475\n",
            "\n",
            "Epoch 00030: val_loss did not improve from 2.12053\n",
            "Epoch 00030: early stopping\n"
          ],
          "name": "stdout"
        }
      ]
    },
    {
      "cell_type": "code",
      "metadata": {
        "id": "JzQkOboxYW4Z",
        "colab_type": "code",
        "outputId": "12eb687d-22a6-4eb1-9063-c5081cc5960b",
        "colab": {
          "base_uri": "https://localhost:8080/",
          "height": 89
        }
      },
      "source": [
        "# loading back the best model\n",
        "saved_model = load_model('bestmodel.hdf5')\n",
        "\n",
        "train_evaluated = saved_model.evaluate(train_generator)\n",
        "validation_evaluated = saved_model.evaluate(validation_generator)\n",
        "print('Training Accuracy: %.3f%%, Training Loss: %.3f' % (train_evaluated[1]*100, train_evaluated[0]))\n",
        "print('Validation Accuracy: %.3f%%, Validation Loss: %.3f' % (validation_evaluated[1]*100, validation_evaluated[0]))"
      ],
      "execution_count": 47,
      "outputs": [
        {
          "output_type": "stream",
          "text": [
            "155/155 [==============================] - 716s 5s/step\n",
            "20/20 [==============================] - 90s 4s/step\n",
            "Training Accuracy: 31.596%, Training Loss: 2.076\n",
            "Validation Accuracy: 29.593%, Validation Loss: 2.136\n"
          ],
          "name": "stdout"
        }
      ]
    },
    {
      "cell_type": "code",
      "metadata": {
        "id": "RdPEJU_48rZn",
        "colab_type": "code",
        "colab": {}
      },
      "source": [
        ""
      ],
      "execution_count": 0,
      "outputs": []
    },
    {
      "cell_type": "code",
      "metadata": {
        "id": "eyQ2FRD9LcjF",
        "colab_type": "code",
        "outputId": "251354cf-8881-4fac-9bb7-1df5495ecbcc",
        "colab": {
          "base_uri": "https://localhost:8080/",
          "height": 499
        }
      },
      "source": [
        "acc = history.history['acc']\n",
        "val_acc = history.history['val_acc']\n",
        "\n",
        "loss = history.history['loss']\n",
        "val_loss = history.history['val_loss']\n",
        "\n",
        "epochs_range = range(len(loss))\n",
        "\n",
        "plt.figure(figsize=(8, 8))\n",
        "plt.subplot(1, 2, 1)\n",
        "plt.plot(epochs_range, acc, label='Training Accuracy')\n",
        "plt.plot(epochs_range, val_acc, label='Validation Accuracy')\n",
        "plt.legend(loc='lower right')\n",
        "plt.title('Training and Validation Accuracy')\n",
        "\n",
        "plt.subplot(1, 2, 2)\n",
        "plt.plot(epochs_range, loss, label='Training Loss')\n",
        "plt.plot(epochs_range, val_loss, label='Validation Loss')\n",
        "plt.legend(loc='upper right')\n",
        "plt.title('Training and Validation Loss')\n",
        "plt.show()"
      ],
      "execution_count": 48,
      "outputs": [
        {
          "output_type": "display_data",
          "data": {
            "image/png": "[encoded data removed]",
            "text/plain": [
              "<Figure size 576x576 with 2 Axes>"
            ]
          },
          "metadata": {
            "tags": []
          }
        }
      ]
    },
    {
      "cell_type": "code",
      "metadata": {
        "id": "9DAPBqnwj_qR",
        "colab_type": "code",
        "outputId": "6190b4a0-9ad1-4b0c-8a1b-34314f68b473",
        "colab": {
          "base_uri": "https://localhost:8080/",
          "height": 197
        }
      },
      "source": [
        "test_datagen = ImageDataGenerator(rescale=1./255, rotation_range=0, width_shift_range=0, height_shift_range=0, zoom_range=0, horizontal_flip=False, vertical_flip=False)\n",
        "test_generator = test_datagen.flow_from_directory(test_dir, shuffle=False, target_size=(resnet_img_height, resnet_img_width), batch_size=32, class_mode='categorical', seed=42)\n",
        "\n",
        "#Confusion Matrix\n",
        "Y_pred = model.predict_generator(test_generator)\n",
        "print(Y_pred.shape)\n",
        "y_pred = np.argmax(Y_pred, axis=1)\n",
        "emotions_confusion_matrix = confusion_matrix(test_generator.classes, y_pred)\n",
        "print(emotions_confusion_matrix)\n"
      ],
      "execution_count": 49,
      "outputs": [
        {
          "output_type": "stream",
          "text": [
            "Found 621 images belonging to 8 classes.\n",
            "(621, 8)\n",
            "[[60  0  6  9  0  0  6  5]\n",
            " [13  1 19 10  0  0 24 23]\n",
            " [31  0 22  6  0  0 19 18]\n",
            " [24  0  2 23  0  0 11 19]\n",
            " [32  0  1 20  0  0 12 12]\n",
            " [12  0  5  4  0  0  2 13]\n",
            " [22  0 10 17  0  0 20 18]\n",
            " [13  0 10 14  0  0  7 26]]\n"
          ],
          "name": "stdout"
        }
      ]
    },
    {
      "cell_type": "code",
      "metadata": {
        "id": "mPQlZHvsmO5k",
        "colab_type": "code",
        "outputId": "f1e3883d-08eb-4d0e-dd7c-1f24ff7e0c5b",
        "colab": {
          "base_uri": "https://localhost:8080/",
          "height": 454
        }
      },
      "source": [
        "emotions = os.listdir(test_dir)\n",
        "emotion_confusion_df = pd.DataFrame(emotions_confusion_matrix, index = emotions,\n",
        "                  columns = emotions)\n",
        "plt.figure(figsize = (10,7))\n",
        "sn.heatmap(emotion_confusion_df, annot=True)\n",
        "plt.xlabel('Predicted', fontsize=18)\n",
        "plt.ylabel('Actual', fontsize=18)\n",
        "plt.show()"
      ],
      "execution_count": 51,
      "outputs": [
        {
          "output_type": "display_data",
          "data": {
            "image/png": "[encoded data removed]",
            "text/plain": [
              "<Figure size 720x504 with 2 Axes>"
            ]
          },
          "metadata": {
            "tags": []
          }
        }
      ]
    },
    {
      "cell_type": "code",
      "metadata": {
        "id": "U2U0VIj2mIhC",
        "colab_type": "code",
        "colab": {}
      },
      "source": [
        "\n"
      ],
      "execution_count": 0,
      "outputs": []
    }
  ]
}